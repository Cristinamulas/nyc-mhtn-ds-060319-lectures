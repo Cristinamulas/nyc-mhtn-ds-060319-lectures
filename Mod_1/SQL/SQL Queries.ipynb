{
 "cells": [
  {
   "cell_type": "markdown",
   "metadata": {},
   "source": [
    "<h1 style='text-align: center'>SQL Queries</h1>"
   ]
  },
  {
   "cell_type": "markdown",
   "metadata": {},
   "source": [
    "## Getting Data From A SQL Database"
   ]
  },
  {
   "cell_type": "markdown",
   "metadata": {},
   "source": [
    "### The Structure of a SQL Query"
   ]
  },
  {
   "cell_type": "markdown",
   "metadata": {},
   "source": [
    "<img src='images/sql_statement.jpg'/>"
   ]
  },
  {
   "cell_type": "markdown",
   "metadata": {},
   "source": [
    "#### SELECT"
   ]
  },
  {
   "cell_type": "markdown",
   "metadata": {},
   "source": [
    "- What columns of data do we want? \n",
    "- Specify by column names or * (All) "
   ]
  },
  {
   "cell_type": "markdown",
   "metadata": {},
   "source": [
    "FROM:\n",
    "\n",
    "- Where are we getting our data from? \n",
    "- Specify by table name or use join statement to join multiple tables"
   ]
  },
  {
   "cell_type": "markdown",
   "metadata": {},
   "source": [
    "##### JOIN "
   ]
  },
  {
   "cell_type": "markdown",
   "metadata": {},
   "source": [
    "- Use to join multiple tables \n",
    "- SELECT * FROM students join favorite_foods on students.id = favorite_foods.student_id\n",
    "- SELECT * FROM students as s join favorite_foods as f on s.id = f.student_id"
   ]
  },
  {
   "cell_type": "markdown",
   "metadata": {},
   "source": [
    "#### WHERE"
   ]
  },
  {
   "cell_type": "markdown",
   "metadata": {},
   "source": [
    "- apply some filter to the data you are querying \n",
    "- define criteria for data that should selected from the database \n",
    "- SELECT * from students WHERE age > 10 \n",
    "- ```agregate funcion apply to every single row in a column```\n",
    "\n"
   ]
  },
  {
   "cell_type": "markdown",
   "metadata": {},
   "source": [
    "#### GROUP BY"
   ]
  },
  {
   "cell_type": "markdown",
   "metadata": {},
   "source": [
    "- Group columns by similar values\n",
    "- SELECT COUNT(id), city from students GROUP BY city\n",
    "-``` group by one is an alias of the first element```\n"
   ]
  },
  {
   "cell_type": "markdown",
   "metadata": {},
   "source": [
    "#### HAVING"
   ]
  },
  {
   "cell_type": "markdown",
   "metadata": {},
   "source": [
    "- Use to apply filter AFTER you have made your initial query \n",
    "- When should we use HAVING instead of WHERE"
   ]
  },
  {
   "cell_type": "code",
   "execution_count": 1,
   "metadata": {},
   "outputs": [],
   "source": [
    "import sqlite3\n",
    "\n",
    "conn = sqlite3.connect('tutorial.db')\n",
    "c = conn.cursor()"
   ]
  },
  {
   "cell_type": "code",
   "execution_count": 2,
   "metadata": {},
   "outputs": [
    {
     "name": "stdout",
     "output_type": "stream",
     "text": [
      "[{'name': 'Sean Abu Wilson', 'birthdate': '02/06', 'siblings': 2, 'Birthplace': 'Birmingham, AL', 'yearsinnyc': 7.8, 'favoritefood': 'guacamole'}, {'name': 'Tawab', 'birthdate': '04/08/1998', 'siblings': 4, 'Birthplace': 'Afghanistan', 'yearsinnyc': 0.5, 'favoritefood': 'pizza'}, {'name': 'Bridget Boakye', 'birthdate': '1990-07-13', 'siblings': 3, 'Birthplace': 'Accra', 'yearsinnyc': 15, 'favoritefood': 'Indian'}, {'name': 'Cristina', 'birthdate': '9/9/1990', 'siblings': 2, 'Birthplace': 'Spain', 'yearsinnyc': 6, 'favoritefood': 'Sushi'}, {'name': 'Danny (Haoyang) Yu', 'birthdate': '1997-03-19', 'siblings': 2, 'Birthplace': '1997-03-19', 'yearsinnyc': 0, 'favoritefood': 'Galbi'}, {'name': 'Dustin_Breitner', 'birthdate': '04/15/94', 'siblings': 2, 'Birthplace': 'New_York', 'yearsinnyc': 3, 'favoritefood': 'Pizza'}, {'name': 'Gregory DeSantis', 'birthdate': '1987-11-23', 'siblings': 2, 'Birthplace': 'Highland Park, NJ', 'yearsinnyc': 13, 'favoritefood': 'Pizza'}, {'name': 'Harrison Miller', 'birthdate': '10/2/85', 'siblings': 0, 'Birthplace': 'New Jersey', 'yearsinnyc': 0, 'favoritefood': 'Pizza'}, {'name': 'Jeremy Owens', 'birthdate': '03/30/1990', 'siblings': 0, 'Birthplace': 'Virginia', 'yearsinnyc': 6, 'favoritefood': 'Avocado'}, {'name': 'Jeremy Reikes', 'birthdate': '1-/12/1995', 'siblings': 1, 'Birthplace': 'New York City', 'yearsinnyc': 23, 'favoritefood': 'Pizza'}, {'name': 'Johnathan Peck', 'birthdate': '02-19-1994', 'siblings': 2, 'Birthplace': 'New York', 'yearsinnyc': 25, 'favoritefood': 'Moms food'}, {'name': 'Minna F', 'birthdate': '11-19-1996', 'siblings': 3, 'Birthplace': 'San Francisco', 'yearsinnyc': 1, 'favoritefood': 'sushi'}, {'name': 'Nabil Abbas', 'birthdate': '12-07-1994', 'siblings': 2, 'Birthplace': 'Long Island', 'yearsinnyc': 6, 'favoritefood': 'Gyro'}, {'name': 'Natalie Del Rossi', 'birthdate': '10-23-1994', 'siblings': 0, 'Birthplace': 'Brooklyn', 'yearsinnyc': 18, 'favoritefood': 'pizza'}, {'name': 'Remy Canario', 'birthdate': '10-11-1988', 'siblings': 0, 'Birthplace': 'New York', 'yearsinnyc': 28, 'favoritefood': 'toast'}, {'name': 'Xristos Katsaros', 'birthdate': '03-24-1986', 'siblings': 1, 'Birthplace': 'Chicago Heights, IL', 'yearsinnyc': 3, 'favoritefood': 'Pizza'}]\n"
     ]
    }
   ],
   "source": [
    "# Load students.json file\n",
    "\n",
    "#your code here\n",
    "import json\n",
    "f=open('students.json','r')\n",
    "data=json.load(f) \n",
    "print(data)"
   ]
  },
  {
   "cell_type": "code",
   "execution_count": 3,
   "metadata": {},
   "outputs": [
    {
     "data": {
      "text/plain": [
       "'Sean Abu Wilson'"
      ]
     },
     "execution_count": 3,
     "metadata": {},
     "output_type": "execute_result"
    }
   ],
   "source": [
    "# iterate over the data and insert each student into the DB\n",
    "data[0]['name']"
   ]
  },
  {
   "cell_type": "code",
   "execution_count": 4,
   "metadata": {},
   "outputs": [],
   "source": [
    "# dynamic data entry example\n",
    "def dynamic_data_entry(person): # we are apssing one dic at the time \n",
    "    \n",
    "    \n",
    "\n",
    "    c.execute(\"\"\"INSERT INTO students (name, birthdate, siblings, Birthplace, yearsinnyc, favoritefood) \n",
    "                VALUES (?, ?, ?, ?,?,?)\"\"\",\n",
    "          (person['name'], person['birthdate'],person['siblings'], person['Birthplace'], person['yearsinnyc'],person['favoritefood'])\n",
    "             )#same order or\n",
    "    # you can pass the values here like exe person['name'], person['birthdate'].... PLEASE LOOK UP \n",
    "    conn.commit()\n",
    "# c.close()\n",
    "# conn.close() "
   ]
  },
  {
   "cell_type": "code",
   "execution_count": 5,
   "metadata": {},
   "outputs": [],
   "source": [
    "for person in data:\n",
    "    dynamic_data_entry(person)"
   ]
  },
  {
   "cell_type": "code",
   "execution_count": 6,
   "metadata": {},
   "outputs": [],
   "source": [
    "conn.commit()"
   ]
  },
  {
   "cell_type": "markdown",
   "metadata": {},
   "source": [
    "### Questions\n",
    "1. What are the names of all of the students?\n",
    "2. Which student has the most siblings?\n",
    "3. How many students are only children?\n",
    "4. Which 3 students have lived in NYC the shortest amount of time?\n",
    "5. How many students are native New Yorkers?\n",
    "6. Do any two students have the same favorite food?\n",
    "7. Which student was born closest to the cohort's graduation date?"
   ]
  },
  {
   "cell_type": "code",
   "execution_count": 63,
   "metadata": {},
   "outputs": [],
   "source": [
    "#1 \n",
    "c.execute(\"\"\"select name from students\"\"\").fetchall()"
   ]
  },
  {
   "cell_type": "code",
   "execution_count": 80,
   "metadata": {},
   "outputs": [
    {
     "data": {
      "text/plain": [
       "[('Tawab',)]"
      ]
     },
     "execution_count": 80,
     "metadata": {},
     "output_type": "execute_result"
    }
   ],
   "source": [
    "# 2\n",
    "c.execute(\"\"\"select name from students order by siblings desc limit 1\"\"\").fetchall()"
   ]
  },
  {
   "cell_type": "code",
   "execution_count": 7,
   "metadata": {},
   "outputs": [
    {
     "data": {
      "text/plain": [
       "[(20,)]"
      ]
     },
     "execution_count": 7,
     "metadata": {},
     "output_type": "execute_result"
    }
   ],
   "source": [
    "#3\n",
    "c.execute(\"\"\" select count(name) from students where siblings == 0\"\"\").fetchall()"
   ]
  },
  {
   "cell_type": "code",
   "execution_count": 69,
   "metadata": {},
   "outputs": [
    {
     "data": {
      "text/plain": [
       "[('Danny (Haoyang) Yu',), ('Harrison Miller',), ('Danny (Haoyang) Yu',)]"
      ]
     },
     "execution_count": 69,
     "metadata": {},
     "output_type": "execute_result"
    }
   ],
   "source": [
    "#4\n",
    "c.execute(\"\"\"select name from students where yearsinnyc = 0 limit 3 \"\"\").fetchall()\n"
   ]
  },
  {
   "cell_type": "code",
   "execution_count": 8,
   "metadata": {},
   "outputs": [
    {
     "data": {
      "text/plain": [
       "[(5,)]"
      ]
     },
     "execution_count": 8,
     "metadata": {},
     "output_type": "execute_result"
    }
   ],
   "source": [
    "#5 you can use  or pipe \n",
    "c.execute(\"\"\" select count(Birthplace) from students where Birthplace == 'New York City'\"\"\").fetchall()"
   ]
  },
  {
   "cell_type": "code",
   "execution_count": 9,
   "metadata": {},
   "outputs": [
    {
     "data": {
      "text/plain": [
       "[('Sean Abu Wilson',),\n",
       " ('Tawab',),\n",
       " ('Bridget Boakye',),\n",
       " ('Cristina',),\n",
       " ('Danny (Haoyang) Yu',),\n",
       " ('Dustin_Breitner',),\n",
       " ('Gregory DeSantis',),\n",
       " ('Harrison Miller',),\n",
       " ('Jeremy Owens',),\n",
       " ('Jeremy Reikes',),\n",
       " ('Johnathan Peck',),\n",
       " ('Minna F',),\n",
       " ('Nabil Abbas',),\n",
       " ('Natalie Del Rossi',),\n",
       " ('Remy Canario',),\n",
       " ('Xristos Katsaros',),\n",
       " ('Sean Abu Wilson',),\n",
       " ('Tawab',),\n",
       " ('Bridget Boakye',),\n",
       " ('Cristina',),\n",
       " ('Danny (Haoyang) Yu',),\n",
       " ('Dustin_Breitner',),\n",
       " ('Gregory DeSantis',),\n",
       " ('Harrison Miller',),\n",
       " ('Jeremy Owens',),\n",
       " ('Jeremy Reikes',),\n",
       " ('Johnathan Peck',),\n",
       " ('Minna F',),\n",
       " ('Nabil Abbas',),\n",
       " ('Natalie Del Rossi',),\n",
       " ('Remy Canario',),\n",
       " ('Xristos Katsaros',),\n",
       " ('Sean Abu Wilson',),\n",
       " ('Tawab',),\n",
       " ('Bridget Boakye',),\n",
       " ('Cristina',),\n",
       " ('Danny (Haoyang) Yu',),\n",
       " ('Dustin_Breitner',),\n",
       " ('Gregory DeSantis',),\n",
       " ('Harrison Miller',),\n",
       " ('Jeremy Owens',),\n",
       " ('Jeremy Reikes',),\n",
       " ('Johnathan Peck',),\n",
       " ('Minna F',),\n",
       " ('Nabil Abbas',),\n",
       " ('Natalie Del Rossi',),\n",
       " ('Remy Canario',),\n",
       " ('Xristos Katsaros',),\n",
       " ('Sean Abu Wilson',),\n",
       " ('Tawab',),\n",
       " ('Bridget Boakye',),\n",
       " ('Cristina',),\n",
       " ('Danny (Haoyang) Yu',),\n",
       " ('Dustin_Breitner',),\n",
       " ('Gregory DeSantis',),\n",
       " ('Harrison Miller',),\n",
       " ('Jeremy Owens',),\n",
       " ('Jeremy Reikes',),\n",
       " ('Johnathan Peck',),\n",
       " ('Minna F',),\n",
       " ('Nabil Abbas',),\n",
       " ('Natalie Del Rossi',),\n",
       " ('Remy Canario',),\n",
       " ('Xristos Katsaros',),\n",
       " ('Cristina',),\n",
       " ('Cristina',),\n",
       " ('Sean Abu Wilson',),\n",
       " ('Tawab',),\n",
       " ('Bridget Boakye',),\n",
       " ('Cristina',),\n",
       " ('Danny (Haoyang) Yu',),\n",
       " ('Dustin_Breitner',),\n",
       " ('Gregory DeSantis',),\n",
       " ('Harrison Miller',),\n",
       " ('Jeremy Owens',),\n",
       " ('Jeremy Reikes',),\n",
       " ('Johnathan Peck',),\n",
       " ('Minna F',),\n",
       " ('Nabil Abbas',),\n",
       " ('Natalie Del Rossi',),\n",
       " ('Remy Canario',),\n",
       " ('Xristos Katsaros',)]"
      ]
     },
     "execution_count": 9,
     "metadata": {},
     "output_type": "execute_result"
    }
   ],
   "source": [
    "#6\n",
    "c.execute(\"\"\"select name from students where favoritefood = favoritefood\"\"\").fetchall()"
   ]
  },
  {
   "cell_type": "code",
   "execution_count": 76,
   "metadata": {},
   "outputs": [
    {
     "data": {
      "text/plain": [
       "[]"
      ]
     },
     "execution_count": 76,
     "metadata": {},
     "output_type": "execute_result"
    }
   ],
   "source": [
    "c.execute(\"\"\"select name from students where birthdate == 9/13 \"\"\").fetchall()\n",
    "#need work done the data is not corrrect "
   ]
  },
  {
   "cell_type": "code",
   "execution_count": null,
   "metadata": {},
   "outputs": [],
   "source": [
    "#answers\n",
    "1. \n",
    "c.execute('''select name from students''').fetchall()\n",
    "\n",
    "2. \n",
    "c.execute(\"\"\"SELECT name, siblings\n",
    "FROM students\n",
    "WHERE siblings = (SELECT MAX(siblings) FROM students);\"\"\").fetchall()\n",
    "[('Florencia Leoni', 4),\n",
    " ('Mohamad Eldebek', 4),\n",
    " ('Menachi Korn', 4),\n",
    " ('Miguel Peña', 4)]\n",
    "\n",
    "3. \n",
    "c.execute(\"\"\"SELECT COUNT(name)\n",
    "FROM students\n",
    "WHERE siblings = 0;\"\"\").fetchone()\n",
    "(3,)\n",
    "\n",
    "4. \n",
    "c.execute('''\n",
    "SELECT name, years_in_nyc from students order by 2 limit 3\n",
    "''').fetchall()\n",
    "\n",
    "5. \n",
    "c.execute('''select  name, birth_place from Students where birth_place like '%NY' ''').fetchall()\n",
    "[('David Miller', 'New York, NY'),\n",
    " ('Amy Li', 'New York, NY'),\n",
    " ('Akshay Sharma', 'New York, NY'),\n",
    " ('Adam Dick', 'New York, NY'),\n",
    " ('Alex Mitrani', 'New York, NY'),\n",
    " ('Nicole Roach', 'Brooklyn, NY')]\n",
    "\n",
    "6. \n",
    "c.execute(\"\"\"SELECT favorite_food, count(favorite_food)\n",
    "FROM students\n",
    "GROUP BY favorite_food\n",
    "HAVING count(favorite_food) > 1\n",
    "\"\"\").fetchall()\n",
    "[('pizza', 2), ('steak', 2)]\n",
    "\n",
    "\n",
    "7. \n",
    "c.execute('''\n",
    "SELECT name,\n",
    "abs(julianday('2018-' || substr(birthdate,1,2) || '-' || substr(birthdate,4,2)) - julianday('2018-06-19'))\n",
    "FROM students\n",
    "ORDER BY 2\n",
    "LIMIT 1\n",
    "''').fetchall() "
   ]
  }
 ],
 "metadata": {
  "kernelspec": {
   "display_name": "Python 3",
   "language": "python",
   "name": "python3"
  },
  "language_info": {
   "codemirror_mode": {
    "name": "ipython",
    "version": 3
   },
   "file_extension": ".py",
   "mimetype": "text/x-python",
   "name": "python",
   "nbconvert_exporter": "python",
   "pygments_lexer": "ipython3",
   "version": "3.7.1"
  }
 },
 "nbformat": 4,
 "nbformat_minor": 2
}
