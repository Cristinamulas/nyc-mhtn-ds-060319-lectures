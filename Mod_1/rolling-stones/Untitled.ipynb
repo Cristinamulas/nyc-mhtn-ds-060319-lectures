{
 "cells": [
  {
   "cell_type": "code",
   "execution_count": null,
   "metadata": {},
   "outputs": [],
   "source": []
  },
  {
   "cell_type": "code",
   "execution_count": 61,
   "metadata": {
    "scrolled": true
   },
   "outputs": [
    {
     "name": "stdout",
     "output_type": "stream",
     "text": [
      "[OrderedDict([('number', '1'), ('year', '1967'), ('album', \"Sgt. Pepper's Lonely Hearts Club Band\"), ('artist', 'The Beatles'), ('genre', 'Rock'), ('subgenre', 'Rock & Roll, Psychedelic Rock')]), OrderedDict([('number', '2'), ('year', '1966'), ('album', 'Pet Sounds'), ('artist', 'The Beach Boys'), ('genre', 'Rock'), ('subgenre', 'Pop Rock, Psychedelic Rock')]), OrderedDict([('number', '3'), ('year', '1966'), ('album', 'Revolver'), ('artist', 'The Beatles'), ('genre', 'Rock'), ('subgenre', 'Psychedelic Rock, Pop Rock')])]\n"
     ]
    }
   ],
   "source": [
    "import csv\n",
    "with open('data.csv') as f:\n",
    "        # we are using DictReader because we want our information to be in dictionary format.\n",
    "        reader = csv.DictReader(f)\n",
    "        new_list = []\n",
    "        for row in reader:\n",
    "           new_list.append(row)\n",
    "        print(new_list[ :3])"
   ]
  },
  {
   "cell_type": "code",
   "execution_count": 43,
   "metadata": {},
   "outputs": [
    {
     "data": {
      "text/plain": [
       "['album']"
      ]
     },
     "execution_count": 43,
     "metadata": {},
     "output_type": "execute_result"
    }
   ],
   "source": [
    "# new_list[1][\"album\"]\n",
    "new_list[1]\n",
    "[\"album\"]"
   ]
  },
  {
   "cell_type": "code",
   "execution_count": 68,
   "metadata": {},
   "outputs": [],
   "source": [
    "#Find by name - Takes in a string that represents the name of an album.\n",
    "#Should return a dictionary with the correct album, or return None.\n",
    "def find_name(x):\n",
    "    for index in range(len(new_list)):\n",
    "        if new_list[index][\"album\"] == x:\n",
    "           return new_list[index]\n",
    "        \n",
    "\n"
   ]
  },
  {
   "cell_type": "code",
   "execution_count": 69,
   "metadata": {},
   "outputs": [
    {
     "name": "stdout",
     "output_type": "stream",
     "text": [
      "OrderedDict([('number', '1'), ('year', '1967'), ('album', \"Sgt. Pepper's Lonely Hearts Club Band\"), ('artist', 'The Beatles'), ('genre', 'Rock'), ('subgenre', 'Rock & Roll, Psychedelic Rock')])\n"
     ]
    }
   ],
   "source": [
    "print(find_name(\"Sgt. Pepper's Lonely Hearts Club Band\"))"
   ]
  },
  {
   "cell_type": "code",
   "execution_count": null,
   "metadata": {},
   "outputs": [],
   "source": [
    "#.Find by rank - Takes in a number that represents the rank in the list of top albums and returns the\n",
    "#album with that rank. If there is no album with that rank, it returns None."
   ]
  },
  {
   "cell_type": "code",
   "execution_count": 89,
   "metadata": {},
   "outputs": [],
   "source": [
    "# def find_rank(num):\n",
    "#     for index in range(len(new_list)):\n",
    "#         if new_list[index]['number'] == num:\n",
    "#             return new_list[index]\n",
    "#     else:\n",
    "#         return None\n",
    "#Find By Rank \n",
    "def find_by_rank(num):\n",
    "    for i in list(range(0, len(new_list))):\n",
    "        if num == new_list[i][\"number\"]:\n",
    "            return (new_list[i])    \n",
    "    return None"
   ]
  },
  {
   "cell_type": "code",
   "execution_count": 92,
   "metadata": {},
   "outputs": [
    {
     "name": "stdout",
     "output_type": "stream",
     "text": [
      "OrderedDict([('number', '6'), ('year', '1971'), ('album', \"What's Going On\"), ('artist', 'Marvin Gaye'), ('genre', 'Funk / Soul'), ('subgenre', 'Soul')])\n"
     ]
    }
   ],
   "source": [
    "print(find_by_rank('6'))"
   ]
  },
  {
   "cell_type": "code",
   "execution_count": 105,
   "metadata": {},
   "outputs": [
    {
     "name": "stdout",
     "output_type": "stream",
     "text": [
      "2\n"
     ]
    }
   ],
   "source": [
    "def cal_mean(x):\n",
    "  \n",
    "    return  sum(x) // len(x)\n",
    "a = [1,2,3]   \n",
    "print(cal_mean(a))"
   ]
  },
  {
   "cell_type": "code",
   "execution_count": 107,
   "metadata": {},
   "outputs": [
    {
     "name": "stdout",
     "output_type": "stream",
     "text": [
      "{}\n"
     ]
    }
   ],
   "source": [
    "a = {}\n",
    "print({})\n",
    "    "
   ]
  },
  {
   "cell_type": "code",
   "execution_count": 109,
   "metadata": {},
   "outputs": [
    {
     "name": "stdout",
     "output_type": "stream",
     "text": [
      "4512253920\n"
     ]
    }
   ],
   "source": [
    "print(id(a))"
   ]
  },
  {
   "cell_type": "code",
   "execution_count": 110,
   "metadata": {},
   "outputs": [
    {
     "name": "stdout",
     "output_type": "stream",
     "text": [
      "4512255216\n"
     ]
    }
   ],
   "source": [
    "b = {}\n",
    "print(id(b))"
   ]
  },
  {
   "cell_type": "code",
   "execution_count": null,
   "metadata": {},
   "outputs": [],
   "source": []
  }
 ],
 "metadata": {
  "kernelspec": {
   "display_name": "Python 3",
   "language": "python",
   "name": "python3"
  },
  "language_info": {
   "codemirror_mode": {
    "name": "ipython",
    "version": 3
   },
   "file_extension": ".py",
   "mimetype": "text/x-python",
   "name": "python",
   "nbconvert_exporter": "python",
   "pygments_lexer": "ipython3",
   "version": "3.7.1"
  }
 },
 "nbformat": 4,
 "nbformat_minor": 2
}
