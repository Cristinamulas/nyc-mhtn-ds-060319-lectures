{
 "cells": [
  {
   "cell_type": "markdown",
   "metadata": {},
   "source": [
    "# Instructions:"
   ]
  },
  {
   "cell_type": "markdown",
   "metadata": {},
   "source": [
    "## Getting Started\n",
    "In this exercise, we will be using data from `rolling stone's top 500 albums`. We have this data contained in the `data.csv` file. We will be building out the following functions to answer questions and interact with this data.\n",
    "\n",
    "> **remember:** reading from a csv file in python looks like the following:\n",
    "\n",
    "```python \n",
    "import csv\n",
    "\n",
    "    with open(file_name) as f:\n",
    "        # we are using DictReader because we want our information to be in dictionary format.\n",
    "        reader = csv.DictReader(f)\n",
    "        # some more code\n",
    "```\n",
    "\n",
    "Once we have our `reader` reading our file as dictionaries, we want our data to be a list of dictionaries. So, we need to loop through our `reader` and create a list. *hint: list comprehension / for loops are your friend\"\n",
    "\n",
    "```python\n",
    "# our data will look something like this once we have read it and turned it into a list of `OrderedDict`s\n",
    "# don't worry, the ordered dicts look different but we can interact with them the same way we do normal dicts\n",
    "[OrderedDict([('number', '1'), ('year', '1967'), ('album', \"Sgt. Pepper's Lonely Hearts Club Band\"), ('artist', 'The Beatles'), ('genre', 'Rock'), ('subgenre', 'Rock & Roll, Psychedelic Rock')]), OrderedDict([('number', '2'), ('year', '1966'), ('album', 'Pet Sounds'), ('artist', 'The Beach Boys'), ('genre', 'Rock'), ('subgenre', 'Pop Rock, Psychedelic Rock')]), OrderedDict([('number', '3'), ('year', '1966'), ('album', 'Revolver'), ('artist', 'The Beatles'), ('genre', 'Rock'), ('subgenre', 'Psychedelic Rock, Pop Rock')])]\n",
    "```\n",
    "\n",
    "After we have our data formated the way we want it, we can now begin working on defining our functions."
   ]
  },
  {
   "cell_type": "code",
   "execution_count": 1,
   "metadata": {},
   "outputs": [
    {
     "data": {
      "text/html": [
       "<div>\n",
       "<style scoped>\n",
       "    .dataframe tbody tr th:only-of-type {\n",
       "        vertical-align: middle;\n",
       "    }\n",
       "\n",
       "    .dataframe tbody tr th {\n",
       "        vertical-align: top;\n",
       "    }\n",
       "\n",
       "    .dataframe thead th {\n",
       "        text-align: right;\n",
       "    }\n",
       "</style>\n",
       "<table border=\"1\" class=\"dataframe\">\n",
       "  <thead>\n",
       "    <tr style=\"text-align: right;\">\n",
       "      <th></th>\n",
       "      <th>number</th>\n",
       "      <th>year</th>\n",
       "      <th>album</th>\n",
       "      <th>artist</th>\n",
       "      <th>genre</th>\n",
       "      <th>subgenre</th>\n",
       "    </tr>\n",
       "  </thead>\n",
       "  <tbody>\n",
       "    <tr>\n",
       "      <th>473</th>\n",
       "      <td>496</td>\n",
       "      <td>1969</td>\n",
       "      <td>Boz Scaggs</td>\n",
       "      <td>Boz Scaggs</td>\n",
       "      <td>Rock</td>\n",
       "      <td>Pop Rock</td>\n",
       "    </tr>\n",
       "    <tr>\n",
       "      <th>474</th>\n",
       "      <td>497</td>\n",
       "      <td>2001</td>\n",
       "      <td>White Blood Cells</td>\n",
       "      <td>The White Stripes</td>\n",
       "      <td>Rock</td>\n",
       "      <td>Indie Rock, Alternative Rock, Blues Rock, Gara...</td>\n",
       "    </tr>\n",
       "    <tr>\n",
       "      <th>475</th>\n",
       "      <td>498</td>\n",
       "      <td>1989</td>\n",
       "      <td>The Stone Roses</td>\n",
       "      <td>The Stone Roses</td>\n",
       "      <td>Rock</td>\n",
       "      <td>Indie Rock</td>\n",
       "    </tr>\n",
       "    <tr>\n",
       "      <th>476</th>\n",
       "      <td>499</td>\n",
       "      <td>1971</td>\n",
       "      <td>Live in Cook County Jail</td>\n",
       "      <td>B.B. King</td>\n",
       "      <td>Blues</td>\n",
       "      <td>Electric Blues</td>\n",
       "    </tr>\n",
       "    <tr>\n",
       "      <th>477</th>\n",
       "      <td>500</td>\n",
       "      <td>1998</td>\n",
       "      <td>Aquemini</td>\n",
       "      <td>OutKast</td>\n",
       "      <td>Hip Hop</td>\n",
       "      <td>Reggae, Gangsta, Soul, Conscious</td>\n",
       "    </tr>\n",
       "  </tbody>\n",
       "</table>\n",
       "</div>"
      ],
      "text/plain": [
       "     number  year                     album             artist    genre  \\\n",
       "473     496  1969                Boz Scaggs         Boz Scaggs     Rock   \n",
       "474     497  2001         White Blood Cells  The White Stripes     Rock   \n",
       "475     498  1989           The Stone Roses    The Stone Roses     Rock   \n",
       "476     499  1971  Live in Cook County Jail          B.B. King    Blues   \n",
       "477     500  1998                  Aquemini            OutKast  Hip Hop   \n",
       "\n",
       "                                              subgenre  \n",
       "473                                           Pop Rock  \n",
       "474  Indie Rock, Alternative Rock, Blues Rock, Gara...  \n",
       "475                                         Indie Rock  \n",
       "476                                     Electric Blues  \n",
       "477                   Reggae, Gangsta, Soul, Conscious  "
      ]
     },
     "execution_count": 1,
     "metadata": {},
     "output_type": "execute_result"
    }
   ],
   "source": [
    "import pandas as pd\n",
    "file = pd.read_csv('data.csv')\n",
    "file.head()\n",
    "file.tail()"
   ]
  },
  {
   "cell_type": "code",
   "execution_count": 14,
   "metadata": {},
   "outputs": [],
   "source": [
    "#Reading CSV\n",
    "# import collections\n",
    "import csv\n",
    "\n",
    "file = 'data.csv'\n",
    "with open(file) as fh:\n",
    "    reader = csv.DictReader(fh, delimiter=',') \n",
    "    # data = [collections.OrderDict(r) for r in reader]\n",
    "#     data = list(reader)\n",
    "    readers = []\n",
    "    for row in reader:\n",
    "         readers.append(row)\n"
   ]
  },
  {
   "cell_type": "code",
   "execution_count": 16,
   "metadata": {},
   "outputs": [
    {
     "data": {
      "text/plain": [
       "\"Sgt. Pepper's Lonely Hearts Club Band\""
      ]
     },
     "execution_count": 16,
     "metadata": {},
     "output_type": "execute_result"
    }
   ],
   "source": [
    "# Retrieving Data From Reader\n",
    "\n",
    "readers[0]['album']\n"
   ]
  },
  {
   "cell_type": "markdown",
   "metadata": {},
   "source": [
    "\n",
    "### Functions to build-out:\n",
    "\n",
    "Each of the following functions can be defined in the `functions.py` file. \n",
    "\n",
    "* **Searching functions**\n",
    "  * Find by name - Takes in a string that represents the name of an album. Should return a dictionary with the correct album, or return `None`.\n",
    "  * Find by rank - Takes in a number that represents the rank in the list of top albums and returns the album with that rank. If there is no album with that rank, it returns `None`.\n",
    "  * Find by year - Takes in a number for the year in which an album was released and returns a list of albums that were released in that year. If there are no albums released in the given year, it returns an empty list.\n",
    "  * Find by years - Takes in a start year and end year. Returns a list of all albums that were released on or between the start and end years. If no albums are found for those years, then an empty list is returned. \n",
    "  * Find by ranks - Takes in a start rank and end rank. Returns a list of albums that are ranked between the start and end ranks. If no albums are found for those ranks, then an empty list is returned.\n",
    "* **All functions**\n",
    "  * All titles - Returns a list of titles for each album.\n",
    "  * All artists - Returns a list of artist names for each album.\n",
    "* **Questions to answer / functions**\n",
    "  * Artists with the most albums - Returns the artist with the highest amount of albums on the list of top albums \n",
    "  * Most popular word - Returns the word used most in amongst all album titles\n",
    "  * Histogram of albums by decade - Returns a histogram with each decade pointing to the number of albums released during that decade.\n",
    "  * Histogram by genre - Returns a histogram with each genre pointing to the number of albums that are categorized as being in that genre."
   ]
  },
  {
   "cell_type": "code",
   "execution_count": null,
   "metadata": {},
   "outputs": [],
   "source": [
    "# if album['album'] == album_name\n",
    "#  return {key: album[key] for key in [ 'number','year','artis']} diccinary comprhamson"
   ]
  },
  {
   "cell_type": "code",
   "execution_count": null,
   "metadata": {},
   "outputs": [],
   "source": [
    "# Most popular word - Returns the word used most in amongst all album titles\n",
    "# take a look of a slicing data first\n",
    "all_words = []\n",
    "for album in data:\n",
    "    album['album']\n",
    "    for word in album_name_slip:\n",
    "        all_word.append(word)\n",
    "# most cmmon word\n",
    "all _words = []\n",
    "for album data :\n",
    "    all_word += album['album'].split()\n",
    "from clollections import Counter\n",
    "Counter([word.lower() for word in all_words]).most_common(1)[0][0]\n",
    "\n",
    "    \n"
   ]
  },
  {
   "cell_type": "code",
   "execution_count": 9,
   "metadata": {},
   "outputs": [
    {
     "data": {
      "image/png": "[encoded data removed]",
      "text/plain": [
       "<Figure size 432x288 with 1 Axes>"
      ]
     },
     "metadata": {
      "needs_background": "light"
     },
     "output_type": "display_data"
    },
    {
     "name": "stdout",
     "output_type": "stream",
     "text": [
      "None\n"
     ]
    }
   ],
   "source": [
    "# histogram by decade\n",
    "\n",
    "[a['year'][:-1] + '0'for a in readers] # list comprehansion look up\n",
    "import matplotlib.pyplot as plt\n",
    "plt.hist([int(a['year'][:-1] + '0') for a in readers], range(1940, 2014, 10))\n",
    "plt.title(\"Histogram with 'auto' bins\")\n",
    "print(plt.show())\n"
   ]
  },
  {
   "cell_type": "code",
   "execution_count": 11,
   "metadata": {},
   "outputs": [],
   "source": [
    "# find by years\n",
    "def find_years(star ,end):\n",
    "    range_ = range(star, end +1)\n",
    "    return range_"
   ]
  },
  {
   "cell_type": "code",
   "execution_count": 13,
   "metadata": {},
   "outputs": [
    {
     "data": {
      "text/plain": [
       "range(1970, 1976)"
      ]
     },
     "execution_count": 13,
     "metadata": {},
     "output_type": "execute_result"
    }
   ],
   "source": [
    "find_years(1970,1975)"
   ]
  },
  {
   "cell_type": "code",
   "execution_count": null,
   "metadata": {},
   "outputs": [],
   "source": [
    "# do small first\n",
    "def find_years(star ,end):\n",
    "    range_ = range(star, end +1)\n",
    "    albums_bewteen_year = []\n",
    "    for album in readers:\n",
    "        if int(album['year'] >= star) and int(album['year'] <= star):\n",
    "            albums_bewteen_year.append(album)\n",
    "    return albums_bewteen_year\n",
    "        \n",
    "   # ry to do this in list comrehasion using the funtion before\n"
   ]
  },
  {
   "cell_type": "code",
   "execution_count": null,
   "metadata": {},
   "outputs": [],
   "source": []
  },
  {
   "cell_type": "code",
   "execution_count": 18,
   "metadata": {},
   "outputs": [],
   "source": [
    "\n",
    "\n",
    "# Find by name searching function\n",
    "\n",
    "def find_by_name(album):\n",
    "    \n",
    "    for i in list(range(len(readers))):\n",
    "        if album == readers[i][\"album\"]:\n",
    "            return (readers[i])\n",
    "        \n",
    "    return None\n",
    "\n"
   ]
  },
  {
   "cell_type": "code",
   "execution_count": 19,
   "metadata": {},
   "outputs": [
    {
     "name": "stdout",
     "output_type": "stream",
     "text": [
      "OrderedDict([('number', '22'), ('year', '1990'), ('album', 'The Complete Recordings'), ('artist', 'Robert Johnson'), ('genre', 'Blues'), ('subgenre', 'Delta Blues')])\n"
     ]
    }
   ],
   "source": [
    "\n",
    "\n",
    "# Call Find by name searching function \n",
    "\n",
    "x = find_by_name(\"The Complete Recordings\")\n",
    "print(x)\n",
    "\n"
   ]
  },
  {
   "cell_type": "code",
   "execution_count": 48,
   "metadata": {},
   "outputs": [],
   "source": [
    "# all function ( all titles)\n",
    "def all_titles(album_list):\n",
    "    new_list =[]\n",
    "    for i in range(len(readers)):\n",
    "        \n",
    "            new_list.append(readers[i]['album'])\n",
    "    return new_list\n",
    "            "
   ]
  },
  {
   "cell_type": "code",
   "execution_count": 24,
   "metadata": {},
   "outputs": [],
   "source": [
    "# call the function\n",
    "# print(all_titles('album'))"
   ]
  },
  {
   "cell_type": "code",
   "execution_count": 13,
   "metadata": {},
   "outputs": [],
   "source": [
    "# all function ( all names)\n",
    "def all_names(album_list):\n",
    "    new_list =[]\n",
    "    for i in range(len(readers)):\n",
    "        \n",
    "            new_list.append(readers[i]['artist'])\n",
    "    return sorted(new_list) # sorted function to order the list"
   ]
  },
  {
   "cell_type": "code",
   "execution_count": 14,
   "metadata": {},
   "outputs": [
    {
     "name": "stdout",
     "output_type": "stream",
     "text": [
      "['A Tribe Called Quest', 'ABBA', 'AC/DC', 'AC/DC', 'Aerosmith', 'Aerosmith', 'Al Green', 'Al Green', 'Al Green', 'Albert King', 'Alice Cooper', 'Amy Winehouse', 'Arcade Fire', 'Arctic Monkeys', 'Aretha Franklin', 'Aretha Franklin', 'B.B. King', 'B.B. King', 'Barry White', 'Beastie Boys', 'Beastie Boys', 'Beck', 'Beck', 'Big Brother & the Holding Company', 'Big Star', 'Big Star', 'Billy Joel', 'Billy Joel', 'Bjork', 'Black Flag', 'Black Sabbath', 'Black Sabbath', 'Black Sabbath', 'Blondie', 'Blood, Sweat & Tears', 'Bo Diddley', 'Bob Dylan', 'Bob Dylan', 'Bob Dylan', 'Bob Dylan', 'Bob Dylan', 'Bob Dylan', 'Bob Dylan', 'Bob Dylan', 'Bob Dylan', 'Bob Dylan', 'Bob Dylan and the Band', 'Bob Marley & The Wailers', 'Bob Marley & The Wailers', 'Bob Marley & The Wailers', 'Bobby \"Blue\" Bland', 'Bonnie Raitt', 'Bonnie Raitt', 'Boz Scaggs', 'Brian Eno', 'Brian Eno', 'Bruce Springsteen', 'Bruce Springsteen', 'Bruce Springsteen', 'Bruce Springsteen', 'Bruce Springsteen', 'Bruce Springsteen', 'Bruce Springsteen', 'Bruce Springsteen', 'Buddy Holly', 'Buffalo Springfield', 'Buzzcocks', 'Carole King', 'Carpenters', 'Cat Stevens', 'Cheap Trick', 'Chuck Berry', 'Coldplay', 'Cream', 'Cream', 'Cream', 'Creedence Clearwater Revival', 'Creedence Clearwater Revival', 'Crosby, Stills & Nash', 'Crosby, Stills, Nash & Young', 'Curtis Mayfield', 'Curtis Mayfield and The Impressions', 'Cyndi Lauper', \"D'Angelo\", 'DEVO', 'David Bowie', 'David Bowie', 'David Bowie', 'David Bowie', 'David Bowie', 'Def Leppard', 'Depeche Mode', 'Derek and the Dominos', 'Diana Ross & The Supremes', 'Dire Straits', 'Dolly Parton', 'Don Henley', 'Dr. Dre', 'Dr. John', 'Dr. John, the Night Tripper', 'Dusty Springfield', 'EPMD', 'Eagles', 'Eagles', 'Earth, Wind & Fire', 'Echo and The Bunnymen', 'Elton John', 'Elton John', 'Elton John', 'Elton John', 'Elvis Costello', 'Elvis Costello', 'Elvis Costello & The Attractions', 'Elvis Costello & The Attractions', 'Elvis Presley', 'Elvis Presley', 'Elvis Presley', 'Eminem', 'Eminem', 'Eric B. & Rakim', 'Eric Clapton', 'Eric Clapton', 'Etta James', 'Eurythmics', 'Fleetwood Mac', 'Fleetwood Mac', 'Frank Sinatra', 'Fugees', 'Funkadelic', 'Funkadelic', 'Gang of Four', 'George Harrison', 'George Michael', 'Graham Parker & The Rumour', 'Gram Parsons', 'Grateful Dead', 'Grateful Dead', 'Grateful Dead', 'Green Day', 'Green Day', \"Guns N' Roses\", 'Hank Williams', 'Hole', \"Howlin' Wolf\", \"Howlin' Wolf\", 'Husker Du', 'Iggy and The Stooges', 'Jackie Wilson', 'Jackson Browne', 'Jackson Browne', 'Jackson Browne', 'James Brown', 'James Brown', 'James Brown', 'James Taylor', \"Jane's Addiction\", 'Janet', 'Janet Jackson', 'Janis Joplin', 'Jay Z', 'Jay Z', 'Jay Z', 'Jeff Buckley', 'Jefferson Airplane', 'Jefferson Airplane', 'Jethro Tull', 'John Coltrane', 'John Coltrane', 'John Lennon', 'John Lennon / Plastic Ono Band', 'John Mayall & The Bluesbreakers', 'John Prine', 'Johnny Cash', 'Johnny Cash', 'Joni Mitchell', 'Joni Mitchell', 'Joy Division', 'KISS', 'KISS', 'Kanye West', 'Kanye West', 'Kanye West', 'L.L. Cool J', 'LCD Soundsystem', 'LaBelle', 'Lauryn Hill', 'Led Zeppelin', 'Led Zeppelin', 'Led Zeppelin', 'Led Zeppelin', 'Led Zeppelin', 'Leonard Cohen', 'Lil Wayne', 'Little Richard', 'Liz Phair', 'Loretta Lynn', 'Los Lobos', 'Lou Reed', 'Lou Reed', 'Love', 'Lucinda Williams', 'Lynyrd Skynyrd', 'M.I.A.', 'MC5', 'MC5', 'MGMT', 'Madonna', 'Madonna', 'Madonna', 'Manu Chao', 'Marvin Gaye', 'Marvin Gaye', 'Marvin Gaye', 'Mary J. Blige', 'Massive Attack', 'Meat Loaf', 'Merle Haggard', 'Metallica', 'Metallica', 'Michael Jackson', 'Michael Jackson', 'Michael Jackson', 'Miles Davis', 'Miles Davis', 'Miles Davis', 'Minutemen', 'Moby', 'Moby Grape', 'Mott the Hoople', 'Mott the Hoople', 'Muddy Waters', 'Muddy Waters', 'Muddy Waters', 'My Bloody Valentine', 'My Morning Jacket', 'N.W.A', 'Nas', 'Neil Diamond', 'Neil Young', 'Neil Young', 'Neil Young', 'Neil Young & Crazy Horse', 'Neil Young & Crazy Horse', 'New York Dolls', 'Nick Drake', 'Nine Inch Nails', 'Nirvana', 'Nirvana', 'Nirvana', 'Oasis', 'Ornette Coleman', 'Otis Redding', 'Otis Redding', 'Otis Redding', 'OutKast', 'OutKast', 'PJ Harvey', 'PJ Harvey', 'Parliament', 'Patsy Cline', 'Patti Smith', 'Paul McCartney & Wings', 'Paul Simon', 'Paul Simon', 'Pavement', 'Pavement', 'Pearl Jam', 'Pearl Jam', 'Peter Gabriel', 'Peter Wolf', 'Phil Spector', 'Phil Spector', 'Pink Floyd', 'Pink Floyd', 'Pink Floyd', 'Pink Floyd', 'Pixies', 'Pixies', 'Portishead', 'Pretenders', 'Prince', 'Prince', 'Prince', 'Prince and the Revolution', 'Professor Longhair', 'Public Enemy', 'Public Enemy', 'Public Image Ltd.', 'Queen', 'Quicksilver Messenger Service', 'R.E.M.', 'R.E.M.', 'R.E.M.', 'Radiohead', 'Radiohead', 'Radiohead', 'Radiohead', 'Radiohead', 'Raekwon', 'Rage Against the Machine', 'Ramones', 'Ramones', 'Randy Newman', 'Randy Newman', 'Randy Newman', 'Ray Charles', 'Ray Charles', 'Red Hot Chili Peppers', 'Red Hot Chili Peppers', 'Richard & Linda Thompson', 'Richard & Linda Thompson', 'Robert Johnson', 'Rod Stewart', 'Roxy Music', 'Roxy Music', 'Run D.M.C.', 'Run D.M.C.', 'Sam Cooke', 'Sam Cooke', 'Santana', 'Santana', 'Sex Pistols', 'Simon & Garfunkel', 'Simon & Garfunkel', 'Simon & Garfunkel', \"Sinead O'Connor\", 'Sleater Kinney', 'Sly & The Family Stone', 'Sly & The Family Stone', 'Sly & The Family Stone', 'Sly & The Family Stone', 'Smokey Robinson & The Miracles', 'Sonic Youth', 'Soundgarden', 'Stan Getz/Joao Gilberto featuring Antonio Carlos Jobim', 'Steely Dan', 'Steely Dan', 'Steely Dan', 'Steve Earle', 'Steve Miller Band', 'Stevie Wonder', 'Stevie Wonder', 'Stevie Wonder', 'Stevie Wonder', 'Suicide', 'T. Rex', 'TLC', 'Talking Heads', 'Talking Heads', 'Talking Heads', 'Talking Heads', 'Television', 'The Allman Brothers Band', \"The B 52's\", 'The Band', 'The Band', 'The Beach Boys', 'The Beach Boys', 'The Beach Boys', 'The Beatles', 'The Beatles', 'The Beatles', 'The Beatles', 'The Beatles', 'The Beatles', 'The Beatles', 'The Beatles', 'The Beatles', 'The Beatles', 'The Byrds', 'The Byrds', 'The Byrds', 'The Byrds', 'The Cars', 'The Clash', 'The Clash', 'The Clash', 'The Crickets', 'The Cure', 'The Cure', 'The Doors', 'The Doors', 'The Doors', 'The Flying Burrito Brothers', \"The Go Go's\", 'The Grateful Dead', 'The Jesus and Mary Chain', 'The Jimi Hendrix Experience', 'The Jimi Hendrix Experience', 'The Jimi Hendrix Experience', 'The Kinks', 'The Magnetic Fields', 'The Mamas and the Papas', 'The Meters', 'The Meters', 'The Modern Lovers', 'The Mothers of Invention', 'The Mothers of Invention', 'The Notorious B.I.G.', 'The Notorious B.I.G.', \"The O'Jays\", 'The Paul Butterfield Blues Band', 'The Pogues', 'The Police', 'The Police', 'The Police', 'The Police', 'The Replacements', 'The Replacements', 'The Rolling Stones', 'The Rolling Stones', 'The Rolling Stones', 'The Rolling Stones', 'The Rolling Stones', 'The Rolling Stones', 'The Rolling Stones', 'The Rolling Stones', 'The Rolling Stones', 'The Rolling Stones', 'The Ronettes', 'The Smashing Pumpkins', 'The Smiths', 'The Smiths', 'The Smiths', 'The Smiths', 'The Stone Roses', 'The Stooges', 'The Stooges', 'The Strokes', 'The Velvet Underground', 'The Velvet Underground', 'The Velvet Underground', 'The Velvet Underground', 'The Wailers', 'The Wailers', 'The White Stripes', 'The White Stripes', 'The Who', 'The Who', 'The Who', 'The Who', 'The Who', 'The Who', 'The Who', 'The Yardbirds', 'The Zombies', 'Todd Rundgren', 'Tom Petty and the Heartbreakers', 'Tom Waits', 'Tom Waits', 'Tom Waits', 'Toots & The Maytals', 'Tracy Chapman', 'U2', 'U2', 'U2', 'U2', 'U2', 'Vampire Weekend', 'Van Halen', 'Van Morrison', 'Van Morrison', 'Various', 'Various Artists', 'Various Artists', 'Various Artists', 'War', 'Weezer', 'Whitney Houston', 'Wilco', 'Willie Nelson', 'Willie Nelson', 'Wire', 'Wu Tang Clan', 'X', 'X', 'ZZ Top', 'ZZ Top']\n"
     ]
    }
   ],
   "source": [
    "print(all_names('artist'))\n",
    "# note some artist are repeated we can use set if we wnat unique values"
   ]
  },
  {
   "cell_type": "code",
   "execution_count": 25,
   "metadata": {},
   "outputs": [],
   "source": [
    "# function with the most amount of artist\n",
    "#Artists with the most albums - Returns the artist with the highest \n",
    "#amount of albums on the list of top albums\n",
    "def most_artist(album_list):\n",
    "    counter =[]\n",
    "    for i in range(len(readers)):\n",
    "        if readers[i][\"album\"] not in counter:\n",
    "               readers[i][\"album\"] = 1\n",
    "        else:\n",
    "               readers[i][\"album\"] += 1\n",
    "    return counter\n",
    "# def most_artist(album_list):\n",
    "#     new_list =[]\n",
    "#     for i in range(len(readers)):\n",
    "        \n",
    "#             new_list.append(readers[i]['artist'])\n",
    "#     return sorted(new_list) \n"
   ]
  },
  {
   "cell_type": "code",
   "execution_count": 107,
   "metadata": {},
   "outputs": [
    {
     "name": "stdout",
     "output_type": "stream",
     "text": [
      "[]\n"
     ]
    }
   ],
   "source": [
    "# Function for finding an artist \n",
    "#Artists with the most albums - Returns the artist \n",
    "#with the highest amount of albums on the list of top albums\n",
    "# key artis value counter\n",
    "def find_by_artist(artist):\n",
    "  \n",
    "    x = []\n",
    "    for i in list(range( len(readers))):\n",
    "        if artist == readers[i][\"artist\"]:\n",
    "            x.append(readers[i])   \n",
    "    return x\n",
    "print(find_by_artist(readers))\n",
    "def artist_most_albums():\n",
    "    readers_num = list(map(lambda x: {x[\"artist\"]:len(find_by_artist(x[\"artist\"]))}, readers))\n",
    "    num = 0\n",
    "    return readers_num\n",
    "    for i in range( len(readers_num)):\n",
    "        if readers_num[i][readers] > num:\n",
    "            num = readers_num[i].values()\n",
    "            max_artist = readers_num[i]\n",
    "            \n",
    "    max_artist_list = []\n",
    "    for i in range(len(readers_num)):\n",
    "        if readers_num[i] == num: \n",
    "            max_artist_list.append(readers_num[i])\n",
    "    return readers_num\n"
   ]
  },
  {
   "cell_type": "code",
   "execution_count": 106,
   "metadata": {},
   "outputs": [
    {
     "name": "stdout",
     "output_type": "stream",
     "text": [
      "<function artist_most_albums at 0x11184b730>\n"
     ]
    }
   ],
   "source": [
    "print(artist_most_albums)\n"
   ]
  },
  {
   "cell_type": "code",
   "execution_count": 26,
   "metadata": {},
   "outputs": [
    {
     "name": "stdout",
     "output_type": "stream",
     "text": [
      "[]\n"
     ]
    }
   ],
   "source": [
    "print(most_artist('artist'))\n"
   ]
  },
  {
   "cell_type": "code",
   "execution_count": 50,
   "metadata": {},
   "outputs": [],
   "source": [
    "# Histogram of albums by decade - Returns a histogram with each decade \n",
    "#pointing to the number of albums released during that decade.\n",
    "# def year_album(x):\n",
    "#     new =[]\n",
    "#     for i in len(range(x)):\n",
    "#         new.append(x[i]['year'])\n",
    "#     return new\n",
    "# print(year_album(readers))\n",
    "#Find by Years\n",
    "# def find_by_years(year_min,year_max):\n",
    "  \n",
    "#     x = []\n",
    "#     for i in list(range(0, len(readers))):\n",
    "#         if int(readers[i][\"year\"]) >= year_min and int(readers[i][\"year\"]) <= year_max:\n",
    "#             x.append(readers[i])   \n",
    "#     return x\n",
    "def year_group(x):\n",
    "    new_list = []\n",
    "    for i in range(len(x)):\n",
    "        new_list.append(x[i]['year'])\n",
    "    sorted_decade= sorted(new_list[:3] 0)\n",
    "    return sorted_decade.groupdic()\n",
    "#     dicti = {}\n",
    "#     for i in range(len( sorted_decade)):\n",
    "#         if i not in soted_decade:\n",
    "#            return dicti.update(i)\n",
    "    \n",
    "        \n",
    "    \n",
    "        \n",
    "        \n",
    "\n",
    "    \n",
    "\n",
    "# import matplotlib.pyplot as plt\n",
    "# year = \n",
    "# plt.hist('year','album', bins='auto')  # arguments are passed to np.histogram\n",
    "# plt.title(\"Histogram with 'auto' bins\")\n",
    "# print(plt.show())"
   ]
  },
  {
   "cell_type": "code",
   "execution_count": 51,
   "metadata": {},
   "outputs": [
    {
     "ename": "AttributeError",
     "evalue": "'list' object has no attribute 'groupdic'",
     "output_type": "error",
     "traceback": [
      "\u001b[0;31m---------------------------------------------------------------------------\u001b[0m",
      "\u001b[0;31mAttributeError\u001b[0m                            Traceback (most recent call last)",
      "\u001b[0;32m<ipython-input-51-f27356f76c73>\u001b[0m in \u001b[0;36m<module>\u001b[0;34m\u001b[0m\n\u001b[0;32m----> 1\u001b[0;31m \u001b[0mu\u001b[0m \u001b[0;34m=\u001b[0m \u001b[0myear_group\u001b[0m\u001b[0;34m(\u001b[0m\u001b[0mreaders\u001b[0m\u001b[0;34m)\u001b[0m\u001b[0;34m\u001b[0m\u001b[0;34m\u001b[0m\u001b[0m\n\u001b[0m\u001b[1;32m      2\u001b[0m \u001b[0me\u001b[0m \u001b[0;34m=\u001b[0m\u001b[0;34m(\u001b[0m\u001b[0mu\u001b[0m\u001b[0;34m)\u001b[0m\u001b[0;34m\u001b[0m\u001b[0;34m\u001b[0m\u001b[0m\n",
      "\u001b[0;32m<ipython-input-50-c12b46bb0d49>\u001b[0m in \u001b[0;36myear_group\u001b[0;34m(x)\u001b[0m\n\u001b[1;32m     20\u001b[0m         \u001b[0mnew_list\u001b[0m\u001b[0;34m.\u001b[0m\u001b[0mappend\u001b[0m\u001b[0;34m(\u001b[0m\u001b[0mx\u001b[0m\u001b[0;34m[\u001b[0m\u001b[0mi\u001b[0m\u001b[0;34m]\u001b[0m\u001b[0;34m[\u001b[0m\u001b[0;34m'year'\u001b[0m\u001b[0;34m]\u001b[0m\u001b[0;34m)\u001b[0m\u001b[0;34m\u001b[0m\u001b[0;34m\u001b[0m\u001b[0m\n\u001b[1;32m     21\u001b[0m     \u001b[0msorted_decade\u001b[0m\u001b[0;34m=\u001b[0m \u001b[0msorted\u001b[0m\u001b[0;34m(\u001b[0m\u001b[0mnew_list\u001b[0m\u001b[0;34m)\u001b[0m\u001b[0;34m\u001b[0m\u001b[0;34m\u001b[0m\u001b[0m\n\u001b[0;32m---> 22\u001b[0;31m     \u001b[0;32mreturn\u001b[0m \u001b[0msorted_decade\u001b[0m\u001b[0;34m.\u001b[0m\u001b[0mgroupdic\u001b[0m\u001b[0;34m(\u001b[0m\u001b[0;34m)\u001b[0m\u001b[0;34m\u001b[0m\u001b[0;34m\u001b[0m\u001b[0m\n\u001b[0m\u001b[1;32m     23\u001b[0m \u001b[0;31m#     dicti = {}\u001b[0m\u001b[0;34m\u001b[0m\u001b[0;34m\u001b[0m\u001b[0;34m\u001b[0m\u001b[0m\n\u001b[1;32m     24\u001b[0m \u001b[0;31m#     for i in range(len( sorted_decade)):\u001b[0m\u001b[0;34m\u001b[0m\u001b[0;34m\u001b[0m\u001b[0;34m\u001b[0m\u001b[0m\n",
      "\u001b[0;31mAttributeError\u001b[0m: 'list' object has no attribute 'groupdic'"
     ]
    }
   ],
   "source": [
    "u = year_group(readers)\n",
    "e =(u)"
   ]
  },
  {
   "cell_type": "code",
   "execution_count": 44,
   "metadata": {},
   "outputs": [
    {
     "data": {
      "image/png": "[encoded data removed]",
      "text/plain": [
       "<Figure size 432x288 with 1 Axes>"
      ]
     },
     "metadata": {
      "needs_background": "light"
     },
     "output_type": "display_data"
    },
    {
     "name": "stdout",
     "output_type": "stream",
     "text": [
      "None\n"
     ]
    }
   ],
   "source": [
    "import matplotlib.pyplot as plt\n",
    "plt.hist(e[::10], bins='auto')\n",
    "plt.title(\"Histogram with 'auto' bins\")\n",
    "print(plt.show())"
   ]
  },
  {
   "cell_type": "code",
   "execution_count": 8,
   "metadata": {},
   "outputs": [],
   "source": [
    "# most frequece words\n",
    "\n",
    "# Most popular word - \n",
    "# Returns the word used most in amongst all album titles\n",
    "# def most_freque(readers):\n",
    "#     new_list =[]\n",
    "#     for i in range(len(readers)):\n",
    "# #         print(readers[i]['album'])\n",
    "#         new_list.append(readers[i]['album'].split())\n",
    "     \n",
    "#     return new_list\n",
    "# def num_words(x):\n",
    "#     most_freque = most_freque\n",
    "# def most_word(x):\n",
    "#     counter = []\n",
    "#     for i in range(len(x)):\n",
    "#         counter.append([x]['album'].split())\n",
    "#         for u in range(len(i)):\n",
    "# #             counter.append([x]['album'].split())\n",
    "#     return counter\n",
    "def find_by_years(year_min,year_max):\n",
    "  \n",
    "    x = []\n",
    "    for i in list(range(0, len(readers))):\n",
    "        if int(readers[i][\"year\"]) >= year_min and int(readers[i][\"year\"]) <= year_max:\n",
    "            x.append(readers[i])   \n",
    "    return x      \n",
    "        \n"
   ]
  },
  {
   "cell_type": "code",
   "execution_count": 10,
   "metadata": {},
   "outputs": [
    {
     "ename": "TypeError",
     "evalue": "find_by_years() missing 1 required positional argument: 'year_max'",
     "output_type": "error",
     "traceback": [
      "\u001b[0;31m---------------------------------------------------------------------------\u001b[0m",
      "\u001b[0;31mTypeError\u001b[0m                                 Traceback (most recent call last)",
      "\u001b[0;32m<ipython-input-10-3ae5a5786242>\u001b[0m in \u001b[0;36m<module>\u001b[0;34m\u001b[0m\n\u001b[0;32m----> 1\u001b[0;31m \u001b[0mprint\u001b[0m\u001b[0;34m(\u001b[0m\u001b[0mfind_by_years\u001b[0m\u001b[0;34m(\u001b[0m\u001b[0mreaders\u001b[0m\u001b[0;34m)\u001b[0m\u001b[0;34m)\u001b[0m\u001b[0;34m\u001b[0m\u001b[0;34m\u001b[0m\u001b[0m\n\u001b[0m",
      "\u001b[0;31mTypeError\u001b[0m: find_by_years() missing 1 required positional argument: 'year_max'"
     ]
    }
   ],
   "source": [
    "print(find_by_years(readers))\n"
   ]
  },
  {
   "cell_type": "code",
   "execution_count": 99,
   "metadata": {},
   "outputs": [
    {
     "name": "stdout",
     "output_type": "stream",
     "text": [
      "[['Sgt.', \"Pepper's\", 'Lonely', 'Hearts', 'Club', 'Band'], ['Pet', 'Sounds'], ['Revolver'], ['Highway', '61', 'Revisited'], ['Rubber', 'Soul'], [\"What's\", 'Going', 'On'], ['Exile', 'on', 'Main', 'St.'], ['London', 'Calling'], ['Blonde', 'on', 'Blonde'], ['The', 'Beatles', '(\"The', 'White', 'Album\")'], ['The', 'Sun', 'Sessions'], ['Kind', 'of', 'Blue'], ['The', 'Velvet', 'Underground', '&', 'Nico'], ['Abbey', 'Road'], ['Are', 'You', 'Experienced'], ['Blood', 'on', 'the', 'Tracks'], ['Nevermind'], ['Born', 'to', 'Run'], ['Astral', 'Weeks'], ['Thriller'], ['The', 'Great', 'Twenty', 'Eight'], ['The', 'Complete', 'Recordings'], ['John', 'Lennon/Plastic', 'Ono', 'Band'], ['Innervisions'], ['Live', 'at', 'the', 'Apollo,', '1962'], ['Rumours'], ['The', 'Joshua', 'Tree'], [\"Who's\", 'Next'], ['Led', 'Zeppelin'], ['Blue'], ['Bringing', 'It', 'All', 'Back', 'Home'], ['Let', 'It', 'Bleed'], ['Ramones'], ['Music', 'From', 'Big', 'Pink'], ['The', 'Rise', 'and', 'Fall', 'of', 'Ziggy', 'Stardust', 'and', 'the', 'Spiders', 'From', 'Mars'], ['Tapestry'], ['Hotel', 'California'], ['The', 'Anthology'], ['Please', 'Please', 'Me'], ['Forever', 'Changes'], ['Never', 'Mind', 'the', 'Bollocks', \"Here's\", 'the', 'Sex', 'Pistols'], ['The', 'Doors'], ['The', 'Dark', 'Side', 'of', 'the', 'Moon'], ['Horses'], ['The', 'Brown', 'Album'], ['The', 'Best', 'of', 'Bob', 'Marley', 'and', 'The', 'Wailers'], ['A', 'Love', 'Supreme'], ['It', 'Takes', 'a', 'Nation', 'of', 'Millions', 'to', 'Hold', 'Us', 'Back'], ['At', 'Fillmore', 'East'], [\"Here's\", 'Little', 'Richard'], ['Bridge', 'Over', 'Troubled', 'Water'], ['Greatest', 'Hits'], ['Meet', 'The', 'Beatles!'], ['The', 'Birth', 'of', 'Soul'], ['Electric', 'Ladyland'], ['Elvis', 'Presley'], ['Songs', 'in', 'the', 'Key', 'of', 'Life'], ['Beggars', 'Banquet'], ['Chronicle:', 'The', '20', 'Greatest', 'Hits'], ['Greatest', 'Hits'], ['Appetite', 'for', 'Destruction'], ['Achtung', 'Baby'], ['Sticky', 'Fingers'], ['Back', 'to', 'Mono'], ['Moondance'], ['Kid', 'A'], ['Off', 'the', 'Wall'], ['[Led', 'Zeppelin', 'IV]'], ['The', 'Stranger'], ['Graceland'], ['Superfly'], ['Physical', 'Graffiti'], ['After', 'the', 'Gold', 'Rush'], ['Star', 'Time'], ['Purple', 'Rain'], ['Back', 'in', 'Black'], ['Otis', 'Blue:', 'Otis', 'Redding', 'Sings', 'Soul'], ['Led', 'Zeppelin', 'II'], ['Imagine'], ['The', 'Clash'], ['Harvest'], ['Axis:', 'Bold', 'as', 'Love'], ['I', 'Never', 'Loved', 'a', 'Man', 'the', 'Way', 'I', 'Love', 'You'], ['Lady', 'Soul'], ['Born', 'in', 'the', 'U.S.A.'], ['The', 'Wall'], ['At', 'Folsom', 'Prison'], ['Dusty', 'in', 'Memphis'], ['Talking', 'Book'], ['Goodbye', 'Yellow', 'Brick', 'Road'], ['20', 'Golden', 'Greats'], ['Sign', \"'O'\", 'the', 'Times'], ['40', 'Greatest', 'Hits'], ['Bitches', 'Brew'], ['Tommy'], ['The', \"Freewheelin'\", 'Bob', 'Dylan'], ['This', \"Year's\", 'Model'], [\"There's\", 'a', 'Riot', \"Goin'\", 'On'], ['Odessey', 'and', 'Oracle'], ['In', 'the', 'Wee', 'Small', 'Hours'], ['Fresh', 'Cream'], ['Giant', 'Steps'], ['Sweet', 'Baby', 'James'], ['Rocket', 'to', 'Russia'], ['Portrait', 'of', 'a', 'Legend', '1951-1964'], ['Hunky', 'Dory'], ['Aftermath'], ['Loaded'], ['The', 'Bends'], ['If', 'You', 'Can', 'Believe', 'Your', 'Eyes', 'and', 'Ears'], ['Court', 'and', 'Spark'], ['Disraeli', 'Gears'], ['The', 'Who', 'Sell', 'Out'], ['Out', 'of', 'Our', 'Heads'], ['Layla', 'and', 'Other', 'Assorted', 'Love', 'Songs'], ['Late', 'Registration'], ['At', 'Last!'], ['Sweetheart', 'of', 'the', 'Rodeo'], ['Stand!'], ['The', 'Harder', 'They', 'Come'], ['Raising', 'Hell'], ['Moby', 'Grape'], ['Pearl'], ['Catch', 'a', 'Fire'], ['Younger', 'Than', 'Yesterday'], ['Raw', 'Power'], ['Remain', 'in', 'Light'], ['Marquee', 'Moon'], ['Paranoid'], ['Saturday', 'Night', 'Fever:', 'The', 'Original', 'Movie', 'Soundtrack', 'Deluxe', 'Edition'], ['The', 'Wild,', 'the', 'Innocent', '&', 'the', 'E', 'Street', 'Shuffle'], ['Ready', 'to', 'Die'], ['Slanted', 'and', 'Enchanted'], ['Greatest', 'Hits'], ['Tim'], ['The', 'Chronic'], ['Rejuvenation'], ['Parallel', 'Lines'], ['Live', 'at', 'the', 'Regal'], ['A', 'Christmas', 'Gift', 'for', 'You', 'From', 'Phil', 'Spector'], ['Gris-Gris'], ['Straight', 'Outta', 'Compton'], ['Aja'], ['Surrealistic', 'Pillow'], ['Deja', 'vu'], ['Houses', 'of', 'the', 'Holy'], ['Santana'], ['Darkness', 'on', 'the', 'Edge', 'of', 'Town'], ['Funeral'], ['The', 'B', \"52's\"], ['The', 'Low', 'End', 'Theory'], [\"Moanin'\", 'in', 'the', 'Moonlight'], ['Pretenders'], [\"Paul's\", 'Boutique'], ['Closer'], ['Captain', 'Fantastic', 'and', 'the', 'Brown', 'Dirt', 'Cowboy'], ['Alive!'], ['Electric', 'Warrior'], ['The', 'Dock', 'of', 'the', 'Bay'], ['OK', 'Computer'], ['1999'], [\"Let's\", 'Get', 'It', 'On'], ['Imperial', 'Bedroom'], ['Master', 'of', 'Puppets'], ['My', 'Aim', 'Is', 'True'], ['Exodus'], ['Live', 'at', 'Leeds'], ['The', 'Notorious', 'Byrd', 'Brothers'], ['Every', 'Picture', 'Tells', 'a', 'Story'], ['Something/Anything?'], ['Desire'], ['Close', 'to', 'You'], ['Rocks'], ['One', 'Nation', 'Under', 'a', 'Groove'], ['The', 'Anthology:', '1961-1977'], ['The', 'Definitive', 'Collection'], ['The', 'Rolling', 'Stones,', 'Now!'], ['Natty', 'Dread'], ['Fleetwood', 'Mac'], ['Red', 'Headed', 'Stranger'], ['The', 'Immaculate', 'Collection'], ['The', 'Stooges'], ['Fresh'], ['So'], ['Buffalo', 'Springfield', 'Again'], ['Happy', 'Trails'], ['From', 'Elvis', 'in', 'Memphis'], ['Fun', 'House'], ['The', 'Gilded', 'Palace', 'of', 'Sin'], ['Dookie'], ['Transformer'], ['The', 'Beano', 'Album'], ['Murmur'], ['Is', 'This', 'It'], ['Highway', 'to', 'Hell'], ['The', 'Downward', 'Spiral'], ['Parsley,', 'Sage,', 'Rosemary', 'and', 'Thyme'], ['Bad'], ['Modern', 'Times'], ['Wheels', 'of', 'Fire'], ['Dirty', 'Mind'], ['Abraxas'], ['Tea', 'for', 'the', 'Tillerman'], ['Ten'], ['Everybody', 'Knows', 'This', 'Is', 'Nowhere'], ['Wish', 'You', 'Were', 'Here'], ['Crooked', 'Rain', 'Crooked', 'Rain'], ['Tattoo', 'You'], ['New', 'York', 'Dolls'], ['Bo', 'Diddley', '/', 'Go', 'Bo', 'Diddley'], ['Two', 'Steps', 'From', 'the', 'Blues'], ['The', 'Queen', 'Is', 'Dead'], ['Licensed', 'to', 'Ill'], ['Look-Ka', 'Py', 'Py'], ['Loveless'], ['New', 'Orleans', 'Piano'], ['War'], ['The', 'Neil', 'Diamond', 'Collection'], ['American', 'Idiot'], ['Nebraska'], ['Doolittle'], ['Paid', 'in', 'Full'], ['Toys', 'in', 'the', 'Attic'], ['Nick', 'of', 'Time'], ['A', 'Night', 'at', 'the', 'Opera'], ['Mr.', 'Tambourine', 'Man'], ['Bookends'], ['The', 'Ultimate', 'Collection'], ['Mr.', 'Excitement!'], ['My', 'Generation'], [\"Howlin'\", 'Wolf'], ['Like', 'a', 'Prayer'], [\"Can't\", 'Buy', 'a', 'Thrill'], ['Let', 'It', 'Be'], ['Run', 'D.M.C.'], ['Black', 'Sabbath'], ['The', 'Marshall', 'Mathers', 'LP'], ['Freak', 'Out!'], ['Live/Dead'], ['The', 'Shape', 'of', 'Jazz', 'to', 'Come'], ['Automatic', 'for', 'the', 'People'], ['Reasonable', 'Doubt'], ['Low'], ['The', 'Blueprint'], ['The', 'River'], ['Complete', '&', 'Unbelievable:', 'The', 'Otis', 'Redding', 'Dictionary', 'of', 'Soul'], ['Metallica', '(\"The', 'Black', 'Album\")'], ['Whitney', 'Houston'], ['The', 'Kinks', 'Are', 'The', 'Village', 'Green', 'Preservation', 'Society'], ['The', 'Velvet', 'Rope'], ['Stardust'], ['American', 'Beauty'], ['Crosby,', 'Stills', '&', 'Nash'], ['Tracy', 'Chapman'], [\"Workingman's\", 'Dead'], ['The', 'Genius', 'of', 'Ray', 'Charles'], ['Child', 'Is', 'Father', 'to', 'the', 'Man'], ['Quadrophenia'], ['Paul', 'Simon'], ['Psychocandy'], ['Some', 'Girls'], ['The', 'Beach', 'Boys', 'Today!'], ['Dig', 'Me', 'Out'], ['Going', 'to', 'a', 'Go-Go'], ['Nightbirds'], ['The', 'Slim', 'Shady', 'LP'], ['Mothership', 'Connection'], ['Rhythm', 'Nation', '1814'], ['Aladdin', 'Sane'], ['All', 'That', 'You', \"Can't\", 'Leave', 'Behind'], ['My', 'Life'], ['Folk', 'Singer'], [\"Can't\", 'Get', 'Enough'], ['The', 'Cars'], ['Music', 'of', 'My', 'Mind'], [\"I'm\", 'Still', 'in', 'Love', 'With', 'You'], ['Los', 'Angeles'], ['Anthem', 'of', 'the', 'Sun'], ['Call', 'Me'], ['Talking', 'Heads:', '77'], ['The', 'Basement', 'Tapes'], ['White', 'Light/White', 'Heat'], ['Kick', 'Out', 'the', 'Jams'], ['Songs', 'of', 'Love', 'and', 'Hate'], ['Meat', 'Is', 'Murder'], [\"We're\", 'Only', 'in', 'It', 'for', 'the', 'Money'], ['The', 'College', 'Dropout'], ['Weezer', '(Blue', 'Album)'], ['Master', 'of', 'Reality'], ['Coat', 'of', 'Many', 'Colors'], ['Fear', 'of', 'a', 'Black', 'Planet'], ['John', 'Wesley', 'Harding'], ['Grace'], ['Car', 'Wheels', 'on', 'a', 'Gravel', 'Road'], ['Odelay'], ['A', 'Hard', \"Day's\", 'Night'], ['Willy', 'and', 'the', 'Poor', 'Boys'], ['Blood', 'Sugar', 'Sex', 'Magik'], ['The', 'Sun', 'Records', 'Collection'], [\"Nothing's\", 'Shocking'], ['MTV', 'Unplugged', 'in', 'New', 'York'], ['The', 'Miseducation', 'of', 'Lauryn', 'Hill'], ['Damn', 'the', 'Torpedoes'], ['The', 'Velvet', 'Underground'], ['Surfer', 'Rosa'], ['Back', 'Stabbers'], [\"Burnin'\"], ['Amnesiac'], ['Pink', 'Moon'], ['Sail', 'Away'], ['Ghost', 'in', 'the', 'Machine'], ['Station', 'to', 'Station'], ['Slowhand'], ['Disintegration'], ['Exile', 'in', 'Guyville'], ['Daydream', 'Nation'], ['In', 'the', 'Jungle', 'Groove'], [\"Tonight's\", 'the', 'Night'], ['Help!'], ['Shoot', 'Out', 'the', 'Lights'], ['Wild', 'Gift'], ['Squeezing', 'Out', 'Sparks'], ['Superunknown'], ['In', 'Rainbows'], ['Aqualung'], ['Cheap', 'Thrills'], ['The', 'Heart', 'of', 'Saturday', 'Night'], ['Damaged'], ['Play'], ['Violator'], ['Bat', 'Out', 'of', 'Hell'], ['Berlin'], ['Stop', 'Making', 'Sense'], ['The', 'Piper', 'at', 'the', 'Gates', 'of', 'Dawn'], ['Muddy', 'Waters', 'at', 'Newport', '1960'], ['The', 'Black', 'Album'], ['Roger', 'the', 'Engineer'], ['Rust', 'Never', 'Sleeps'], ['Brothers', 'in', 'Arms'], ['My', 'Beautiful', 'Dark', 'Twisted', 'Fantasy'], ['52nd', 'Street'], ['12', 'Songs'], ['Between', 'the', 'Buttons'], ['Sketches', 'of', 'Spain'], ['Singles', 'Going', 'Steady'], ['Stankonia'], ['Siamese', 'Dream'], ['L.A.', 'Woman'], ['Rage', 'Against', 'the', 'Machine'], ['American', 'Recordings'], ['Ray', 'of', 'Light'], ['Eagles'], ['Louder', 'Than', 'Bombs'], ['Mott'], ['Whatever', 'People', 'Say', 'I', 'Am,', \"That's\", 'What', \"I'm\", 'Not'], ['Reggatta', 'de', 'Blanc'], ['Volunteers'], ['Siren'], ['Late', 'for', 'the', 'Sky'], ['Post'], [\"(What's\", 'the', 'Story)', 'Morning', 'Glory?'], ['CrazySexyCool'], ['Funky', 'Kingston'], ['The', 'Smile', 'Sessions'], ['The', 'Modern', 'Lovers'], ['More', 'Songs', 'About', 'Buildings', 'and', 'Food'], ['A', 'Quick', 'One'], ['\"Love', 'and', 'Theft\"'], ['Pretzel', 'Logic'], ['Enter', 'the', 'Wu', 'Tang:', '36', 'Chambers'], ['The', 'Indestructible', 'Beat', 'of', 'Soweto'], ['The', 'End', 'of', 'the', 'Innocence'], ['Elephant'], ['The', 'Pretender'], ['Let', 'It', 'Be'], ['Kala'], ['Good', 'Old', 'Boys'], ['Sound', 'of', 'Silver'], ['For', 'Your', 'Pleasure'], ['Blue', 'Lines'], ['Eliminator'], ['Rain', 'Dogs'], ['Californication'], ['Illmatic'], ['(pronounced', \"'leh-'nerd\", \"'skin-'nerd)\"], ['Dr.', \"John's\", 'Gumbo'], ['Radio', 'City'], ['Rid', 'of', 'Me'], ['Sandinista!'], ['I', 'Do', 'Not', 'Want', 'What', 'I', \"Haven't\", 'Got'], ['Strange', 'Days'], ['Time', 'Out', 'of', 'Mind'], ['461', 'Ocean', 'Boulevard'], ['Pink', 'Flag'], ['Double', 'Nickels', 'on', 'the', 'Dime'], ['Beauty', 'and', 'the', 'Beat'], ['Van', 'Halen'], ['Mule', 'Variations'], ['Boy'], ['Band', 'on', 'the', 'Run'], ['Dummy'], ['The', '\"Chirping\"', 'Crickets'], ['Presenting', 'the', 'Fabulous', 'Ronettes', 'Featuring', 'Veronica'], ['Anthology'], ['The', 'Rising'], ['Grievous', 'Angel'], ['Sleepless'], ['Outlandos', \"d'Amour\"], ['Another', 'Green', 'World'], ['Vampire', 'Weekend'], ['Stories', 'From', 'the', 'City,', 'Stories', 'From', 'the', 'Sea'], ['Here', 'Come', 'the', 'Warm', 'Jets'], ['All', 'Things', 'Must', 'Pass'], ['#1', 'Record'], ['In', 'Utero'], ['Sea', 'Change'], ['Tha', 'Carter', 'III'], ['Boys', \"Don't\", 'Cry'], ['Live', 'at', 'the', 'Harlem', 'Square', 'Club,', '1963'], ['Rum', 'Sodomy', '&', 'the', 'Lash'], ['Suicide'], ['Q:', 'Are', 'We', 'Not', 'Men?', 'A:', 'We', 'Are', 'Devo!'], ['In', 'Color'], ['The', 'World', 'Is', 'a', 'Ghetto'], ['Fly', 'Like', 'an', 'Eagle'], ['Back', 'in', 'the', 'USA'], ['Getz', '/', 'Gilberto'], ['Synchronicity'], ['For', 'Everyman'], ['Back', 'to', 'Black'], ['John', 'Prine'], ['Strictly', 'Business'], ['Love', 'It', 'to', 'Death'], ['How', 'Will', 'the', 'Wolf', 'Survive?'], ['Here,', 'My', 'Dear'], ['Z'], ['Tumbleweed', 'Connection'], ['Live', 'Through', 'This'], ['Metal', 'Box'], ['Document'], ['Heaven', 'Up', 'Here'], ['Hysteria'], ['69', 'Love', 'Songs'], ['A', 'Rush', 'of', 'Blood', 'to', 'the', 'Head'], ['Tunnel', 'of', 'Love'], ['The', 'Paul', 'Butterfield', 'Blues', 'Band'], ['The', 'Score'], ['Radio'], ['I', 'Want', 'to', 'See', 'the', 'Bright', 'Lights', 'Tonight'], ['Faith'], ['The', 'Smiths'], ['Proxima', 'estacion:', 'Esperanza'], ['Armed', 'Forces'], ['Life', 'After', 'Death'], ['Down', 'Every', 'Road'], ['All', 'Time', 'Greatest', 'Hits'], ['Maggot', 'Brain'], ['Only', 'Built', '4', 'Cuban', 'Linx'], ['Voodoo'], ['Guitar', 'Town'], ['Entertainment!'], ['All', 'the', 'Young', 'Dudes'], ['Vitalogy'], [\"That's\", 'the', 'Way', 'of', 'the', 'World'], [\"She's\", 'So', 'Unusual'], ['New', 'Day', 'Rising'], ['Destroyer'], ['Tres', 'hombres'], ['Born', 'Under', 'a', 'Bad', 'Sign'], ['Touch'], ['Yankee', 'Hotel', 'Foxtrot'], ['Oracular', 'Spectacular'], ['Give', 'It', 'Up'], ['Boz', 'Scaggs'], ['White', 'Blood', 'Cells'], ['The', 'Stone', 'Roses'], ['Live', 'in', 'Cook', 'County', 'Jail'], ['Aquemini']]\n"
     ]
    }
   ],
   "source": [
    "#  x = most_freque(readers)\n",
    "# print(x)\n",
    "print(most_freque(readers))\n"
   ]
  },
  {
   "cell_type": "code",
   "execution_count": null,
   "metadata": {},
   "outputs": [],
   "source": [
    "#Histogram of albums by decade -\n",
    "#Returns a histogram with each decade pointing\n",
    "#to the number of albums released during that decade.\n",
    "\n",
    "\n",
    "\n",
    "\n",
    "\n",
    "\n",
    "\n"
   ]
  },
  {
   "cell_type": "code",
   "execution_count": null,
   "metadata": {},
   "outputs": [],
   "source": []
  },
  {
   "cell_type": "code",
   "execution_count": null,
   "metadata": {},
   "outputs": [],
   "source": []
  },
  {
   "cell_type": "markdown",
   "metadata": {},
   "source": [
    "## Next Steps"
   ]
  },
  {
   "cell_type": "markdown",
   "metadata": {},
   "source": [
    "Now that we have our functions querying our Album data, let's compare that data with the top 500 songs. We have another file -- a text file! -- that contains the data we need for the top 500 songs. Reading a text file is pretty similar to reading a csv file, however, it tends to need a bit more massaging to get your data formatted the way you want it.\n",
    "\n",
    "```python\n",
    "    # open the text file in read\n",
    "    text_file = open('top-500-songs.txt', 'r')\n",
    "    # read each line of the text file\n",
    "    # here is where you can print out the lines to your terminal and get an idea \n",
    "    # for how you might think about re-formatting the data\n",
    "    lines = text_file.readlines()\n",
    "\n",
    "    print(lines)\n",
    "    # the output will look something like this:\n",
    "['1\\tLike a Rolling Stone\\tBob Dylan\\t1965\\n', '2\\tSatisfaction\\tThe Rolling Stones\\t1965\\n', '3\\tImagine\\tJohn Lennon\\t1971\\n', \"4\\tWhat's Going On\\tMarvin Gaye\\t1971\\n\", '5\\tRespect\\tAretha Franklin\\t1967\\n', '6\\tGood Vibrations\\tThe Beach Boys\\t1966\\n', '7\\tJohnny B. Goode\\tChuck Berry\\t1958\\n', '8\\tHey Jude\\tThe Beatles\\t1968\\n', ...]\n",
    "```\n",
    "\n",
    "It looks like `\\t` is how the text file is separating each element on a line. So, we need a function that can separate a string into a list. Then we can tell this function on what to split our string (i.e. `\\t`). From there we will have a list of lists that are formatted like the following:\n",
    "```python\n",
    "[\"RANK\", \"NAME\", \"ARTIST\", \"YEAR\"]\n",
    "```\n",
    "We need to use our knowledge of iterating to go through each of these elements and turn them into dictionaries with the keys, \"rank\", \"name\", \"artist\", \"year\", pointing to the appropriate values. So, for song number 1, we want it to look like:\n",
    "```python\n",
    "{'rank': 1, 'name': \"Like a Rolling Stone\", 'artist'\"Bob Dylan\": , 'year': 1965}\n",
    "```\n",
    "\n",
    "Once we have a list of songs that are formatted like the above, we can move on to figuring out which songs are from the top albums and which albums and artists have the most 'top songs'."
   ]
  },
  {
   "cell_type": "markdown",
   "metadata": {},
   "source": [
    "### Working with the top 500 songs"
   ]
  },
  {
   "cell_type": "markdown",
   "metadata": {},
   "source": [
    "If we can't already re-use our searching functions (i.e. Find by name, Find by rank, Find by year, Find by years, Find by ranks), all functions (i.e. all titles, all artists), and questions-to-answer functions (i.e. Artists with the most albums (or songs), Most popular word, Histogram by decade, Histogram by genre) with the song data we just formatted, then refactor these functions so that they can be used with either set of data. This is a good practice for ensuring that our code is as reusable and modular as possible, which is important when writing code for any project, especially when it comes time to scale a project. Things are easier to read, and there is less code to worry about (and more importantly there is less code to debug when something goes wrong).\n",
    "\n",
    "Once we have our functions working for both sets of data, we can start writing new functions!\n",
    "\n",
    "Luckily for us, this next dataset is already made for us. We were curious to find out which songs on the top 500 songs overlapped with the top albums and vice versa. So, we created a data set that is a list of dictionaries in JSON format. Each dictionary contains the name of the artist, the album, and the tracks (songs) on that given album. We can use this data to check which songs on the top 500 list are featured on the albums on the top albums list.\n",
    "\n",
    "To load our JSON file we will write:\n",
    "\n",
    "```python\n",
    "import json\n",
    "\n",
    "file = open('track_data.json', 'r')\n",
    "json_data = json.load(file)\n",
    "\n",
    "print(json_data)\n",
    "# output will look like this:\n",
    "[{'artist': 'The Beatles', 'album': \"Sgt. Pepper's Lonely Hearts Club Band\", 'tracks': [\"Sgt. Pepper's Lonely Hearts Club Band - Remix\", 'With A Little Help From My Friends - Remix', 'Lucy In The Sky With Diamonds - Remix', 'Getting Better - Remix', 'Fixing A Hole - Remix', \"She's Leaving Home - Remix\", 'Being For The Benefit Of Mr. Kite! - Remix', 'Within You Without You - Remix', \"When I'm Sixty-Four - Remix\", 'Lovely Rita - Remix', 'Good Morning Good Morning - Remix', \"Sgt. Pepper's Lonely Hearts Club Band (Reprise) - Remix\", 'A Day In The Life - Remix', \"Sgt. Pepper's Lonely Hearts Club Band - Take 9 And Speech\", 'With A Little Help From My Friends - Take 1 / False Start And Take 2 / Instrumental', 'Lucy In The Sky With Diamonds - Take 1', 'Getting Better - Take 1 / Instrumental And Speech At The End', 'Fixing A Hole - Speech And Take 3', \"She's Leaving Home - Take 1 / Instrumental\", 'Being For The Benefit Of Mr. Kite! - Take 4', 'Within You Without You - Take 1 / Indian Instruments', \"When I'm Sixty-Four - Take 2\", 'Lovely Rita - Speech And Take 9', 'Good Morning Good Morning - Take 8', \"Sgt. Pepper's Lonely Hearts Club Band (Reprise) - Speech And Take 8\", 'A Day In The Life - Take 1 With Hums', 'Strawberry Fields Forever - Take 7', 'Strawberry Fields Forever - Take 26', 'Strawberry Fields Forever - Stereo Mix 2015', 'Penny Lane - Take 6 / Instrumental', 'Penny Lane - Stereo Mix 2017']}, {'artist': 'The Beach Boys', 'album': 'Pet Sounds', 'tracks': [\"Wouldn't It Be Nice - Digitally Remastered 96\", 'You Still Believe In Me - Digitally Remastered 96', \"That's Not Me - 1996 Digital Remaster\", \"Don't Talk (Put Your Head On My Shoulder) - 1996 Digital Remaster\", \"I'm Waiting For The Day - Digitally Remastered 96\", \"Let's Go Away For Awhile - Digitally Remastered 96\", 'Sloop John B - 1996 - Remaster', 'God Only Knows - 1997 - Remaster', \"I Know There's An Answer - Digitally Remastered 96\", 'Here Today - Digitally Remastered 96', \"I Just Wasn't Made For These Times - Digitally Remastered 96\", 'Pet Sounds - Digitally Remastered 96', 'Caroline, No - 1996 Digital Remaster', 'Hang On To Your Ego', \"Wouldn't It Be Nice - 2000 - Remaster\", 'You Still Believe In Me - 1996 Digital Remaster', \"That's Not Me - 1996 Digital Remaster\", \"Don't Talk (Put Your Head On My Shoulder) - 1996 Digital Remaster\", \"I'm Waiting For The Day - 1996 Digital Remaster\", \"Let's Go Away For Awhile - 1996 Digital Remaster\", 'Sloop John B - 1996 Digital Remaster', 'God Only Knows - 1996 Digital Remaster', \"I Know There's An Answer - 1996 Digital Remaster\", 'Here Today - 1996 Digital Remaster', \"I Just Wasn't Made For These Times - 1996 Digital Remaster\", 'Pet Sounds - 1996 Digital Remaster', 'Caroline, No - 1996 Digital Remaster']}, {'artist': 'The Beatles', 'album': 'Revolver', 'tracks': ['Taxman - Remastered', 'Eleanor Rigby - Remastered', \"I'm Only Sleeping - Remastered\", 'Love You To - Remastered', 'Here, There And Everywhere - Remastered', 'Yellow Submarine - Remastered', 'She Said She Said - Remastered', 'Good Day Sunshine - Remastered', 'And Your Bird Can Sing - Remastered', 'For No One - Remastered', 'Doctor Robert - Remastered', 'I Want To Tell You - Remastered', 'Got To Get You Into My Life - Remastered', 'Tomorrow Never Knows - Remastered']}, {'artist': 'Bob Dylan', 'album': 'Highway 61 Revisited', 'tracks': ['Like a Rolling Stone', 'Tombstone Blues', 'It Takes a Lot to Laugh, It Takes a Train to Cry', 'From a Buick 6', 'Ballad of a Thin Man', 'Queen Jane Approximately', 'Highway 61 Revisited', \"Just Like Tom Thumb's Blues\", 'Desolation Row']}, ...]\n",
    "```"
   ]
  },
  {
   "cell_type": "markdown",
   "metadata": {},
   "source": [
    "### Define the following functions:\n",
    "\n",
    "**albumWithMostTopSongs** - returns the name of the artist and album that has that most songs featured on the top 500 songs list\n",
    "\n",
    "**albumsWithTopSongs** - returns a list with the name of only the albums that have tracks featured on the list of top 500 songs\n",
    "\n",
    "**songsThatAreOnTopAlbums** - returns a list with the name of only the songs featured on the list of top albums\n",
    "\n",
    "**top10AlbumsByTopSongs** - returns a histogram with the 10 albums that have the most songs that appear in the top songs list. The album names should point to the number of songs that appear on the top 500 songs list.\n",
    "\n",
    "**topOverallArtist** - Artist featured with the most songs and albums on the two lists. This means that if Brittany Spears had 3 of her albums featured on the top albums listed and 10 of her songs featured on the top songs, she would have a total of 13. The artist with the highest aggregate score would be the top overall artist."
   ]
  }
 ],
 "metadata": {
  "kernelspec": {
   "display_name": "Python 3",
   "language": "python",
   "name": "python3"
  },
  "language_info": {
   "codemirror_mode": {
    "name": "ipython",
    "version": 3
   },
   "file_extension": ".py",
   "mimetype": "text/x-python",
   "name": "python",
   "nbconvert_exporter": "python",
   "pygments_lexer": "ipython3",
   "version": "3.7.1"
  }
 },
 "nbformat": 4,
 "nbformat_minor": 2
}
