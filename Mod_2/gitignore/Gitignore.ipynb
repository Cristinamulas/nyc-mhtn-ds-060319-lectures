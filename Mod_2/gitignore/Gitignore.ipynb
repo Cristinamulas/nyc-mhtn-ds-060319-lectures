{
 "cells": [
  {
   "cell_type": "markdown",
   "metadata": {},
   "source": [
    "<h1 style='text-align:center'>GITIGNORE</h1>"
   ]
  },
  {
   "cell_type": "markdown",
   "metadata": {},
   "source": [
    "<img src='images/ignore.gif'/>"
   ]
  },
  {
   "cell_type": "markdown",
   "metadata": {},
   "source": [
    "Git sees every file in your working copy as one of three things:\n",
    "\n",
    "1) <b>tracked</b> - a file which has been previously staged or committed;\n",
    "\n",
    "2) <b>untracked</b> - a file which has not been staged or committed; or\n",
    "\n",
    "3) <b>ignored</b> - a file which Git has been explicitly told to ignore.\n"
   ]
  },
  {
   "cell_type": "markdown",
   "metadata": {},
   "source": [
    "##### What kind of files would we want git to ignore?  passwords , poject pics,  *Iphb"
   ]
  },
  {
   "cell_type": "markdown",
   "metadata": {},
   "source": [
    "Ignored files are usually build artifacts and machine generated files or code you do not want the public to have. Some common examples are:\n",
    "\n",
    "-  .ipynb_checkpoints folder\n",
    "- .DS_Store\n",
    "- config files \n",
    "- files with API keys"
   ]
  },
  {
   "cell_type": "markdown",
   "metadata": {},
   "source": [
    "##### How do we tell Git to ignore files"
   ]
  },
  {
   "cell_type": "markdown",
   "metadata": {},
   "source": [
    "Using a .gitignore file\n",
    "\n",
    "1) Create a file called .gitignore \n",
    "\n",
    "2) On each line type what files you want Git to ignore"
   ]
  },
  {
   "cell_type": "code",
   "execution_count": null,
   "metadata": {},
   "outputs": [],
   "source": [
    "#Examples: \n",
    "\n",
    "index.ipynb #ignore any file called index.ipynb \n",
    "\n",
    "*.ipynb #ignores all files with .ipynb extension\n",
    "\n",
    ".ipynb_checkpoints/ #ignores all of the .ipynb_checkpoints directory\n",
    "\n"
   ]
  },
  {
   "cell_type": "markdown",
   "metadata": {},
   "source": [
    "##### Your Turn "
   ]
  },
  {
   "cell_type": "markdown",
   "metadata": {},
   "source": [
    "The following code exposes our API key, which in many cases we do want to share! Create a new file called api_key.py that stores the client_id and api_key variables. Then create a .gitignore file and add to it the file containing your api information. Lastly, push your code to your repository and check to see if you have successfully ignored your file. "
   ]
  },
  {
   "cell_type": "code",
   "execution_count": 6,
   "metadata": {},
   "outputs": [],
   "source": [
    "import requests"
   ]
  },
  {
   "cell_type": "code",
   "execution_count": 7,
   "metadata": {},
   "outputs": [],
   "source": [
    "# you dont want people to see your yelp key\n",
    "import key_id"
   ]
  },
  {
   "cell_type": "code",
   "execution_count": 8,
   "metadata": {},
   "outputs": [],
   "source": [
    "\n",
    "# create a folder ingnore\n",
    "# go to your folder call ignire\n",
    "#git add *\n"
   ]
  },
  {
   "cell_type": "code",
   "execution_count": 9,
   "metadata": {
    "scrolled": false
   },
   "outputs": [
    {
     "name": "stdout",
     "output_type": "stream",
     "text": [
      "<Response [400]>\n",
      "<class 'str'>\n",
      "{\"error\": {\"code\": \"VALIDATION_ERROR\", \"description\": \"\\\"Bearer <module 'key_id' from '/Users/cristinamulas/Desktop/Flatiron/nyc-mhtn-ds-060319-lectures/Mod_2/gitignore/key_id.py'>\\\" does not match '^(?i)Bearer [A-Za-z0-9\\\\\\\\-\\\\\\\\_]{128}$'\", \"field\": \"Authorization\", \"instance\": \"Bearer <module 'key_id' from '/Users/cristinamulas/Desktop/Flatiron/nyc-mhtn-ds-060319-lectures/Mod_2/gitignore/key_id.py'>\"}}\n"
     ]
    }
   ],
   "source": [
    "term = 'Axe Throwing'\n",
    "location = 'Brooklyn'\n",
    "SEARCH_LIMIT = 10\n",
    "\n",
    "url = 'https://api.yelp.com/v3/businesses/search'\n",
    "\n",
    "headers = {\n",
    "        'Authorization': f'Bearer {key_id}',\n",
    "    }\n",
    "\n",
    "url_params = {\n",
    "                'term': term.replace(' ', '+'),\n",
    "                'location': location.replace(' ', '+'),\n",
    "                'limit': SEARCH_LIMIT\n",
    "            }\n",
    "response = requests.get(url, headers=headers, params=url_params)\n",
    "print(response)\n",
    "print(type(response.text))\n",
    "print(response.text)"
   ]
  },
  {
   "cell_type": "markdown",
   "metadata": {},
   "source": [
    "##### What happens if I add and commit a file I want to ignore? "
   ]
  },
  {
   "cell_type": "markdown",
   "metadata": {},
   "source": [
    "If it is only your latest commit  - you can use `git rm file_name.extension` \n",
    "\n",
    "To remove from all previous commits (if you realize too late) - `git filter-branch --tree-filter 'rm -rf file_name.extension' HEAD`"
   ]
  },
  {
   "cell_type": "markdown",
   "metadata": {},
   "source": [
    "More info on git filter-branch : https://dalibornasevic.com/posts/2-permanently-remove-files-and-folders-from-a-git-repository"
   ]
  }
 ],
 "metadata": {
  "kernelspec": {
   "display_name": "Python 3",
   "language": "python",
   "name": "python3"
  },
  "language_info": {
   "codemirror_mode": {
    "name": "ipython",
    "version": 3
   },
   "file_extension": ".py",
   "mimetype": "text/x-python",
   "name": "python",
   "nbconvert_exporter": "python",
   "pygments_lexer": "ipython3",
   "version": "3.7.1"
  }
 },
 "nbformat": 4,
 "nbformat_minor": 2
}
