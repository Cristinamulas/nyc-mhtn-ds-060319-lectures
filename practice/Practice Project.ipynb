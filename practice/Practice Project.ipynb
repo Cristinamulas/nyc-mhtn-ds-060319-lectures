{
 "cells": [
  {
   "cell_type": "markdown",
   "metadata": {},
   "source": [
    "**$H_{0}$: The mean difference between treatment and control groups is zero. i.e. $H_{0} = H_{1}$**"
   ]
  },
  {
   "cell_type": "code",
   "execution_count": null,
   "metadata": {},
   "outputs": [],
   "source": [
    "# depende variable is Quantity\n",
    "# independen variable is Discount \n",
    "# control group is orders than didnt receibe discount\n",
    "# experimental group orders than have a discont\n",
    "# plot using \n",
    "plt.figure(figsize=(20, 10))\n",
    "sns.distplot(ctrl, label='Control')\n",
    "sns.distplot(exp, label='Experimental',kde=True, hist=True )\n",
    "# find the difrent of the menas bwt control gorup and experimental group"
   ]
  },
  {
   "cell_type": "code",
   "execution_count": null,
   "metadata": {},
   "outputs": [],
   "source": [
    "# \"\"\"SELECT Quantity, Discount FROM OrderDetail\"\"\", "
   ]
  },
  {
   "cell_type": "code",
   "execution_count": null,
   "metadata": {},
   "outputs": [],
   "source": [
    "# Then take a look at the colums\n",
    "# remove some of the discounts\n",
    "# from the column discoutn encode no dicount with zero discount with one\n",
    "# df.info / df.describe\n",
    "# state your hypotesis\n",
    "# df.describe"
   ]
  },
  {
   "cell_type": "code",
   "execution_count": null,
   "metadata": {},
   "outputs": [],
   "source": [
    "Ho = 'there is no different bewteen '\n",
    "H1 = 'There is a diferent btw'"
   ]
  },
  {
   "cell_type": "code",
   "execution_count": null,
   "metadata": {},
   "outputs": [],
   "source": [
    "# do the mean of new column discount and the the qualityty"
   ]
  },
  {
   "cell_type": "code",
   "execution_count": null,
   "metadata": {},
   "outputs": [],
   "source": [
    "# maybe graph"
   ]
  },
  {
   "cell_type": "code",
   "execution_count": null,
   "metadata": {},
   "outputs": [],
   "source": [
    "# choose two tail becuase the data is continues?"
   ]
  },
  {
   "cell_type": "code",
   "execution_count": null,
   "metadata": {},
   "outputs": [],
   "source": [
    "# plot \n",
    "# Separating the dataset into orders with and without discounts, and assessing their distributions\n",
    "discount = df1[df1['Discount_bin'] == 1]\n",
    "no_discount = df1[df1['Discount_bin'] == 0]\n",
    "sns.distplot(discount.Quantity, label='Discount', color='seagreen')\n",
    "sns.distplot(no_discount.Quantity, label='No discount', color='indianred')\n",
    "plt.title('Distribution plots of the number of items per order')\n",
    "plt.legend();"
   ]
  },
  {
   "cell_type": "code",
   "execution_count": null,
   "metadata": {},
   "outputs": [],
   "source": [
    "stats.ttest_ind(discount.Quantity, no_discount.Quantity)\n"
   ]
  },
  {
   "cell_type": "code",
   "execution_count": null,
   "metadata": {},
   "outputs": [],
   "source": [
    "print(\"Average number of products ordered with no discounts: \", round(no_discount['Quantity'].mean(),1))\n",
    "print(\"Average number of products ordered with discounts: \", round(discount['Quantity'].mean(),1))\n",
    "print(\"Effect size: \", round(discount['Quantity'].mean() - no_discount['Quantity'].mean(),1))\n",
    "print(\"Relative effect size (increase from no discount to discount): \", round((discount['Quantity'].mean() - no_discount['Quantity'].mean())/no_discount['Quantity'].mean(),2))"
   ]
  },
  {
   "cell_type": "code",
   "execution_count": null,
   "metadata": {},
   "outputs": [],
   "source": [
    "\n",
    "# Fitting a model of Total_Quantity on Discount categories, and using statsmodels to compute an ANOVA table\n",
    "lm = ols('Quantity ~ C(Discount)', discount).fit()\n",
    "sm.stats.anova_lm(lm, typ=2)"
   ]
  },
  {
   "cell_type": "code",
   "execution_count": null,
   "metadata": {},
   "outputs": [],
   "source": []
  },
  {
   "cell_type": "code",
   "execution_count": null,
   "metadata": {},
   "outputs": [],
   "source": []
  }
 ],
 "metadata": {
  "kernelspec": {
   "display_name": "Python 3",
   "language": "python",
   "name": "python3"
  },
  "language_info": {
   "codemirror_mode": {
    "name": "ipython",
    "version": 3
   },
   "file_extension": ".py",
   "mimetype": "text/x-python",
   "name": "python",
   "nbconvert_exporter": "python",
   "pygments_lexer": "ipython3",
   "version": "3.7.1"
  }
 },
 "nbformat": 4,
 "nbformat_minor": 2
}
