{
 "cells": [
  {
   "cell_type": "markdown",
   "metadata": {},
   "source": [
    "## My Functions\n"
   ]
  },
  {
   "cell_type": "markdown",
   "metadata": {},
   "source": [
    "- Notebook to practice "
   ]
  },
  {
   "cell_type": "markdown",
   "metadata": {},
   "source": [
    "```https://leetcode.com/problems/palindrome-number/```"
   ]
  },
  {
   "cell_type": "markdown",
   "metadata": {},
   "source": [
    "- Questions SQL"
   ]
  },
  {
   "cell_type": "markdown",
   "metadata": {},
   "source": [
    "```https://www.hackerrank.com/challenges/average-population/problem```"
   ]
  },
  {
   "cell_type": "markdown",
   "metadata": {},
   "source": [
    "Floor function round the round"
   ]
  },
  {
   "cell_type": "markdown",
   "metadata": {},
   "source": [
    " - Determine whether an integer is a palindrome. An integer is a palindrome when it reads the same backward as forward."
   ]
  },
  {
   "cell_type": "code",
   "execution_count": null,
   "metadata": {},
   "outputs": [],
   "source": []
  },
  {
   "cell_type": "code",
   "execution_count": null,
   "metadata": {},
   "outputs": [],
   "source": [
    "def palindrome (x):\n",
    "    if x[i] == "
   ]
  },
  {
   "cell_type": "markdown",
   "metadata": {},
   "source": [
    "- You have a set of tiles, where each tile has one letter tiles[i] printed on it.  Return the number of possible non-empty sequences of letters you can make.\n",
    "- Input: \"AAB\"\n",
    "    Output: 8\n",
    "    Explanation: The possible sequences are \"A\", \"B\", \"AA\", \"AB\", \"BA\", \"AAB\", \"ABA\", \"BAA\"."
   ]
  },
  {
   "cell_type": "code",
   "execution_count": 17,
   "metadata": {},
   "outputs": [
    {
     "name": "stdout",
     "output_type": "stream",
     "text": [
      "3\n"
     ]
    }
   ],
   "source": [
    "x = 'AABC'\n",
    "count = 0 # mu contatinre\n",
    "for i in range(len(x) -1): # loop over the range\n",
    "    if x[i] != x[i+1]: # si el elemto no es igual tue el siguiente cuenta uno\n",
    "#         count += i # check point\n",
    "#     elif x[i] == x[i -1]:\n",
    "        count += i \n",
    "print(count)\n"
   ]
  },
  {
   "cell_type": "markdown",
   "metadata": {},
   "source": [
    "# Nested loop"
   ]
  },
  {
   "cell_type": "code",
   "execution_count": 24,
   "metadata": {},
   "outputs": [
    {
     "name": "stdout",
     "output_type": "stream",
     "text": [
      "1\n",
      " this is an neeted casa\n",
      " this is an neeted armatio\n",
      "2\n",
      " this is an neeted casa\n",
      " this is an neeted armatio\n",
      "3\n",
      " this is an neeted casa\n",
      " this is an neeted armatio\n",
      "4\n",
      " this is an neeted casa\n",
      " this is an neeted armatio\n"
     ]
    }
   ],
   "source": [
    "# nested loop the outer list in the number of list that it will be loop over\n",
    "# the inner list it will be loop twice\n",
    "a = [1,2,3,4]\n",
    "b = ['casa','armatio']\n",
    "for num in a: # esto me va a dat el index\n",
    "    print (num)\n",
    "    for word in b:\n",
    "        print(f' this is an neeted {word}')\n",
    "        "
   ]
  },
  {
   "cell_type": "code",
   "execution_count": 28,
   "metadata": {},
   "outputs": [],
   "source": [
    "programmers = [{'name': \"rachel\", 'favorite_languages': ['Ruby', 'JavaScript', 'SQL', \"Java\"]},\n",
    "               {'name': \"daniel\", 'favorite_languages': ['JavaScript', 'Elixir', 'Python']},\n",
    "               {'name': \"greg\", 'favorite_languages': ['C#', 'CoffeeScript', 'R']},\n",
    "               {'name': \"meryl\", 'favorite_languages': ['C++', 'PHP', 'Swift']}\n",
    "              ]"
   ]
  },
  {
   "cell_type": "code",
   "execution_count": 33,
   "metadata": {},
   "outputs": [
    {
     "data": {
      "text/plain": [
       "'Ruby'"
      ]
     },
     "execution_count": 33,
     "metadata": {},
     "output_type": "execute_result"
    }
   ],
   "source": [
    "programmers[0]['favorite_languages'][0] # name of the variable + position of the list + key \n",
    "# + position in a list"
   ]
  },
  {
   "cell_type": "code",
   "execution_count": 60,
   "metadata": {},
   "outputs": [
    {
     "data": {
      "text/plain": [
       "'rachel'"
      ]
     },
     "execution_count": 60,
     "metadata": {},
     "output_type": "execute_result"
    }
   ],
   "source": [
    "programmers[0]['name']"
   ]
  },
  {
   "cell_type": "code",
   "execution_count": 56,
   "metadata": {},
   "outputs": [],
   "source": [
    "for programner in programmers: # por cada elemento en la lista programner\n",
    "    for k , name  in programner.items(): # por cada k , v en  los diccionaios\n",
    "        if programner[k] == 'name':\n",
    "        print(programner['name'])\n",
    "        \n",
    "    "
   ]
  },
  {
   "cell_type": "code",
   "execution_count": 63,
   "metadata": {},
   "outputs": [
    {
     "name": "stdout",
     "output_type": "stream",
     "text": [
      "rachel\n",
      "['Ruby', 'JavaScript', 'SQL', 'Java']\n",
      "daniel\n",
      "['JavaScript', 'Elixir', 'Python']\n",
      "greg\n",
      "['C#', 'CoffeeScript', 'R']\n",
      "meryl\n",
      "['C++', 'PHP', 'Swift']\n"
     ]
    }
   ],
   "source": [
    "for programner in programmers:\n",
    "    for v in programner.values():\n",
    "        if v == \n",
    "        print(v)\n",
    "#     for e in programner['name']:\n",
    "#         print('name')"
   ]
  },
  {
   "cell_type": "code",
   "execution_count": 13,
   "metadata": {},
   "outputs": [],
   "source": [
    "\n",
    "a = [1,2,3] # tengo una lista\n",
    "def take (a):#defino una function que toma una secuencia\n",
    "    '''funtion that takes a seq and return the last value'''\n",
    "    a = [1,2,4]\n",
    "    for i in range(len(a)):\n",
    "        return(a[i -1])"
   ]
  },
  {
   "cell_type": "code",
   "execution_count": 14,
   "metadata": {},
   "outputs": [
    {
     "name": "stdout",
     "output_type": "stream",
     "text": [
      "4\n"
     ]
    }
   ],
   "source": [
    "print(take(a))"
   ]
  },
  {
   "cell_type": "code",
   "execution_count": 22,
   "metadata": {},
   "outputs": [],
   "source": [
    "# define a function that take a sqe and return all values inverse\n",
    "# queiro que me deuvelvan los elemetos de la lista hacia atras \n",
    "def rev (a):\n",
    "    for i in range(len(a)): # por cada elemetno en la seq\n",
    "        if a[i] == a[i-1]:\n",
    "        "
   ]
  },
  {
   "cell_type": "code",
   "execution_count": 23,
   "metadata": {},
   "outputs": [
    {
     "ename": "TypeError",
     "evalue": "'int' object is not subscriptable",
     "output_type": "error",
     "traceback": [
      "\u001b[0;31m---------------------------------------------------------------------------\u001b[0m",
      "\u001b[0;31mTypeError\u001b[0m                                 Traceback (most recent call last)",
      "\u001b[0;32m<ipython-input-23-3b884743654e>\u001b[0m in \u001b[0;36m<module>\u001b[0;34m\u001b[0m\n\u001b[0;32m----> 1\u001b[0;31m \u001b[0mrev\u001b[0m\u001b[0;34m(\u001b[0m\u001b[0ma\u001b[0m\u001b[0;34m)\u001b[0m\u001b[0;34m\u001b[0m\u001b[0;34m\u001b[0m\u001b[0m\n\u001b[0m",
      "\u001b[0;32m<ipython-input-22-20ad0ba83eba>\u001b[0m in \u001b[0;36mrev\u001b[0;34m(a)\u001b[0m\n\u001b[1;32m      4\u001b[0m     \u001b[0;32mfor\u001b[0m \u001b[0mi\u001b[0m \u001b[0;32min\u001b[0m \u001b[0mrange\u001b[0m\u001b[0;34m(\u001b[0m\u001b[0mlen\u001b[0m\u001b[0;34m(\u001b[0m\u001b[0ma\u001b[0m\u001b[0;34m)\u001b[0m\u001b[0;34m)\u001b[0m\u001b[0;34m:\u001b[0m \u001b[0;31m# por cada elemetno en la seq\u001b[0m\u001b[0;34m\u001b[0m\u001b[0;34m\u001b[0m\u001b[0m\n\u001b[1;32m      5\u001b[0m \u001b[0;31m#         if a[i] == a[i-1]:\u001b[0m\u001b[0;34m\u001b[0m\u001b[0;34m\u001b[0m\u001b[0;34m\u001b[0m\u001b[0m\n\u001b[0;32m----> 6\u001b[0;31m         \u001b[0;32mreturn\u001b[0m \u001b[0mi\u001b[0m\u001b[0;34m[\u001b[0m \u001b[0;34m:\u001b[0m \u001b[0;34m:\u001b[0m \u001b[0;34m-\u001b[0m\u001b[0;36m1\u001b[0m\u001b[0;34m]\u001b[0m\u001b[0;34m\u001b[0m\u001b[0;34m\u001b[0m\u001b[0m\n\u001b[0m\u001b[1;32m      7\u001b[0m \u001b[0;34m\u001b[0m\u001b[0m\n",
      "\u001b[0;31mTypeError\u001b[0m: 'int' object is not subscriptable"
     ]
    }
   ],
   "source": [
    "rev(a)"
   ]
  },
  {
   "cell_type": "code",
   "execution_count": 28,
   "metadata": {},
   "outputs": [
    {
     "name": "stdout",
     "output_type": "stream",
     "text": [
      "['dsc', 'anitsirc', 'afar']\n"
     ]
    }
   ],
   "source": [
    " # list comprehasion that reverse a str Dont use with numbers\n",
    "a = ['csd','cristina','rafa']\n",
    "newList = [x[::-1] for x  in a]\n",
    "print(newList)"
   ]
  },
  {
   "cell_type": "code",
   "execution_count": null,
   "metadata": {},
   "outputs": [],
   "source": [
    "\n",
    "list_all = []\n",
    "for i in range(0, len(J)-(p-1)): \n",
    "    list_all.append((J[i:p+i]))\n",
    "    \n",
    "avg = []    \n",
    "for i in list_all:\n",
    "    avg.append(i[1])\n",
    "max(avg)\n",
    "min(avg)\n"
   ]
  },
  {
   "cell_type": "code",
   "execution_count": 34,
   "metadata": {},
   "outputs": [
    {
     "name": "stdout",
     "output_type": "stream",
     "text": [
      "[[1, 2]]\n",
      "[[1, 2], [2, 3]]\n",
      "[[1, 2], [2, 3], [3, 4]]\n",
      "[[1, 2], [2, 3], [3, 4], [4, 5]]\n",
      "[[1, 2], [2, 3], [3, 4], [4, 5], [5, 6]]\n",
      "[[1, 2], [2, 3], [3, 4], [4, 5], [5, 6], [6, 7]]\n",
      "[[1, 2], [2, 3], [3, 4], [4, 5], [5, 6], [6, 7], [7, 8]]\n"
     ]
    }
   ],
   "source": [
    "l = [1,2,3,4,5,6,7,8]\n",
    "p = 2\n",
    "list_all = []\n",
    "for i in range(0, len(l)-(p-1)): \n",
    "    list_all.append((l[i:p+i]))\n",
    "    print(list_all)\n",
    "\n",
    "# for i in range(0, len(l) - p(-1)):\n",
    "#     print(i)"
   ]
  },
  {
   "cell_type": "markdown",
   "metadata": {},
   "source": [
    "For this exercise, we will keep track of when our friend’s birthdays are, and be able to find that information based on their name. Create a dictionary (in your file) of names and birthdays. When you run your program it should ask the user to enter a name, and return the birthday of that person back to them. The interaction should look something like this:"
   ]
  },
  {
   "cell_type": "code",
   "execution_count": 44,
   "metadata": {},
   "outputs": [
    {
     "name": "stdout",
     "output_type": "stream",
     "text": [
      "12-45\n",
      "23-66\n",
      "67/55\n",
      "12-45\n",
      "23-66\n",
      "67/55\n",
      "1\n"
     ]
    }
   ],
   "source": [
    "b = {'antonio' : '12-45', 'pedro': '23-66' ,'rafa' : '67/55'}\n",
    "for k,v in b.items():\n",
    "    print(b[k])\n",
    "for v in b.values():\n",
    "    print(v)\n",
    "def dame (d):\n",
    "    count = 0\n",
    "    for k ,v in d.items():\n",
    "        if d[k] == v:\n",
    "            count += 1\n",
    "            return count\n",
    "print(dame(b))"
   ]
  },
  {
   "cell_type": "code",
   "execution_count": 46,
   "metadata": {},
   "outputs": [
    {
     "name": "stdout",
     "output_type": "stream",
     "text": [
      "12-45\n"
     ]
    }
   ],
   "source": [
    "def take_name(a):\n",
    "    for k,v in a.items():\n",
    "        return(a[k])\n",
    "print(take_name(b))"
   ]
  },
  {
   "cell_type": "code",
   "execution_count": null,
   "metadata": {},
   "outputs": [],
   "source": []
  }
 ],
 "metadata": {
  "kernelspec": {
   "display_name": "Python 3",
   "language": "python",
   "name": "python3"
  },
  "language_info": {
   "codemirror_mode": {
    "name": "ipython",
    "version": 3
   },
   "file_extension": ".py",
   "mimetype": "text/x-python",
   "name": "python",
   "nbconvert_exporter": "python",
   "pygments_lexer": "ipython3",
   "version": "3.7.1"
  }
 },
 "nbformat": 4,
 "nbformat_minor": 2
}
