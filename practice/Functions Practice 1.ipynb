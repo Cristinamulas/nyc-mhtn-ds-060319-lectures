{
 "cells": [
  {
   "cell_type": "markdown",
   "metadata": {},
   "source": [
    "## My Functions\n"
   ]
  },
  {
   "cell_type": "markdown",
   "metadata": {},
   "source": [
    "- Notebook to practice "
   ]
  },
  {
   "cell_type": "markdown",
   "metadata": {},
   "source": [
    "```https://leetcode.com/problems/palindrome-number/```"
   ]
  },
  {
   "cell_type": "markdown",
   "metadata": {},
   "source": [
    "- Questions SQL"
   ]
  },
  {
   "cell_type": "markdown",
   "metadata": {},
   "source": [
    "```https://www.hackerrank.com/challenges/average-population/problem```"
   ]
  },
  {
   "cell_type": "markdown",
   "metadata": {},
   "source": [
    "Floor function round the round"
   ]
  },
  {
   "cell_type": "markdown",
   "metadata": {},
   "source": [
    " - Determine whether an integer is a palindrome. An integer is a palindrome when it reads the same backward as forward."
   ]
  },
  {
   "cell_type": "code",
   "execution_count": null,
   "metadata": {},
   "outputs": [],
   "source": []
  },
  {
   "cell_type": "code",
   "execution_count": null,
   "metadata": {},
   "outputs": [],
   "source": [
    "def palindrome (x):\n",
    "    if x[i] == "
   ]
  },
  {
   "cell_type": "markdown",
   "metadata": {},
   "source": [
    "- You have a set of tiles, where each tile has one letter tiles[i] printed on it.  Return the number of possible non-empty sequences of letters you can make.\n",
    "- Input: \"AAB\"\n",
    "    Output: 8\n",
    "    Explanation: The possible sequences are \"A\", \"B\", \"AA\", \"AB\", \"BA\", \"AAB\", \"ABA\", \"BAA\"."
   ]
  },
  {
   "cell_type": "code",
   "execution_count": 17,
   "metadata": {},
   "outputs": [
    {
     "name": "stdout",
     "output_type": "stream",
     "text": [
      "3\n"
     ]
    }
   ],
   "source": [
    "x = 'AABC'\n",
    "count = 0 # mu contatinre\n",
    "for i in range(len(x) -1): # loop over the range\n",
    "    if x[i] != x[i+1]: # si el elemto no es igual tue el siguiente cuenta uno\n",
    "#         count += i # check point\n",
    "#     elif x[i] == x[i -1]:\n",
    "        count += i \n",
    "print(count)\n"
   ]
  },
  {
   "cell_type": "markdown",
   "metadata": {},
   "source": [
    "# Nested loop"
   ]
  },
  {
   "cell_type": "code",
   "execution_count": 24,
   "metadata": {},
   "outputs": [
    {
     "name": "stdout",
     "output_type": "stream",
     "text": [
      "1\n",
      " this is an neeted casa\n",
      " this is an neeted armatio\n",
      "2\n",
      " this is an neeted casa\n",
      " this is an neeted armatio\n",
      "3\n",
      " this is an neeted casa\n",
      " this is an neeted armatio\n",
      "4\n",
      " this is an neeted casa\n",
      " this is an neeted armatio\n"
     ]
    }
   ],
   "source": [
    "# nested loop the outer list in the number of list that it will be loop over\n",
    "# the inner list it will be loop twice\n",
    "a = [1,2,3,4]\n",
    "b = ['casa','armatio']\n",
    "for num in a: # esto me va a dat el index\n",
    "    print (num)\n",
    "    for word in b:\n",
    "        print(f' this is an neeted {word}')\n",
    "        "
   ]
  },
  {
   "cell_type": "code",
   "execution_count": 28,
   "metadata": {},
   "outputs": [],
   "source": [
    "programmers = [{'name': \"rachel\", 'favorite_languages': ['Ruby', 'JavaScript', 'SQL', \"Java\"]},\n",
    "               {'name': \"daniel\", 'favorite_languages': ['JavaScript', 'Elixir', 'Python']},\n",
    "               {'name': \"greg\", 'favorite_languages': ['C#', 'CoffeeScript', 'R']},\n",
    "               {'name': \"meryl\", 'favorite_languages': ['C++', 'PHP', 'Swift']}\n",
    "              ]"
   ]
  },
  {
   "cell_type": "code",
   "execution_count": 33,
   "metadata": {},
   "outputs": [
    {
     "data": {
      "text/plain": [
       "'Ruby'"
      ]
     },
     "execution_count": 33,
     "metadata": {},
     "output_type": "execute_result"
    }
   ],
   "source": [
    "programmers[0]['favorite_languages'][0] # name of the variable + position of the list + key \n",
    "# + position in a list"
   ]
  },
  {
   "cell_type": "code",
   "execution_count": 60,
   "metadata": {},
   "outputs": [
    {
     "data": {
      "text/plain": [
       "'rachel'"
      ]
     },
     "execution_count": 60,
     "metadata": {},
     "output_type": "execute_result"
    }
   ],
   "source": [
    "programmers[0]['name']"
   ]
  },
  {
   "cell_type": "code",
   "execution_count": 56,
   "metadata": {},
   "outputs": [],
   "source": [
    "for programner in programmers: # por cada elemento en la lista programner\n",
    "    for k , name  in programner.items(): # por cada k , v en  los diccionaios\n",
    "        if programner[k] == 'name':\n",
    "        print(programner['name'])\n",
    "        \n",
    "    "
   ]
  },
  {
   "cell_type": "code",
   "execution_count": 63,
   "metadata": {},
   "outputs": [
    {
     "name": "stdout",
     "output_type": "stream",
     "text": [
      "rachel\n",
      "['Ruby', 'JavaScript', 'SQL', 'Java']\n",
      "daniel\n",
      "['JavaScript', 'Elixir', 'Python']\n",
      "greg\n",
      "['C#', 'CoffeeScript', 'R']\n",
      "meryl\n",
      "['C++', 'PHP', 'Swift']\n"
     ]
    }
   ],
   "source": [
    "for programner in programmers:\n",
    "    for v in programner.values():\n",
    "        if v == \n",
    "        print(v)\n",
    "#     for e in programner['name']:\n",
    "#         print('name')"
   ]
  },
  {
   "cell_type": "code",
   "execution_count": null,
   "metadata": {},
   "outputs": [],
   "source": []
  }
 ],
 "metadata": {
  "kernelspec": {
   "display_name": "Python 3",
   "language": "python",
   "name": "python3"
  },
  "language_info": {
   "codemirror_mode": {
    "name": "ipython",
    "version": 3
   },
   "file_extension": ".py",
   "mimetype": "text/x-python",
   "name": "python",
   "nbconvert_exporter": "python",
   "pygments_lexer": "ipython3",
   "version": "3.7.1"
  }
 },
 "nbformat": 4,
 "nbformat_minor": 2
}
