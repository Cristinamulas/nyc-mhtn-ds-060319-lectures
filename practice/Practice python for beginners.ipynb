{
 "cells": [
  {
   "cell_type": "markdown",
   "metadata": {},
   "source": [
    "## Exercices Begginers Pracice Python"
   ]
  },
  {
   "cell_type": "markdown",
   "metadata": {},
   "source": [
    "- https://www.practicepython.org/exercise/2014/01/29/01-character-input.html"
   ]
  },
  {
   "cell_type": "code",
   "execution_count": 2,
   "metadata": {},
   "outputs": [
    {
     "name": "stdout",
     "output_type": "stream",
     "text": [
      " please tell me your namecaca\n",
      "How old are you?4\n",
      " hi caca your the year you will turn 100 will be -2111 \n"
     ]
    }
   ],
   "source": [
    "#1 06/04/2019\n",
    "#Create a program that asks the user to enter their name and their age. Print out a message addressed to them that \n",
    "#tells them the year that they will turn 100 years old.\n",
    "name = input(\" please tell me your name\")\n",
    "age = int(input('How old are you?'))\n",
    "cal_1= 100 - age\n",
    "year = 2019 + cal_1\n",
    "cal_2 = age - year\n",
    "print(f' hi {name} your the year you will turn 100 will be {cal_2} ')"
   ]
  },
  {
   "cell_type": "code",
   "execution_count": null,
   "metadata": {},
   "outputs": [],
   "source": [
    "#Ask the user for a number. Depending on whether the number is even or odd, print out an appropriate message to the user. Hint: how does an even / odd number react differently when divided by 2?\n",
    "#Extras:\n"
   ]
  },
  {
   "cell_type": "code",
   "execution_count": 78,
   "metadata": {},
   "outputs": [
    {
     "name": "stdout",
     "output_type": "stream",
     "text": [
      "please enter a number:4\n",
      " this number :4 is even\n"
     ]
    }
   ],
   "source": [
    "number = int(input('please enter a number:'))\n",
    "if number % 2 == 0:\n",
    "    print(f' this number :{number} is even')\n",
    "    \n",
    "else:\n",
    "    print(f' this number:{number} is odd')"
   ]
  },
  {
   "cell_type": "code",
   "execution_count": 81,
   "metadata": {},
   "outputs": [],
   "source": [
    "def odd_even (x):\n",
    "    \"\"\" function that takes a list and return  another list only  with even numbers\"\"\"\n",
    "    return [i for i in x if i % 2 == 0]"
   ]
  },
  {
   "cell_type": "code",
   "execution_count": 82,
   "metadata": {},
   "outputs": [
    {
     "name": "stdout",
     "output_type": "stream",
     "text": [
      "[2, 4, 6]\n"
     ]
    }
   ],
   "source": [
    "a = [ 2,3,4,5,6]\n",
    "print(odd_even(a))"
   ]
  },
  {
   "cell_type": "code",
   "execution_count": null,
   "metadata": {},
   "outputs": [],
   "source": [
    "#Ask the user for two numbers: one number to check (call it num) and one number to divide by (check). If check divides evenly into num, tell that to the user. If not, print a different appropriate message.\n"
   ]
  },
  {
   "cell_type": "code",
   "execution_count": null,
   "metadata": {},
   "outputs": [],
   "source": [
    "num = int(input('please enter a number:'))\n",
    "check = int(input('please enter a number'))\n",
    "if check % num == 0:\n",
    "    print(f'this {num} divedes evenly by {check}')\n",
    "else:\n",
    "    print(f'this {num} do not divides evenly by {check}')"
   ]
  },
  {
   "cell_type": "code",
   "execution_count": null,
   "metadata": {},
   "outputs": [],
   "source": [
    "# find the multiples of a number\n",
    "def multi(n,m):\n",
    "    '''this func takes a two int and return a list of multiples'''\n",
    "    return list(range(0, (m+1)*n, n)[1:])\n"
   ]
  },
  {
   "cell_type": "code",
   "execution_count": null,
   "metadata": {},
   "outputs": [],
   "source": [
    "print(multi(2,5))"
   ]
  },
  {
   "cell_type": "code",
   "execution_count": 12,
   "metadata": {},
   "outputs": [],
   "source": [
    "#and write a function that prints out all the elements of the list that are less than 5.\n",
    "def less_than_five(x):\n",
    "    new = []\n",
    "    for i in range(len(x)): # voy por cada elemto de la lista\n",
    "        if x[i] < 5:\n",
    "            new.append(x[i])\n",
    "    return new\n",
    "#     return [x[i] for i in range(len(x)) if x[i] < 5]\n"
   ]
  },
  {
   "cell_type": "code",
   "execution_count": 13,
   "metadata": {},
   "outputs": [
    {
     "name": "stdout",
     "output_type": "stream",
     "text": [
      "[2, 1, 4]\n"
     ]
    }
   ],
   "source": [
    "print(less_than_five([2,6,7,8,8,1,4]))\n",
    "      "
   ]
  },
  {
   "cell_type": "code",
   "execution_count": 14,
   "metadata": {},
   "outputs": [],
   "source": [
    "# Create a program that asks the user for a number and then prints out a list of all the divisors of that number. (If you don’t know what a divisor is, it is a number that divides evenly into another number.\n",
    "#For example, 13 is a divisor of 26 because 26 / 13 has no remainder.)\n",
    "# def divi(x): \n",
    "#     \"\"\" this function takes and int and return a list of divisbles numbres from 0 to 10\"\"\"\n",
    "#     new = []\n",
    "#     for i in range(0 ,11):\n",
    "#         if i % x == 0:\n",
    "#             new.append(i)\n",
    "#     return new\n",
    "def divi_1 (x):\n",
    "    \"\"\" this function takes a number a return a list of multples from 0 to 10\"\"\"\n",
    "    return [i for i in range(0,11) if i % x == 0]"
   ]
  },
  {
   "cell_type": "code",
   "execution_count": 15,
   "metadata": {},
   "outputs": [
    {
     "name": "stdout",
     "output_type": "stream",
     "text": [
      "[0, 3, 6, 9]\n"
     ]
    }
   ],
   "source": [
    "print(divi_1(3))"
   ]
  },
  {
   "cell_type": "code",
   "execution_count": 8,
   "metadata": {},
   "outputs": [
    {
     "name": "stdout",
     "output_type": "stream",
     "text": [
      "[1, 5]\n",
      "{1, 2, 3, 5, 8, 13}\n"
     ]
    }
   ],
   "source": [
    "c = [1, 1, 2, 3, 5, 8, 13, 21, 34, 55, 89]\n",
    "d = [1, 2, 3, 4, 5, 6, 7, 8, 9, 10, 11 ,12 ,13]\n",
    "# write a program that returns a list that contains only the elements that are common between \n",
    "#the lists (without duplicates).\n",
    "\n",
    "def unique_elements(a,b):\n",
    "    \"\"\"this function takes two list and return only the unique elemets\n",
    "    of both lists with out repetetiton\"\"\"\n",
    "    con = []\n",
    "    for i in range(len(a)):\n",
    "        for u in range(len(b)):\n",
    "            if a[i] == b[u]:\n",
    "                con.append(a[i])\n",
    "    return set(con)\n",
    "print(unique_elements(c,d))\n"
   ]
  },
  {
   "cell_type": "code",
   "execution_count": 17,
   "metadata": {},
   "outputs": [
    {
     "name": "stdout",
     "output_type": "stream",
     "text": [
      "caac is a palindrome\n",
      "caac is a palindrome\n",
      "caac is a palindrome\n",
      "caac is a palindrome\n"
     ]
    }
   ],
   "source": [
    "#Ask the user for a string and print out whether this string is a palindrome or not. \n",
    "#(A palindrome is a string that reads the same forwards and backwards.)\n",
    "\n",
    "s = 'caac'\n",
    "for i in range(len(s)):\n",
    "    if s[0] == s[-1]:\n",
    "        print(f'{s} is a palindrome')"
   ]
  },
  {
   "cell_type": "code",
   "execution_count": 23,
   "metadata": {},
   "outputs": [],
   "source": [
    "def palin (x):\n",
    "    reverse = x[ :: -1]\n",
    "    if x == reverse:\n",
    "        return(f'this letter {x} is a palindrome')\n",
    "    else:\n",
    "        return (f'this letter {x} is not a palindrome')\n",
    "        "
   ]
  },
  {
   "cell_type": "code",
   "execution_count": 24,
   "metadata": {},
   "outputs": [
    {
     "name": "stdout",
     "output_type": "stream",
     "text": [
      "this letter caca is not a palindrome\n"
     ]
    }
   ],
   "source": [
    "print(palin('house'))"
   ]
  },
  {
   "cell_type": "code",
   "execution_count": 27,
   "metadata": {},
   "outputs": [
    {
     "name": "stdout",
     "output_type": "stream",
     "text": [
      "a\n",
      "ac\n",
      "aca\n",
      "acac\n",
      "None\n"
     ]
    }
   ],
   "source": [
    "def reverse(word):\n",
    "    x = ''\n",
    "    for i in range(len(word)):\n",
    "        x += word[len(word)-1-i] # the len(word) - 1 ==index ,-i go back\n",
    "        print(x)\n",
    "print(reverse('caca'))"
   ]
  },
  {
   "cell_type": "code",
   "execution_count": 38,
   "metadata": {},
   "outputs": [
    {
     "name": "stdout",
     "output_type": "stream",
     "text": [
      "0\n"
     ]
    },
    {
     "ename": "NameError",
     "evalue": "name 'x' is not defined",
     "output_type": "error",
     "traceback": [
      "\u001b[0;31m---------------------------------------------------------------------------\u001b[0m",
      "\u001b[0;31mNameError\u001b[0m                                 Traceback (most recent call last)",
      "\u001b[0;32m<ipython-input-38-50e69ba012d8>\u001b[0m in \u001b[0;36m<module>\u001b[0;34m\u001b[0m\n\u001b[1;32m      3\u001b[0m \u001b[0;32mfor\u001b[0m \u001b[0mi\u001b[0m \u001b[0;32min\u001b[0m \u001b[0mrange\u001b[0m\u001b[0;34m(\u001b[0m\u001b[0mlen\u001b[0m\u001b[0;34m(\u001b[0m\u001b[0ma\u001b[0m\u001b[0;34m)\u001b[0m\u001b[0;34m)\u001b[0m\u001b[0;34m:\u001b[0m\u001b[0;34m\u001b[0m\u001b[0;34m\u001b[0m\u001b[0m\n\u001b[1;32m      4\u001b[0m     \u001b[0mprint\u001b[0m\u001b[0;34m(\u001b[0m\u001b[0mi\u001b[0m\u001b[0;34m)\u001b[0m\u001b[0;34m\u001b[0m\u001b[0;34m\u001b[0m\u001b[0m\n\u001b[0;32m----> 5\u001b[0;31m     \u001b[0mcount\u001b[0m \u001b[0;34m+=\u001b[0m \u001b[0mx\u001b[0m\u001b[0;34m[\u001b[0m\u001b[0mi\u001b[0m\u001b[0;34m-\u001b[0m\u001b[0;36m1\u001b[0m\u001b[0;34m]\u001b[0m\u001b[0;34m\u001b[0m\u001b[0;34m\u001b[0m\u001b[0m\n\u001b[0m\u001b[1;32m      6\u001b[0m     \u001b[0mprint\u001b[0m\u001b[0;34m(\u001b[0m\u001b[0mcount\u001b[0m\u001b[0;34m)\u001b[0m\u001b[0;34m\u001b[0m\u001b[0;34m\u001b[0m\u001b[0m\n",
      "\u001b[0;31mNameError\u001b[0m: name 'x' is not defined"
     ]
    }
   ],
   "source": [
    "# wrong exercite practice more\n",
    "\n",
    "a = 'house'\n",
    "count = 2\n",
    "for i in range(len(a)):\n",
    "    print(i)\n",
    "    count += x[i-1]\n",
    "    print(count)"
   ]
  },
  {
   "cell_type": "code",
   "execution_count": 39,
   "metadata": {},
   "outputs": [
    {
     "name": "stdout",
     "output_type": "stream",
     "text": [
      "[0, 2, 4, 6, 8]\n"
     ]
    }
   ],
   "source": [
    "#Let’s say I give you a list saved in a variable: a = [1, 4, 9, 16, 25, 36, 49, 64, 81, 100].\n",
    "#Write one line of Python that takes this list a and makes a new list that has only the even elements of this list in it.\n",
    "a = [1, 4, 9, 16, 25, 36, 49, 64, 81, 100]\n",
    "print([ i for i in range(len(a)) if i % 2 == 0])"
   ]
  },
  {
   "cell_type": "code",
   "execution_count": 45,
   "metadata": {},
   "outputs": [
    {
     "name": "stdout",
     "output_type": "stream",
     "text": [
      "Rock - Paper- ScissorRock\n",
      "Rock -Paper -ScissorPaper\n",
      "The second player won\n"
     ]
    }
   ],
   "source": [
    "#Make a two-player Rock-Paper-Scissors game. (Hint: Ask for player plays (using input), compare them, print out a message of congratulations to the winner, \n",
    "#and ask if the players want to start a new game)\n",
    "player_1 = input('Rock - Paper- Scissor')\n",
    "player_2 = input('Rock -Paper -Scissor')\n",
    "list_of_chooices = [ 'Rock', 'Paper', 'Scissor']\n",
    "if player_1 == list_of_chooices[0] and player_2 == list_of_chooices[0]:\n",
    "    print(f' we have a tyde with two {list_of_chooices[0]} ')\n",
    "elif player_1 == list_of_chooices[0] and player_2 == list_of_chooices[1]:\n",
    "    print('The second player won')\n",
    "\n"
   ]
  },
  {
   "cell_type": "code",
   "execution_count": 2,
   "metadata": {},
   "outputs": [
    {
     "name": "stdout",
     "output_type": "stream",
     "text": [
      "Enter a number3\n",
      " the 7 is greater than the 3 \n"
     ]
    }
   ],
   "source": [
    "#Generate a random number between 1 and 9 (including 1 and 9). \n",
    "#Ask the user to guess the number, then tell them whether they guessed too low, too high, or exactly right\n",
    "import random as r\n",
    "randon_number = r.randint(1,9)\n",
    "\n",
    "user = int(input('Enter a number'))\n",
    "if randon_number == user:\n",
    "    print(f' the {randon_number} and {user} are equal numbers')\n",
    "elif randon_number > user:\n",
    "    print(f' the {randon_number} is greater than the {user} ')\n",
    "elif randon_number < user:\n",
    "    print(f'the {randon_number} is less than {user}')\n"
   ]
  },
  {
   "cell_type": "code",
   "execution_count": 4,
   "metadata": {},
   "outputs": [
    {
     "name": "stdout",
     "output_type": "stream",
     "text": [
      "{1, 2, 3, 5, 8, 13}\n"
     ]
    }
   ],
   "source": [
    "# example of list comprehansion using two list\n",
    "a = [1, 1, 2, 3, 5, 8, 13, 21, 34, 55, 89]\n",
    "b = [1, 2, 3, 4, 5, 6, 7, 8, 9, 10, 11, 12, 13]\n",
    "c = [i for i in a for u in b if i == u ]\n",
    "print(set(c))"
   ]
  },
  {
   "cell_type": "code",
   "execution_count": null,
   "metadata": {},
   "outputs": [],
   "source": [
    "# note use a while stament for while a certain condition is True, keep doing something."
   ]
  },
  {
   "cell_type": "code",
   "execution_count": 7,
   "metadata": {},
   "outputs": [],
   "source": [
    "def prime(x):\n",
    "    while x > 1:\n",
    "        if x % x == 0 and x % 1 == 0:\n",
    "            return('This numner is prime')\n",
    "        else:\n",
    "            return('This number is not prime')"
   ]
  },
  {
   "cell_type": "code",
   "execution_count": 12,
   "metadata": {},
   "outputs": [
    {
     "name": "stdout",
     "output_type": "stream",
     "text": [
      "None\n"
     ]
    }
   ],
   "source": [
    "print(prime())"
   ]
  },
  {
   "cell_type": "code",
   "execution_count": 20,
   "metadata": {},
   "outputs": [
    {
     "name": "stdout",
     "output_type": "stream",
     "text": [
      "Prime numbers between 900 and 1000 are:\n",
      "907\n",
      "911\n",
      "919\n",
      "929\n",
      "937\n",
      "941\n",
      "947\n",
      "953\n",
      "967\n",
      "971\n",
      "977\n",
      "983\n",
      "991\n",
      "997\n"
     ]
    }
   ],
   "source": [
    "lower = 900\n",
    "upper = 1000\n",
    "\n",
    "# uncomment the following lines to take input from the user\n",
    "#lower = int(input(\"Enter lower range: \"))\n",
    "#upper = int(input(\"Enter upper range: \"))\n",
    "\n",
    "print(\"Prime numbers between\",lower,\"and\",upper,\"are:\")\n",
    "\n",
    "for num in range(lower,upper + 1): # por cada elemento entere 900 y 1000\n",
    "   # prime numbers are greater than 1\n",
    "   if num > 1: # si el elemetno es mayor que uno\n",
    "    for i in range(2,num):\n",
    "        \n",
    "        \n",
    "        if (num % i) == 0:\n",
    "               break\n",
    "    else:\n",
    "           print(num)"
   ]
  },
  {
   "cell_type": "code",
   "execution_count": null,
   "metadata": {},
   "outputs": [],
   "source": [
    "for n in range( 100 , 201): # stablece limit de 100 a 200\n",
    "    if n > 1: # si 1 es menor que los numeros de 100 a 200\n",
    "        for i in range(4 , n): # por cada elemento de desde dos hasta 200\n",
    "            if (n % i) == 0: # si el numero es \n",
    "                break\n",
    "        else:\n",
    "            print(n)"
   ]
  },
  {
   "cell_type": "code",
   "execution_count": 11,
   "metadata": {},
   "outputs": [],
   "source": [
    "friends = {'name': 'Friends',\n",
    " 'genre': 'sitcom',\n",
    " 'no_of_seasons': 10,\n",
    " 'no_of_episodes': 236,\n",
    " 'creators': ['David Crane', 'Marta Kauffman']}"
   ]
  },
  {
   "cell_type": "code",
   "execution_count": 12,
   "metadata": {},
   "outputs": [],
   "source": [
    "aida = {'name': 'Aida',\n",
    " 'creators': ['Larry David', 'Jerry Seinfeld'],\n",
    " 'genre': 'sitcom',\n",
    " 'no_of_seasons': 10,\n",
    " 'no_of_episodes': 180}"
   ]
  },
  {
   "cell_type": "code",
   "execution_count": 13,
   "metadata": {},
   "outputs": [],
   "source": [
    "tv_shows = [ friends ,aida ] # my obj se llama tv_shows y dentro tiene dos diccinarios"
   ]
  },
  {
   "cell_type": "code",
   "execution_count": 14,
   "metadata": {},
   "outputs": [
    {
     "data": {
      "text/plain": [
       "[{'name': 'Friends',\n",
       "  'genre': 'sitcom',\n",
       "  'no_of_seasons': 10,\n",
       "  'no_of_episodes': 236,\n",
       "  'creators': ['David Crane', 'Marta Kauffman']},\n",
       " {'name': 'Aida',\n",
       "  'creators': ['Larry David', 'Jerry Seinfeld'],\n",
       "  'genre': 'sitcom',\n",
       "  'no_of_seasons': 10,\n",
       "  'no_of_episodes': 180}]"
      ]
     },
     "execution_count": 14,
     "metadata": {},
     "output_type": "execute_result"
    }
   ],
   "source": [
    "tv_shows"
   ]
  },
  {
   "cell_type": "code",
   "execution_count": 16,
   "metadata": {},
   "outputs": [
    {
     "data": {
      "text/plain": [
       "'David Crane'"
      ]
     },
     "execution_count": 16,
     "metadata": {},
     "output_type": "execute_result"
    }
   ],
   "source": [
    "tv_shows[0]['creators'][0]"
   ]
  },
  {
   "cell_type": "code",
   "execution_count": 18,
   "metadata": {},
   "outputs": [
    {
     "name": "stdout",
     "output_type": "stream",
     "text": [
      "{'name': 'Friends', 'genre': 'sitcom', 'no_of_seasons': 10, 'no_of_episodes': 236, 'creators': ['David Crane', 'Marta Kauffman']}\n",
      "{'name': 'Aida', 'creators': ['Larry David', 'Jerry Seinfeld'], 'genre': 'sitcom', 'no_of_seasons': 10, 'no_of_episodes': 180}\n"
     ]
    }
   ],
   "source": [
    "for i in tv_shows:\n",
    "    print(i)"
   ]
  },
  {
   "cell_type": "code",
   "execution_count": 23,
   "metadata": {},
   "outputs": [
    {
     "name": "stdout",
     "output_type": "stream",
     "text": [
      "name\n",
      "genre\n",
      "no_of_seasons\n",
      "no_of_episodes\n",
      "creators\n",
      "name\n",
      "creators\n",
      "genre\n",
      "no_of_seasons\n",
      "no_of_episodes\n"
     ]
    }
   ],
   "source": [
    "for i in tv_shows:\n",
    "    for k , v in i.items():\n",
    "        print(k)"
   ]
  },
  {
   "cell_type": "code",
   "execution_count": 25,
   "metadata": {},
   "outputs": [
    {
     "name": "stdout",
     "output_type": "stream",
     "text": [
      "Friends\n",
      "Aida\n"
     ]
    }
   ],
   "source": [
    "for i in tv_shows: # por cada elemeto en la lista tv_shows\n",
    "    for k,v in i.items(): # por cada key , value in el dicctitio i\n",
    "        if k == 'name': # si la k == 'name'\n",
    "            print(v) # devuelveme el value me deveuelve dos porque estoy en un loop"
   ]
  },
  {
   "cell_type": "code",
   "execution_count": 27,
   "metadata": {},
   "outputs": [
    {
     "name": "stdout",
     "output_type": "stream",
     "text": [
      "David Crane\n",
      "Larry David\n"
     ]
    }
   ],
   "source": [
    "for i in tv_shows: # loop over a list\n",
    "    for k ,v in i.items(): # loop over a dict \n",
    "        if k == 'creators': # filtro my busqueda\n",
    "            print(v[0]) # imprimo el primer elemto de la lista"
   ]
  },
  {
   "cell_type": "code",
   "execution_count": 28,
   "metadata": {},
   "outputs": [
    {
     "name": "stdout",
     "output_type": "stream",
     "text": [
      "['David Crane', 'Marta Kauffman']\n",
      "['Larry David', 'Jerry Seinfeld']\n"
     ]
    }
   ],
   "source": [
    "for i in tv_shows: # loop over a list\n",
    "    for k , v in i.items(): # loop over a dict \n",
    "        if k == 'creators': # filtro muy busqueda \n",
    "            print(v) # imprimo los values"
   ]
  },
  {
   "cell_type": "markdown",
   "metadata": {},
   "source": [
    "Write a program that takes a list of numbers (for example, a = [5, 10, 15, 20, 25]) and makes a new list of only the first and last elements of the given list. For practice, write this code inside a function."
   ]
  },
  {
   "cell_type": "code",
   "execution_count": 48,
   "metadata": {},
   "outputs": [],
   "source": [
    "def first_last(x):\n",
    "    new = []\n",
    "    for index in range(len(x)): # index\n",
    "        if index == x[0] or index == x[-1]: # si las dos cosas son verdad pega el\n",
    "            new.append((x[0] , x[-1]))\n",
    "#         elif index == x[-1]:\n",
    "#             new.append(x[-1])\n",
    "    return new"
   ]
  },
  {
   "cell_type": "code",
   "execution_count": 49,
   "metadata": {},
   "outputs": [
    {
     "name": "stdout",
     "output_type": "stream",
     "text": [
      "[(2, 5)]\n"
     ]
    }
   ],
   "source": [
    "a = [2,3,4,5]\n",
    "print(first_last(a))"
   ]
  },
  {
   "cell_type": "code",
   "execution_count": 57,
   "metadata": {},
   "outputs": [],
   "source": [
    "def f_l (x):\n",
    "    new_list = [ (x[0] , x[-1]) for index in range(len(x)) if index == x[0] or index == x[-1] ]\n",
    "    return new_list"
   ]
  },
  {
   "cell_type": "code",
   "execution_count": 58,
   "metadata": {},
   "outputs": [
    {
     "name": "stdout",
     "output_type": "stream",
     "text": [
      "[(2, 5)]\n"
     ]
    }
   ],
   "source": [
    "print(f_l(a))"
   ]
  },
  {
   "cell_type": "code",
   "execution_count": 61,
   "metadata": {},
   "outputs": [],
   "source": [
    "def list_ends(x):\n",
    "    return [x[0], x[len(x)-1]] # in a index you can put whatever that its a number\n",
    "# indexing its len(x)- 1 its the same as x[-1] "
   ]
  },
  {
   "cell_type": "code",
   "execution_count": 62,
   "metadata": {},
   "outputs": [
    {
     "name": "stdout",
     "output_type": "stream",
     "text": [
      "[2, 5]\n"
     ]
    }
   ],
   "source": [
    "print(list_ends(a))"
   ]
  },
  {
   "cell_type": "markdown",
   "metadata": {},
   "source": [
    "Write a program (function!) that takes a list and returns a new list that contains all the elements of the first list minus all the duplicates.\n",
    "\n",
    "Extras:\n",
    "\n",
    "Write two different functions to do this - one using a loop and constructing a list, and another using sets.\n",
    "Go back and do Exercise 5 using sets, and write the solution for that in a different function."
   ]
  },
  {
   "cell_type": "code",
   "execution_count": 63,
   "metadata": {},
   "outputs": [],
   "source": [
    "a = [2,3,4,5,6,6,3,5]\n",
    "unique_elemets = set(a)"
   ]
  },
  {
   "cell_type": "code",
   "execution_count": 64,
   "metadata": {},
   "outputs": [
    {
     "data": {
      "text/plain": [
       "{2, 3, 4, 5, 6}"
      ]
     },
     "execution_count": 64,
     "metadata": {},
     "output_type": "execute_result"
    }
   ],
   "source": [
    "unique_elemets"
   ]
  },
  {
   "cell_type": "code",
   "execution_count": 68,
   "metadata": {},
   "outputs": [
    {
     "ename": "IndexError",
     "evalue": "list index out of range",
     "output_type": "error",
     "traceback": [
      "\u001b[0;31m---------------------------------------------------------------------------\u001b[0m",
      "\u001b[0;31mIndexError\u001b[0m                                Traceback (most recent call last)",
      "\u001b[0;32m<ipython-input-68-64227a9489fa>\u001b[0m in \u001b[0;36m<module>\u001b[0;34m\u001b[0m\n\u001b[1;32m      1\u001b[0m \u001b[0mnew\u001b[0m \u001b[0;34m=\u001b[0m \u001b[0;34m[\u001b[0m\u001b[0;34m]\u001b[0m \u001b[0;31m# creo un container\u001b[0m\u001b[0;34m\u001b[0m\u001b[0;34m\u001b[0m\u001b[0m\n\u001b[1;32m      2\u001b[0m \u001b[0;32mfor\u001b[0m \u001b[0mindex\u001b[0m \u001b[0;32min\u001b[0m \u001b[0ma\u001b[0m\u001b[0;34m:\u001b[0m \u001b[0;31m# loop over the index\u001b[0m\u001b[0;34m\u001b[0m\u001b[0;34m\u001b[0m\u001b[0m\n\u001b[0;32m----> 3\u001b[0;31m     \u001b[0;32mif\u001b[0m \u001b[0ma\u001b[0m\u001b[0;34m[\u001b[0m\u001b[0mindex\u001b[0m\u001b[0;34m]\u001b[0m \u001b[0;32min\u001b[0m \u001b[0ma\u001b[0m\u001b[0;34m:\u001b[0m\u001b[0;34m\u001b[0m\u001b[0;34m\u001b[0m\u001b[0m\n\u001b[0m\u001b[1;32m      4\u001b[0m         \u001b[0ma\u001b[0m\u001b[0;34m.\u001b[0m\u001b[0mremove\u001b[0m\u001b[0;34m(\u001b[0m\u001b[0ma\u001b[0m\u001b[0;34m[\u001b[0m\u001b[0mindex\u001b[0m\u001b[0;34m]\u001b[0m\u001b[0;34m)\u001b[0m\u001b[0;34m\u001b[0m\u001b[0;34m\u001b[0m\u001b[0m\n\u001b[1;32m      5\u001b[0m     \u001b[0;32melse\u001b[0m\u001b[0;34m:\u001b[0m\u001b[0;34m\u001b[0m\u001b[0;34m\u001b[0m\u001b[0m\n",
      "\u001b[0;31mIndexError\u001b[0m: list index out of range"
     ]
    }
   ],
   "source": [
    "new = [] # creo un container\n",
    "for index in a: # loop over the index\n",
    "    if a[index] in a:\n",
    "        a.remove(a[index])\n",
    "    else:\n",
    "        new.append(a[index])\n",
    "print(a)\n",
    "        "
   ]
  },
  {
   "cell_type": "code",
   "execution_count": 72,
   "metadata": {},
   "outputs": [
    {
     "name": "stdout",
     "output_type": "stream",
     "text": [
      "0\n",
      "1\n",
      "2\n",
      "3\n",
      "4\n",
      "5\n",
      "6\n",
      "7\n",
      "[2, 3, 4, 5, 6, 6, 3, 5]\n",
      "[2, 3, 4, 5, 6, 6, 3, 5]\n",
      "[2, 3, 4, 5, 6, 6, 3, 5]\n",
      "[2, 3, 4, 5, 6, 6, 3, 5]\n",
      "[2, 3, 4, 5, 6, 6, 3, 5]\n",
      "[2, 3, 4, 5, 6, 6, 3, 5]\n",
      "[2, 3, 4, 5, 6, 6, 3, 5]\n",
      "[2, 3, 4, 5, 6, 6, 3, 5]\n"
     ]
    }
   ],
   "source": [
    "a = [2,3,4,5,6,6,3,5]\n",
    "\n",
    "for i in range(len(a)): # ssto me da los index\n",
    "    print(i)\n"
   ]
  },
  {
   "cell_type": "code",
   "execution_count": null,
   "metadata": {},
   "outputs": [],
   "source": [
    "for i in a: # esto me da los numeros\n",
    "    print(a)"
   ]
  },
  {
   "cell_type": "code",
   "execution_count": 77,
   "metadata": {},
   "outputs": [
    {
     "name": "stdout",
     "output_type": "stream",
     "text": [
      "[2, 3, 4]\n"
     ]
    }
   ],
   "source": [
    "a = [2,3,4,2,3]\n",
    "new = []\n",
    "for i in a:\n",
    "    if i not in new: # si ese elemto no esta en new BOOM!\n",
    "        new.append(i)\n",
    "print(new)"
   ]
  },
  {
   "cell_type": "code",
   "execution_count": 86,
   "metadata": {},
   "outputs": [],
   "source": [
    "from scipy import stats\n",
    "rvs1 = stats.norm.rvs(loc=5,scale=10,size=500)\n",
    "rvs5 = stats.norm.rvs(loc=8, scale=20, size=100)\n"
   ]
  },
  {
   "cell_type": "code",
   "execution_count": 87,
   "metadata": {},
   "outputs": [
    {
     "data": {
      "text/plain": [
       "Ttest_indResult(statistic=-2.3404060123111083, pvalue=0.019590599831782834)"
      ]
     },
     "execution_count": 87,
     "metadata": {},
     "output_type": "execute_result"
    }
   ],
   "source": [
    "stats.ttest_ind(rvs1, rvs5)"
   ]
  },
  {
   "cell_type": "markdown",
   "metadata": {},
   "source": [
    "Given an array of non-negative integers, you are initially positioned at the first index of the array.\n",
    "\n",
    "Each element in the array represents your maximum jump length at that position.\n",
    "\n",
    "Determine if you are able to reach the last index.\n",
    "https://leetcode.com/problems/jump-game/"
   ]
  },
  {
   "cell_type": "code",
   "execution_count": 96,
   "metadata": {},
   "outputs": [],
   "source": [
    "# empiez desde la posicion zero y despues dependiendo del numero que siga el el salto que voy a dar\n",
    "a = [1,5,0,3]\n",
    "\n",
    "def jump(x):\n",
    "    start = 0 # empeizo en zero\n",
    "    for i in range(len(x)): # por cada elemento en el index\n",
    "        if  x[i] > len(x): # si el elemto es mayor que la len\n",
    "            return False  \n",
    "        else:\n",
    "            return True\n",
    "    "
   ]
  },
  {
   "cell_type": "code",
   "execution_count": 97,
   "metadata": {},
   "outputs": [
    {
     "name": "stdout",
     "output_type": "stream",
     "text": [
      "True\n"
     ]
    }
   ],
   "source": [
    "print(jump(a))"
   ]
  },
  {
   "cell_type": "code",
   "execution_count": null,
   "metadata": {},
   "outputs": [],
   "source": [
    "def canJump(list_,i=0):\n",
    "    if i == len(list_)-1:\n",
    "        return True\n",
    "    if True in [canJump(list_[i:],i=j) for j in range(list_[i] + 1)[1:]]:\n",
    "        return True\n",
    "    else:\n",
    "        return False"
   ]
  },
  {
   "cell_type": "markdown",
   "metadata": {},
   "source": [
    "Write a program (using functions!) that asks the user for a long string containing multiple words. Print back to the user the same string, except with the words in backwards order. For example, say I type the string:\n",
    "  My name is Michele\n",
    "Then I would see the string:\n",
    "\n",
    "  Michele is name My\n",
    "shown back to me."
   ]
  },
  {
   "cell_type": "code",
   "execution_count": 109,
   "metadata": {},
   "outputs": [],
   "source": [
    "def reverse(x):\n",
    "    return x[: : -1]"
   ]
  },
  {
   "cell_type": "code",
   "execution_count": 119,
   "metadata": {},
   "outputs": [],
   "source": [
    "x = \"My name is Michele\""
   ]
  },
  {
   "cell_type": "code",
   "execution_count": 113,
   "metadata": {},
   "outputs": [
    {
     "name": "stdout",
     "output_type": "stream",
     "text": [
      "elehciMsiemanyM\n"
     ]
    }
   ],
   "source": [
    "print(reverse(x))"
   ]
  },
  {
   "cell_type": "code",
   "execution_count": 130,
   "metadata": {},
   "outputs": [],
   "source": [
    "#  method 1: loop through the words and insert each word at the begining of the result list\n",
    "def reverse_v1(x):\n",
    "    y = x.split()\n",
    "    print(y) #split method \n",
    "    result = [] # \n",
    "    for word in y:\n",
    "        print(word)# for each word in y \n",
    "        result.insert(0,word) # insert\n",
    "    return \" \".join(result) # join \n"
   ]
  },
  {
   "cell_type": "code",
   "execution_count": 131,
   "metadata": {},
   "outputs": [
    {
     "name": "stdout",
     "output_type": "stream",
     "text": [
      "['My', 'name', 'is', 'Michele']\n",
      "My\n",
      "name\n",
      "is\n",
      "Michele\n",
      "Michele is name My\n"
     ]
    }
   ],
   "source": [
    "print(reverse_v1(x))"
   ]
  },
  {
   "cell_type": "code",
   "execution_count": 137,
   "metadata": {},
   "outputs": [],
   "source": [
    "a = \"cristina mulas\""
   ]
  },
  {
   "cell_type": "code",
   "execution_count": 138,
   "metadata": {},
   "outputs": [
    {
     "data": {
      "text/plain": [
       "['cristina', 'mulas']"
      ]
     },
     "execution_count": 138,
     "metadata": {},
     "output_type": "execute_result"
    }
   ],
   "source": [
    "a.split() # slip is a method tha slit a str into a list"
   ]
  },
  {
   "cell_type": "code",
   "execution_count": 141,
   "metadata": {},
   "outputs": [
    {
     "data": {
      "text/plain": [
       "'  c r i s t i n a   m u l a s'"
      ]
     },
     "execution_count": 141,
     "metadata": {},
     "output_type": "execute_result"
    }
   ],
   "source": [
    "\" \".join(a) # convert a list into a str"
   ]
  },
  {
   "cell_type": "markdown",
   "metadata": {},
   "source": [
    "Create a program that will play the “cows and bulls” game with the user. The game works like this:\n",
    "\n",
    "Randomly generate a 4-digit number. Ask the user to guess a 4-digit number. For every digit that the user guessed correctly in the correct place, they have a “cow”. For every digit the user guessed correctly in the wrong place is a “bull.” Every time the user makes a guess, tell them how many “cows” and “bulls” they have. Once the user guesses the correct number, the game is over. Keep track of the number of guesses the user makes throughout teh game and tell the user at the end."
   ]
  },
  {
   "cell_type": "code",
   "execution_count": 163,
   "metadata": {},
   "outputs": [
    {
     "data": {
      "text/plain": [
       "[3, 4, 1, 2]"
      ]
     },
     "execution_count": 163,
     "metadata": {},
     "output_type": "execute_result"
    }
   ],
   "source": [
    "import random\n",
    "numbers = random.sample(range(1, 5), 4)\n",
    "numbers"
   ]
  },
  {
   "cell_type": "code",
   "execution_count": 173,
   "metadata": {},
   "outputs": [
    {
     "name": "stdout",
     "output_type": "stream",
     "text": [
      "please enter a 4 digits number:1234\n"
     ]
    }
   ],
   "source": [
    "anwers = (input('please enter a 4 digits number:'))"
   ]
  },
  {
   "cell_type": "code",
   "execution_count": 178,
   "metadata": {},
   "outputs": [],
   "source": [
    "from collections import Counter"
   ]
  },
  {
   "cell_type": "code",
   "execution_count": 177,
   "metadata": {},
   "outputs": [
    {
     "name": "stdout",
     "output_type": "stream",
     "text": [
      "no cow\n",
      "no cow\n",
      "no cow\n",
      "no cow\n",
      "no cow\n",
      "no cow\n",
      "no cow\n",
      "no cow\n",
      "no cow\n",
      "no cow\n",
      "no cow\n",
      "no cow\n",
      "no cow\n",
      "no cow\n",
      "no cow\n",
      "no cow\n"
     ]
    }
   ],
   "source": [
    "# quiero comparar el numero que he sacado con el numero que la mquina ha sacado\n",
    "c = 0 # empiezo a contar en zero\n",
    "for ele in numbers: # por cada elemeto en los \n",
    "    for i in range(len(anwers)):\n",
    "        if ele == v:\n",
    "            c += 1\n",
    "        else:\n"
   ]
  },
  {
   "cell_type": "code",
   "execution_count": 181,
   "metadata": {},
   "outputs": [
    {
     "name": "stdout",
     "output_type": "stream",
     "text": [
      "3\n"
     ]
    }
   ],
   "source": [
    "# exaple of counter\n",
    "word = 'banana' # tengo un str\n",
    "count = 0 # empeizo a contar desde 0 \n",
    "for letter in word: # por cada letra en la palabra\n",
    "    if letter == 'a': # si la letra es igual que a\n",
    "        count = count + 1 # si esto es verda cuenta uno\n",
    "print (count) # devuelveme cuantas letras a hay en la palabra\n"
   ]
  },
  {
   "cell_type": "code",
   "execution_count": 182,
   "metadata": {},
   "outputs": [
    {
     "name": "stdout",
     "output_type": "stream",
     "text": [
      "2\n"
     ]
    }
   ],
   "source": [
    "my_list = [ 1,2,3,4 , 1 ,2]\n",
    "count = 0\n",
    "for number in my_list:\n",
    "    if number == 1:\n",
    "        count += 1\n",
    "print(count)"
   ]
  },
  {
   "cell_type": "code",
   "execution_count": 185,
   "metadata": {},
   "outputs": [
    {
     "name": "stdout",
     "output_type": "stream",
     "text": [
      "{'casa': 2, 'mesa': 2, 'houes': 1, 'aramro': 1}\n"
     ]
    }
   ],
   "source": [
    "my_list_2 = ['casa','casa','mesa','mesa','houes','aramro']\n",
    "# ahora lo que quiero es contar los elemetos de mi list y quiero ese elemeto mas el numero de reprticiones\n",
    "dit = {} # tengo un diccinario vacio donde queiro poner mis nuevos elemtos\n",
    "count = 0 # empiezo a contar desde zero thoooo\n",
    "for el in my_list_2: # por cada elemeto en my list\n",
    "    if el not in dit: # so el elemento no esta en mi diccionario\n",
    "        dit[el]  = 1# create a new item with a key[c] and the initial value 1\n",
    "    else:\n",
    "        dit[el] += 1 #  if c is alreday in the diccinary we increamtn d[c]\n",
    "print(dit)\n",
    "        "
   ]
  },
  {
   "cell_type": "markdown",
   "metadata": {},
   "source": [
    "The first line of the function creates an empty dictionary. The for loop traverses the string.\n",
    "Each time through the loop, if the character c is not in the dictionary, we create a new item\n",
    "with key c and the initial value 1 (since we have seen this letter once). If c is already in the\n",
    "dictionary we increment d[c]."
   ]
  }
 ],
 "metadata": {
  "kernelspec": {
   "display_name": "Python 3",
   "language": "python",
   "name": "python3"
  },
  "language_info": {
   "codemirror_mode": {
    "name": "ipython",
    "version": 3
   },
   "file_extension": ".py",
   "mimetype": "text/x-python",
   "name": "python",
   "nbconvert_exporter": "python",
   "pygments_lexer": "ipython3",
   "version": "3.7.1"
  }
 },
 "nbformat": 4,
 "nbformat_minor": 2
}
