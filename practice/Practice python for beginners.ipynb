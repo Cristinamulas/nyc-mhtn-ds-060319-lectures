{
 "cells": [
  {
   "cell_type": "markdown",
   "metadata": {},
   "source": [
    "## Exercices Begginers Pracice Python"
   ]
  },
  {
   "cell_type": "markdown",
   "metadata": {},
   "source": [
    "- https://www.practicepython.org/exercise/2014/01/29/01-character-input.html"
   ]
  },
  {
   "cell_type": "code",
   "execution_count": 2,
   "metadata": {},
   "outputs": [
    {
     "name": "stdout",
     "output_type": "stream",
     "text": [
      " please tell me your namecaca\n",
      "How old are you?4\n",
      " hi caca your the year you will turn 100 will be -2111 \n"
     ]
    }
   ],
   "source": [
    "#1 06/04/2019\n",
    "#Create a program that asks the user to enter their name and their age. Print out a message addressed to them that \n",
    "#tells them the year that they will turn 100 years old.\n",
    "name = input(\" please tell me your name\")\n",
    "age = int(input('How old are you?'))\n",
    "cal_1= 100 - age\n",
    "year = 2019 + cal_1\n",
    "cal_2 = age - year\n",
    "print(f' hi {name} your the year you will turn 100 will be {cal_2} ')"
   ]
  },
  {
   "cell_type": "code",
   "execution_count": null,
   "metadata": {},
   "outputs": [],
   "source": [
    "#Ask the user for a number. Depending on whether the number is even or odd, print out an appropriate message to the user. Hint: how does an even / odd number react differently when divided by 2?\n",
    "#Extras:\n"
   ]
  },
  {
   "cell_type": "code",
   "execution_count": null,
   "metadata": {},
   "outputs": [],
   "source": [
    "number = int(input('please enter a number:'))\n",
    "if number % 2 == 0:\n",
    "    print(f' this number :{number} is even')\n",
    "    if number \n",
    "else:\n",
    "    print(f' this number:{number} is odd')"
   ]
  },
  {
   "cell_type": "code",
   "execution_count": 12,
   "metadata": {},
   "outputs": [],
   "source": [
    "def odd_even (x):\n",
    "    \"\"\" function that takes a list and return  another list only  with even numbers\"\"\"\n",
    "    return [i for i in range(len(x)) if i % 2 == 0]"
   ]
  },
  {
   "cell_type": "code",
   "execution_count": 13,
   "metadata": {},
   "outputs": [
    {
     "name": "stdout",
     "output_type": "stream",
     "text": [
      "[0, 2, 4]\n"
     ]
    }
   ],
   "source": [
    "a = [ 2,3,4,5,6]\n",
    "print(odd_even(a))"
   ]
  },
  {
   "cell_type": "code",
   "execution_count": null,
   "metadata": {},
   "outputs": [],
   "source": [
    "#Ask the user for two numbers: one number to check (call it num) and one number to divide by (check). If check divides evenly into num, tell that to the user. If not, print a different appropriate message.\n"
   ]
  },
  {
   "cell_type": "code",
   "execution_count": null,
   "metadata": {},
   "outputs": [],
   "source": [
    "num = int(input('please enter a number:'))\n",
    "check = int(input('please enter a number'))\n",
    "if check % num == 0:\n",
    "    print(f'this {num} divedes evenly by {check}')\n",
    "else:\n",
    "    print(f'this {num} do not divides evenly by {check}')"
   ]
  },
  {
   "cell_type": "code",
   "execution_count": null,
   "metadata": {},
   "outputs": [],
   "source": [
    "# find the multiples of a number\n",
    "def multi(n,m):\n",
    "    '''this func takes a two int and return a list of multiples'''\n",
    "    return list(range(0, (m+1)*n, n)[1:])\n"
   ]
  },
  {
   "cell_type": "code",
   "execution_count": null,
   "metadata": {},
   "outputs": [],
   "source": [
    "print(multi(2,5))"
   ]
  },
  {
   "cell_type": "code",
   "execution_count": 12,
   "metadata": {},
   "outputs": [],
   "source": [
    "#and write a function that prints out all the elements of the list that are less than 5.\n",
    "def less_than_five(x):\n",
    "    new = []\n",
    "    for i in range(len(x)): # voy por cada elemto de la lista\n",
    "        if x[i] < 5:\n",
    "            new.append(x[i])\n",
    "    return new\n",
    "#     return [x[i] for i in range(len(x)) if x[i] < 5]\n"
   ]
  },
  {
   "cell_type": "code",
   "execution_count": 13,
   "metadata": {},
   "outputs": [
    {
     "name": "stdout",
     "output_type": "stream",
     "text": [
      "[2, 1, 4]\n"
     ]
    }
   ],
   "source": [
    "print(less_than_five([2,6,7,8,8,1,4]))\n",
    "      "
   ]
  },
  {
   "cell_type": "code",
   "execution_count": 14,
   "metadata": {},
   "outputs": [],
   "source": [
    "# Create a program that asks the user for a number and then prints out a list of all the divisors of that number. (If you don’t know what a divisor is, it is a number that divides evenly into another number.\n",
    "#For example, 13 is a divisor of 26 because 26 / 13 has no remainder.)\n",
    "# def divi(x): \n",
    "#     \"\"\" this function takes and int and return a list of divisbles numbres from 0 to 10\"\"\"\n",
    "#     new = []\n",
    "#     for i in range(0 ,11):\n",
    "#         if i % x == 0:\n",
    "#             new.append(i)\n",
    "#     return new\n",
    "def divi_1 (x):\n",
    "    \"\"\" this function takes a number a return a list of multples from 0 to 10\"\"\"\n",
    "    return [i for i in range(0,11) if i % x == 0]"
   ]
  },
  {
   "cell_type": "code",
   "execution_count": 15,
   "metadata": {},
   "outputs": [
    {
     "name": "stdout",
     "output_type": "stream",
     "text": [
      "[0, 3, 6, 9]\n"
     ]
    }
   ],
   "source": [
    "print(divi_1(3))"
   ]
  },
  {
   "cell_type": "code",
   "execution_count": 8,
   "metadata": {},
   "outputs": [
    {
     "name": "stdout",
     "output_type": "stream",
     "text": [
      "[1, 5]\n",
      "{1, 2, 3, 5, 8, 13}\n"
     ]
    }
   ],
   "source": [
    "c = [1, 1, 2, 3, 5, 8, 13, 21, 34, 55, 89]\n",
    "d = [1, 2, 3, 4, 5, 6, 7, 8, 9, 10, 11 ,12 ,13]\n",
    "# write a program that returns a list that contains only the elements that are common between \n",
    "#the lists (without duplicates).\n",
    "\n",
    "def unique_elements(a,b):\n",
    "    \"\"\"this function takes two list and return only the unique elemets\n",
    "    of both lists with out repetetiton\"\"\"\n",
    "    con = []\n",
    "    for i in range(len(a)):\n",
    "        for u in range(len(b)):\n",
    "            if a[i] == b[u]:\n",
    "                con.append(a[i])\n",
    "    return set(con)\n",
    "print(unique_elements(c,d))\n"
   ]
  },
  {
   "cell_type": "code",
   "execution_count": 17,
   "metadata": {},
   "outputs": [
    {
     "name": "stdout",
     "output_type": "stream",
     "text": [
      "caac is a palindrome\n",
      "caac is a palindrome\n",
      "caac is a palindrome\n",
      "caac is a palindrome\n"
     ]
    }
   ],
   "source": [
    "#Ask the user for a string and print out whether this string is a palindrome or not. \n",
    "#(A palindrome is a string that reads the same forwards and backwards.)\n",
    "\n",
    "s = 'caac'\n",
    "for i in range(len(s)):\n",
    "    if s[0] == s[-1]:\n",
    "        print(f'{s} is a palindrome')"
   ]
  },
  {
   "cell_type": "code",
   "execution_count": 23,
   "metadata": {},
   "outputs": [],
   "source": [
    "def palin (x):\n",
    "    reverse = x[ :: -1]\n",
    "    if x == reverse:\n",
    "        return(f'this letter {x} is a palindrome')\n",
    "    else:\n",
    "        return (f'this letter {x} is not a palindrome')\n",
    "        "
   ]
  },
  {
   "cell_type": "code",
   "execution_count": 24,
   "metadata": {},
   "outputs": [
    {
     "name": "stdout",
     "output_type": "stream",
     "text": [
      "this letter caca is not a palindrome\n"
     ]
    }
   ],
   "source": [
    "print(palin('house'))"
   ]
  },
  {
   "cell_type": "code",
   "execution_count": 27,
   "metadata": {},
   "outputs": [
    {
     "name": "stdout",
     "output_type": "stream",
     "text": [
      "a\n",
      "ac\n",
      "aca\n",
      "acac\n",
      "None\n"
     ]
    }
   ],
   "source": [
    "def reverse(word):\n",
    "    x = ''\n",
    "    for i in range(len(word)):\n",
    "        x += word[len(word)-1-i] # the len(word) - 1 ==index ,-i go back\n",
    "        print(x)\n",
    "print(reverse('caca'))"
   ]
  },
  {
   "cell_type": "code",
   "execution_count": 38,
   "metadata": {},
   "outputs": [
    {
     "name": "stdout",
     "output_type": "stream",
     "text": [
      "0\n"
     ]
    },
    {
     "ename": "NameError",
     "evalue": "name 'x' is not defined",
     "output_type": "error",
     "traceback": [
      "\u001b[0;31m---------------------------------------------------------------------------\u001b[0m",
      "\u001b[0;31mNameError\u001b[0m                                 Traceback (most recent call last)",
      "\u001b[0;32m<ipython-input-38-50e69ba012d8>\u001b[0m in \u001b[0;36m<module>\u001b[0;34m\u001b[0m\n\u001b[1;32m      3\u001b[0m \u001b[0;32mfor\u001b[0m \u001b[0mi\u001b[0m \u001b[0;32min\u001b[0m \u001b[0mrange\u001b[0m\u001b[0;34m(\u001b[0m\u001b[0mlen\u001b[0m\u001b[0;34m(\u001b[0m\u001b[0ma\u001b[0m\u001b[0;34m)\u001b[0m\u001b[0;34m)\u001b[0m\u001b[0;34m:\u001b[0m\u001b[0;34m\u001b[0m\u001b[0;34m\u001b[0m\u001b[0m\n\u001b[1;32m      4\u001b[0m     \u001b[0mprint\u001b[0m\u001b[0;34m(\u001b[0m\u001b[0mi\u001b[0m\u001b[0;34m)\u001b[0m\u001b[0;34m\u001b[0m\u001b[0;34m\u001b[0m\u001b[0m\n\u001b[0;32m----> 5\u001b[0;31m     \u001b[0mcount\u001b[0m \u001b[0;34m+=\u001b[0m \u001b[0mx\u001b[0m\u001b[0;34m[\u001b[0m\u001b[0mi\u001b[0m\u001b[0;34m-\u001b[0m\u001b[0;36m1\u001b[0m\u001b[0;34m]\u001b[0m\u001b[0;34m\u001b[0m\u001b[0;34m\u001b[0m\u001b[0m\n\u001b[0m\u001b[1;32m      6\u001b[0m     \u001b[0mprint\u001b[0m\u001b[0;34m(\u001b[0m\u001b[0mcount\u001b[0m\u001b[0;34m)\u001b[0m\u001b[0;34m\u001b[0m\u001b[0;34m\u001b[0m\u001b[0m\n",
      "\u001b[0;31mNameError\u001b[0m: name 'x' is not defined"
     ]
    }
   ],
   "source": [
    "# wrong exercite practice more\n",
    "\n",
    "a = 'house'\n",
    "count = 2\n",
    "for i in range(len(a)):\n",
    "    print(i)\n",
    "    count += x[i-1]\n",
    "    print(count)"
   ]
  },
  {
   "cell_type": "code",
   "execution_count": 39,
   "metadata": {},
   "outputs": [
    {
     "name": "stdout",
     "output_type": "stream",
     "text": [
      "[0, 2, 4, 6, 8]\n"
     ]
    }
   ],
   "source": [
    "#Let’s say I give you a list saved in a variable: a = [1, 4, 9, 16, 25, 36, 49, 64, 81, 100].\n",
    "#Write one line of Python that takes this list a and makes a new list that has only the even elements of this list in it.\n",
    "a = [1, 4, 9, 16, 25, 36, 49, 64, 81, 100]\n",
    "print([ i for i in range(len(a)) if i % 2 == 0])"
   ]
  },
  {
   "cell_type": "code",
   "execution_count": 45,
   "metadata": {},
   "outputs": [
    {
     "name": "stdout",
     "output_type": "stream",
     "text": [
      "Rock - Paper- ScissorRock\n",
      "Rock -Paper -ScissorPaper\n",
      "The second player won\n"
     ]
    }
   ],
   "source": [
    "#Make a two-player Rock-Paper-Scissors game. (Hint: Ask for player plays (using input), compare them, print out a message of congratulations to the winner, \n",
    "#and ask if the players want to start a new game)\n",
    "player_1 = input('Rock - Paper- Scissor')\n",
    "player_2 = input('Rock -Paper -Scissor')\n",
    "list_of_chooices = [ 'Rock', 'Paper', 'Scissor']\n",
    "if player_1 == list_of_chooices[0] and player_2 == list_of_chooices[0]:\n",
    "    print(f' we have a tyde with two {list_of_chooices[0]} ')\n",
    "elif player_1 == list_of_chooices[0] and player_2 == list_of_chooices[1]:\n",
    "    print('The second player won')\n",
    "\n"
   ]
  },
  {
   "cell_type": "code",
   "execution_count": 2,
   "metadata": {},
   "outputs": [
    {
     "name": "stdout",
     "output_type": "stream",
     "text": [
      "Enter a number3\n",
      " the 7 is greater than the 3 \n"
     ]
    }
   ],
   "source": [
    "#Generate a random number between 1 and 9 (including 1 and 9). \n",
    "#Ask the user to guess the number, then tell them whether they guessed too low, too high, or exactly right\n",
    "import random as r\n",
    "randon_number = r.randint(1,9)\n",
    "\n",
    "user = int(input('Enter a number'))\n",
    "if randon_number == user:\n",
    "    print(f' the {randon_number} and {user} are equal numbers')\n",
    "elif randon_number > user:\n",
    "    print(f' the {randon_number} is greater than the {user} ')\n",
    "elif randon_number < user:\n",
    "    print(f'the {randon_number} is less than {user}')\n"
   ]
  },
  {
   "cell_type": "code",
   "execution_count": 4,
   "metadata": {},
   "outputs": [
    {
     "name": "stdout",
     "output_type": "stream",
     "text": [
      "{1, 2, 3, 5, 8, 13}\n"
     ]
    }
   ],
   "source": [
    "# example of list comprehansion using two list\n",
    "a = [1, 1, 2, 3, 5, 8, 13, 21, 34, 55, 89]\n",
    "b = [1, 2, 3, 4, 5, 6, 7, 8, 9, 10, 11, 12, 13]\n",
    "c = [i for i in a for u in b if i == u ]\n",
    "print(set(c))"
   ]
  },
  {
   "cell_type": "code",
   "execution_count": null,
   "metadata": {},
   "outputs": [],
   "source": [
    "# note use a while stament for while a certain condition is True, keep doing something."
   ]
  },
  {
   "cell_type": "code",
   "execution_count": 7,
   "metadata": {},
   "outputs": [],
   "source": [
    "def prime(x):\n",
    "    while x > 1:\n",
    "        if x % x == 0 and x % 1 == 0:\n",
    "            return('This numner is prime')\n",
    "        else:\n",
    "            return('This number is not prime')"
   ]
  },
  {
   "cell_type": "code",
   "execution_count": 12,
   "metadata": {},
   "outputs": [
    {
     "name": "stdout",
     "output_type": "stream",
     "text": [
      "None\n"
     ]
    }
   ],
   "source": [
    "print(prime())"
   ]
  },
  {
   "cell_type": "code",
   "execution_count": 20,
   "metadata": {},
   "outputs": [
    {
     "name": "stdout",
     "output_type": "stream",
     "text": [
      "Prime numbers between 900 and 1000 are:\n",
      "907\n",
      "911\n",
      "919\n",
      "929\n",
      "937\n",
      "941\n",
      "947\n",
      "953\n",
      "967\n",
      "971\n",
      "977\n",
      "983\n",
      "991\n",
      "997\n"
     ]
    }
   ],
   "source": [
    "lower = 900\n",
    "upper = 1000\n",
    "\n",
    "# uncomment the following lines to take input from the user\n",
    "#lower = int(input(\"Enter lower range: \"))\n",
    "#upper = int(input(\"Enter upper range: \"))\n",
    "\n",
    "print(\"Prime numbers between\",lower,\"and\",upper,\"are:\")\n",
    "\n",
    "for num in range(lower,upper + 1): # por cada elemento entere 900 y 1000\n",
    "   # prime numbers are greater than 1\n",
    "   if num > 1: # si el elemetno es mayor que uno\n",
    "    for i in range(2,num):\n",
    "        \n",
    "        \n",
    "        if (num % i) == 0:\n",
    "               break\n",
    "    else:\n",
    "           print(num)"
   ]
  },
  {
   "cell_type": "code",
   "execution_count": 29,
   "metadata": {},
   "outputs": [
    {
     "name": "stdout",
     "output_type": "stream",
     "text": [
      "101\n",
      "103\n",
      "107\n",
      "109\n",
      "113\n",
      "127\n",
      "131\n",
      "137\n",
      "139\n",
      "149\n",
      "151\n",
      "157\n",
      "163\n",
      "167\n",
      "173\n",
      "179\n",
      "181\n",
      "191\n",
      "193\n",
      "197\n",
      "199\n"
     ]
    }
   ],
   "source": [
    "for n in range( 100 , 201): # stablece limit de 100 a 200\n",
    "    if n > 1: # si 1 es menor que los numeros de 100 a 200\n",
    "        for i in range(4 , n): # por cada elemento de desde dos hasta 200\n",
    "            if (n % i) == 0: # si el numero es \n",
    "                break\n",
    "        else:\n",
    "            print(n)"
   ]
  },
  {
   "cell_type": "code",
   "execution_count": null,
   "metadata": {},
   "outputs": [],
   "source": []
  }
 ],
 "metadata": {
  "kernelspec": {
   "display_name": "Python 3",
   "language": "python",
   "name": "python3"
  },
  "language_info": {
   "codemirror_mode": {
    "name": "ipython",
    "version": 3
   },
   "file_extension": ".py",
   "mimetype": "text/x-python",
   "name": "python",
   "nbconvert_exporter": "python",
   "pygments_lexer": "ipython3",
   "version": "3.7.1"
  }
 },
 "nbformat": 4,
 "nbformat_minor": 2
}
