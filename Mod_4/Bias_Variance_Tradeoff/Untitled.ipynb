{
 "cells": [
  {
   "cell_type": "markdown",
   "metadata": {},
   "source": [
    "- Given a string, return a new string made of every other char starting with the first, so \"Hello\" yields \"Hlo\".\n",
    "\n"
   ]
  },
  {
   "cell_type": "code",
   "execution_count": 3,
   "metadata": {},
   "outputs": [],
   "source": [
    "def x (_str):\n",
    "    for i in _str: # por  cada elemento en el str\n",
    "        if _str[i] == _str[1]:\n",
    "            break\n",
    "        else:\n",
    "            return _str[i]"
   ]
  },
  {
   "cell_type": "code",
   "execution_count": 5,
   "metadata": {},
   "outputs": [
    {
     "ename": "TypeError",
     "evalue": "string indices must be integers",
     "output_type": "error",
     "traceback": [
      "\u001b[0;31m---------------------------------------------------------------------------\u001b[0m",
      "\u001b[0;31mTypeError\u001b[0m                                 Traceback (most recent call last)",
      "\u001b[0;32m<ipython-input-5-df1541d2e48a>\u001b[0m in \u001b[0;36m<module>\u001b[0;34m\u001b[0m\n\u001b[0;32m----> 1\u001b[0;31m \u001b[0mprint\u001b[0m\u001b[0;34m(\u001b[0m\u001b[0mx\u001b[0m\u001b[0;34m(\u001b[0m\u001b[0;34m'Hello'\u001b[0m\u001b[0;34m)\u001b[0m\u001b[0;34m)\u001b[0m\u001b[0;34m\u001b[0m\u001b[0;34m\u001b[0m\u001b[0m\n\u001b[0m",
      "\u001b[0;32m<ipython-input-3-114b87024f49>\u001b[0m in \u001b[0;36mx\u001b[0;34m(_str)\u001b[0m\n\u001b[1;32m      1\u001b[0m \u001b[0;32mdef\u001b[0m \u001b[0mx\u001b[0m \u001b[0;34m(\u001b[0m\u001b[0m_str\u001b[0m\u001b[0;34m)\u001b[0m\u001b[0;34m:\u001b[0m\u001b[0;34m\u001b[0m\u001b[0;34m\u001b[0m\u001b[0m\n\u001b[1;32m      2\u001b[0m     \u001b[0;32mfor\u001b[0m \u001b[0mi\u001b[0m \u001b[0;32min\u001b[0m \u001b[0m_str\u001b[0m\u001b[0;34m:\u001b[0m \u001b[0;31m# por  cada elemento en el str\u001b[0m\u001b[0;34m\u001b[0m\u001b[0;34m\u001b[0m\u001b[0m\n\u001b[0;32m----> 3\u001b[0;31m         \u001b[0;32mif\u001b[0m \u001b[0m_str\u001b[0m\u001b[0;34m[\u001b[0m\u001b[0mi\u001b[0m\u001b[0;34m]\u001b[0m \u001b[0;34m==\u001b[0m \u001b[0m_str\u001b[0m\u001b[0;34m[\u001b[0m\u001b[0;36m1\u001b[0m\u001b[0;34m]\u001b[0m\u001b[0;34m:\u001b[0m\u001b[0;34m\u001b[0m\u001b[0;34m\u001b[0m\u001b[0m\n\u001b[0m\u001b[1;32m      4\u001b[0m             \u001b[0;32mbreak\u001b[0m\u001b[0;34m\u001b[0m\u001b[0;34m\u001b[0m\u001b[0m\n\u001b[1;32m      5\u001b[0m         \u001b[0;32melse\u001b[0m\u001b[0;34m:\u001b[0m\u001b[0;34m\u001b[0m\u001b[0;34m\u001b[0m\u001b[0m\n",
      "\u001b[0;31mTypeError\u001b[0m: string indices must be integers"
     ]
    }
   ],
   "source": [
    "print(x('Hello'))"
   ]
  },
  {
   "cell_type": "code",
   "execution_count": 6,
   "metadata": {},
   "outputs": [],
   "source": [
    "def string_bits(str):\n",
    "  result = \"\"\n",
    "  # Many ways to do this. This uses the standard loop of i on every char,\n",
    "  # and inside the loop skips the odd index values.\n",
    "  for i in range(len(str)): # por cada elemeto en el str\n",
    "    if i % 2 == 0: # si el elemetno es par\n",
    "      result = result + str[i] # result es un empty str mas el elemeto\n",
    "  return result # devuelve resutl"
   ]
  },
  {
   "cell_type": "code",
   "execution_count": 7,
   "metadata": {},
   "outputs": [
    {
     "name": "stdout",
     "output_type": "stream",
     "text": [
      "hlo\n"
     ]
    }
   ],
   "source": [
    "print(string_bits('hello'))"
   ]
  },
  {
   "cell_type": "code",
   "execution_count": 8,
   "metadata": {},
   "outputs": [],
   "source": [
    "def string_splosion(str):\n",
    "  \"\"\"\n",
    "  Given a non-empty string like \"Code\" return a string like \"CCoCodCode\".\n",
    "  \"\"\"\n",
    "  result = \"\"\n",
    "  for i in range(1,len(str)+1): # por cada elemento en el string desde el 1 hasta el \n",
    "    result = result + str[:i] # return \n",
    "  return result"
   ]
  },
  {
   "cell_type": "code",
   "execution_count": 10,
   "metadata": {},
   "outputs": [
    {
     "name": "stdout",
     "output_type": "stream",
     "text": [
      "MMaMarMariMaria\n"
     ]
    }
   ],
   "source": [
    "print(string_splosion(\"Maria\"))"
   ]
  },
  {
   "cell_type": "code",
   "execution_count": 11,
   "metadata": {},
   "outputs": [],
   "source": [
    "x = \"maria\""
   ]
  },
  {
   "cell_type": "code",
   "execution_count": 12,
   "metadata": {},
   "outputs": [
    {
     "name": "stdout",
     "output_type": "stream",
     "text": [
      "aria\n"
     ]
    }
   ],
   "source": [
    "print(x[1:])"
   ]
  },
  {
   "cell_type": "code",
   "execution_count": 13,
   "metadata": {},
   "outputs": [
    {
     "name": "stdout",
     "output_type": "stream",
     "text": [
      "maria\n"
     ]
    }
   ],
   "source": [
    "print(x[:])"
   ]
  },
  {
   "cell_type": "code",
   "execution_count": 15,
   "metadata": {},
   "outputs": [
    {
     "name": "stdout",
     "output_type": "stream",
     "text": [
      "mar\n"
     ]
    }
   ],
   "source": [
    "print(x[ :-2])"
   ]
  },
  {
   "cell_type": "code",
   "execution_count": 16,
   "metadata": {},
   "outputs": [],
   "source": [
    "def last2(value):\n",
    "    if len(value) < 3: # si lo largo del value es menor que tres\n",
    "        return 0 # devuelve zero\n",
    "    test2 = value[-2:] #\n",
    "    start = 0 # empieza en uno \n",
    "    count = 0 # emepiza a contar en zero \n",
    "    while True: # si eso es verda\n",
    "        index = value.find(test2, start, -1) #\n",
    "        if index == -1: # si el valor del indes es igual a ultimo \n",
    "            break # para\n",
    "        count +=1 # cuenta uno \n",
    "        start = index + 1 # empieza es igual al index mas uno\n",
    "    return count # devuelveme el numero"
   ]
  },
  {
   "cell_type": "code",
   "execution_count": 17,
   "metadata": {},
   "outputs": [
    {
     "name": "stdout",
     "output_type": "stream",
     "text": [
      "2\n"
     ]
    }
   ],
   "source": [
    "print(last2('hixxxhixxxhi'))"
   ]
  },
  {
   "cell_type": "markdown",
   "metadata": {},
   "source": [
    " - Given an array of ints, return the number of 9's in the array."
   ]
  },
  {
   "cell_type": "code",
   "execution_count": 22,
   "metadata": {},
   "outputs": [],
   "source": [
    "def count_nine (x):\n",
    "    count = 0\n",
    "    for i in range(len(x)):\n",
    "        if x[i] == int(9):\n",
    "            count += 1\n",
    "    return count"
   ]
  },
  {
   "cell_type": "code",
   "execution_count": 23,
   "metadata": {},
   "outputs": [],
   "source": [
    "a = [9,3,4,9]"
   ]
  },
  {
   "cell_type": "code",
   "execution_count": 24,
   "metadata": {},
   "outputs": [
    {
     "name": "stdout",
     "output_type": "stream",
     "text": [
      "2\n"
     ]
    }
   ],
   "source": [
    "print(count_nine(a)) # booom!!!!!!"
   ]
  },
  {
   "cell_type": "markdown",
   "metadata": {},
   "source": [
    "- Given an array of ints, return True if one of the first 4 elements in the array is a 9. The array length may be less than 4."
   ]
  },
  {
   "cell_type": "code",
   "execution_count": 25,
   "metadata": {},
   "outputs": [],
   "source": [
    "def y (x):\n",
    "    for i in range(len(x)):\n",
    "        if x[ : 3] == int(9):\n",
    "            return True\n",
    "        else:\n",
    "            return False"
   ]
  },
  {
   "cell_type": "code",
   "execution_count": 26,
   "metadata": {},
   "outputs": [],
   "source": [
    "u = [1,2,3,4,5,6,7]"
   ]
  },
  {
   "cell_type": "code",
   "execution_count": 27,
   "metadata": {},
   "outputs": [
    {
     "name": "stdout",
     "output_type": "stream",
     "text": [
      "False\n"
     ]
    }
   ],
   "source": [
    "print(y(x)) # boom"
   ]
  },
  {
   "cell_type": "markdown",
   "metadata": {},
   "source": [
    "- Given an array of ints, return True if the sequence of numbers 1, 2, 3 appears in the array somewhere"
   ]
  },
  {
   "cell_type": "code",
   "execution_count": 28,
   "metadata": {},
   "outputs": [],
   "source": [
    "def app(x):\n",
    "    for i in range(len(x)):\n",
    "        if x[i] == int(1) and x[i] == int(2):\n",
    "            return True\n",
    "        else:\n",
    "            return False\n",
    "        "
   ]
  },
  {
   "cell_type": "code",
   "execution_count": 29,
   "metadata": {},
   "outputs": [],
   "source": [
    "w = [1,2,3]"
   ]
  },
  {
   "cell_type": "code",
   "execution_count": null,
   "metadata": {},
   "outputs": [],
   "source": [
    "def list123(nums):\n",
    "    desired = [1, 2, 3]\n",
    "    if str(desired)[1:-1] in str(nums): # si el str deseado del dos al \n",
    "        return True # devuelve true\n",
    "    return False"
   ]
  },
  {
   "cell_type": "code",
   "execution_count": 4,
   "metadata": {},
   "outputs": [
    {
     "ename": "SyntaxError",
     "evalue": "invalid syntax (<ipython-input-4-14155b56fbef>, line 37)",
     "output_type": "error",
     "traceback": [
      "\u001b[0;36m  File \u001b[0;32m\"<ipython-input-4-14155b56fbef>\"\u001b[0;36m, line \u001b[0;32m37\u001b[0m\n\u001b[0;31m    print LetterChanges(\"fun times!\")\u001b[0m\n\u001b[0m                      ^\u001b[0m\n\u001b[0;31mSyntaxError\u001b[0m\u001b[0;31m:\u001b[0m invalid syntax\n"
     ]
    }
   ],
   "source": [
    "\n",
    "    \n",
    "# keep this function call here  \n",
    "def LetterChanges(str): \n",
    "  \n",
    "  # our new string with the modified characters\n",
    "  newString = \"\"\n",
    "\n",
    "  # begin by looping through each character in the string\n",
    "  for char in str:\n",
    "    \n",
    "    # check if the current character is an alphabetic character\n",
    "    if char.isalpha():\n",
    "\n",
    "      # check if character is z\n",
    "      if char.lower() == 'z':\n",
    "        char = 'a'\n",
    "\n",
    "      # if alphabetic character then add 1 to its ASCII value \n",
    "      # by using the built-in ord function then convert back to character\n",
    "      else:\n",
    "        char = chr(ord(char) + 1)\n",
    "\n",
    "    # if new character is a vowel then capitalize it\n",
    "    if char in 'aeiou':\n",
    "      char = char.upper()\n",
    "\n",
    "    # add this modified character to the new string\n",
    "    newString = newString + char\n",
    "\n",
    "  return newString\n",
    "       \n",
    "print LetterChanges(\"fun times!\")  "
   ]
  },
  {
   "cell_type": "code",
   "execution_count": 5,
   "metadata": {},
   "outputs": [],
   "source": [
    "x = 9"
   ]
  },
  {
   "cell_type": "code",
   "execution_count": null,
   "metadata": {},
   "outputs": [],
   "source": []
  }
 ],
 "metadata": {
  "kernelspec": {
   "display_name": "Python 3",
   "language": "python",
   "name": "python3"
  },
  "language_info": {
   "codemirror_mode": {
    "name": "ipython",
    "version": 3
   },
   "file_extension": ".py",
   "mimetype": "text/x-python",
   "name": "python",
   "nbconvert_exporter": "python",
   "pygments_lexer": "ipython3",
   "version": "3.7.3"
  }
 },
 "nbformat": 4,
 "nbformat_minor": 2
}
