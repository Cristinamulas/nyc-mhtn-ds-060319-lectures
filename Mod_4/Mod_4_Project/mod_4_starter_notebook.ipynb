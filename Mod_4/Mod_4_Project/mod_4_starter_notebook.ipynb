{
 "cells": [
  {
   "cell_type": "markdown",
   "metadata": {},
   "source": [
    "# Mod 4 Project - Starter Notebook\n",
    "\n",
    "This notebook has been provided to you so that you can make use of the following starter code to help with the trickier parts of preprocessing the Zillow dataset. \n",
    "\n",
    "The notebook contains a rough outline the general order you'll likely want to take in this project. You'll notice that most of the areas are left blank. This is so that it's more obvious exactly when you should make use of the starter code provided for preprocessing. \n",
    "\n",
    "**_NOTE:_** The number of empty cells are not meant to infer how much or how little code should be involved in any given step--we've just provided a few for your convenience. Add, delete, and change things around in this notebook as needed!\n",
    "\n",
    "# Some Notes Before Starting\n",
    "\n",
    "This project will be one of the more challenging projects you complete in this program. This is because working with Time Series data is a bit different than working with regular datasets. In order to make this a bit less frustrating and help you understand what you need to do (and when you need to do it), we'll quickly review the dataset formats that you'll encounter in this project. \n",
    "\n",
    "## Wide Format vs Long Format\n",
    "\n",
    "If you take a look at the format of the data in `zillow_data.csv`, you'll notice that the actual Time Series values are stored as separate columns. Here's a sample: \n",
    "\n",
    "<img src='~/../images/df_head.png'>\n",
    "\n",
    "You'll notice that the first seven columns look like any other dataset you're used to working with. However, column 8 refers to the median housing sales values for April 1996, column 9 for May 1996, and so on. This This is called **_Wide Format_**, and it makes the dataframe intuitive and easy to read. However, there are problems with this format when it comes to actually learning from the data, because the data only makes sense if you know the name of the column that the data can be found it. Since column names are metadata, our algorithms will miss out on what dates each value is for. This means that before we pass this data to our ARIMA model, we'll need to reshape our dataset to **_Long Format_**. Reshaped into long format, the dataframe above would now look like:\n",
    "\n",
    "<img src='~/../images/melted1.png'>\n",
    "\n",
    "There are now many more rows in this dataset--one for each unique time and zipcode combination in the data! Once our dataset is in this format, we'll be able to train an ARIMA model on it. The method used to convert from Wide to Long is `pd.melt()`, and it is common to refer to our dataset as 'melted' after the transition to denote that it is in long format. \n",
    "\n",
    "# Helper Functions Provided\n",
    "\n",
    "Melting a dataset can be tricky if you've never done it before, so you'll see that we have provided a sample function, `melt_data()`, to help you with this step below. Also provided is:\n",
    "\n",
    "* `get_datetimes()`, a function to deal with converting the column values for datetimes as a pandas series of datetime objects\n",
    "* Some good parameters for matplotlib to help make your visualizations more readable. \n",
    "\n",
    "Good luck!\n",
    "\n",
    "\n",
    "# Step 1: Load the Data/Filtering for Chosen Zipcodes"
   ]
  },
  {
   "cell_type": "markdown",
   "metadata": {},
   "source": [
    "-  what are the top 5 best zipcodes for us to invest in?\n"
   ]
  },
  {
   "cell_type": "code",
   "execution_count": 1,
   "metadata": {},
   "outputs": [],
   "source": [
    "\n",
    "import pandas as pd\n"
   ]
  },
  {
   "cell_type": "code",
   "execution_count": 2,
   "metadata": {},
   "outputs": [],
   "source": [
    "# load the Data\n",
    "df_0 = pd.read_csv('zillow_data.csv')"
   ]
  },
  {
   "cell_type": "code",
   "execution_count": 3,
   "metadata": {},
   "outputs": [
    {
     "data": {
      "text/html": [
       "<div>\n",
       "<style scoped>\n",
       "    .dataframe tbody tr th:only-of-type {\n",
       "        vertical-align: middle;\n",
       "    }\n",
       "\n",
       "    .dataframe tbody tr th {\n",
       "        vertical-align: top;\n",
       "    }\n",
       "\n",
       "    .dataframe thead th {\n",
       "        text-align: right;\n",
       "    }\n",
       "</style>\n",
       "<table border=\"1\" class=\"dataframe\">\n",
       "  <thead>\n",
       "    <tr style=\"text-align: right;\">\n",
       "      <th></th>\n",
       "      <th>RegionID</th>\n",
       "      <th>RegionName</th>\n",
       "      <th>City</th>\n",
       "      <th>State</th>\n",
       "      <th>Metro</th>\n",
       "      <th>CountyName</th>\n",
       "      <th>SizeRank</th>\n",
       "      <th>1996-04</th>\n",
       "      <th>1996-05</th>\n",
       "      <th>1996-06</th>\n",
       "      <th>...</th>\n",
       "      <th>2017-07</th>\n",
       "      <th>2017-08</th>\n",
       "      <th>2017-09</th>\n",
       "      <th>2017-10</th>\n",
       "      <th>2017-11</th>\n",
       "      <th>2017-12</th>\n",
       "      <th>2018-01</th>\n",
       "      <th>2018-02</th>\n",
       "      <th>2018-03</th>\n",
       "      <th>2018-04</th>\n",
       "    </tr>\n",
       "  </thead>\n",
       "  <tbody>\n",
       "    <tr>\n",
       "      <th>0</th>\n",
       "      <td>84654</td>\n",
       "      <td>60657</td>\n",
       "      <td>Chicago</td>\n",
       "      <td>IL</td>\n",
       "      <td>Chicago</td>\n",
       "      <td>Cook</td>\n",
       "      <td>1</td>\n",
       "      <td>334200.0</td>\n",
       "      <td>335400.0</td>\n",
       "      <td>336500.0</td>\n",
       "      <td>...</td>\n",
       "      <td>1005500</td>\n",
       "      <td>1007500</td>\n",
       "      <td>1007800</td>\n",
       "      <td>1009600</td>\n",
       "      <td>1013300</td>\n",
       "      <td>1018700</td>\n",
       "      <td>1024400</td>\n",
       "      <td>1030700</td>\n",
       "      <td>1033800</td>\n",
       "      <td>1030600</td>\n",
       "    </tr>\n",
       "    <tr>\n",
       "      <th>1</th>\n",
       "      <td>90668</td>\n",
       "      <td>75070</td>\n",
       "      <td>McKinney</td>\n",
       "      <td>TX</td>\n",
       "      <td>Dallas-Fort Worth</td>\n",
       "      <td>Collin</td>\n",
       "      <td>2</td>\n",
       "      <td>235700.0</td>\n",
       "      <td>236900.0</td>\n",
       "      <td>236700.0</td>\n",
       "      <td>...</td>\n",
       "      <td>308000</td>\n",
       "      <td>310000</td>\n",
       "      <td>312500</td>\n",
       "      <td>314100</td>\n",
       "      <td>315000</td>\n",
       "      <td>316600</td>\n",
       "      <td>318100</td>\n",
       "      <td>319600</td>\n",
       "      <td>321100</td>\n",
       "      <td>321800</td>\n",
       "    </tr>\n",
       "    <tr>\n",
       "      <th>2</th>\n",
       "      <td>91982</td>\n",
       "      <td>77494</td>\n",
       "      <td>Katy</td>\n",
       "      <td>TX</td>\n",
       "      <td>Houston</td>\n",
       "      <td>Harris</td>\n",
       "      <td>3</td>\n",
       "      <td>210400.0</td>\n",
       "      <td>212200.0</td>\n",
       "      <td>212200.0</td>\n",
       "      <td>...</td>\n",
       "      <td>321000</td>\n",
       "      <td>320600</td>\n",
       "      <td>320200</td>\n",
       "      <td>320400</td>\n",
       "      <td>320800</td>\n",
       "      <td>321200</td>\n",
       "      <td>321200</td>\n",
       "      <td>323000</td>\n",
       "      <td>326900</td>\n",
       "      <td>329900</td>\n",
       "    </tr>\n",
       "    <tr>\n",
       "      <th>3</th>\n",
       "      <td>84616</td>\n",
       "      <td>60614</td>\n",
       "      <td>Chicago</td>\n",
       "      <td>IL</td>\n",
       "      <td>Chicago</td>\n",
       "      <td>Cook</td>\n",
       "      <td>4</td>\n",
       "      <td>498100.0</td>\n",
       "      <td>500900.0</td>\n",
       "      <td>503100.0</td>\n",
       "      <td>...</td>\n",
       "      <td>1289800</td>\n",
       "      <td>1287700</td>\n",
       "      <td>1287400</td>\n",
       "      <td>1291500</td>\n",
       "      <td>1296600</td>\n",
       "      <td>1299000</td>\n",
       "      <td>1302700</td>\n",
       "      <td>1306400</td>\n",
       "      <td>1308500</td>\n",
       "      <td>1307000</td>\n",
       "    </tr>\n",
       "    <tr>\n",
       "      <th>4</th>\n",
       "      <td>93144</td>\n",
       "      <td>79936</td>\n",
       "      <td>El Paso</td>\n",
       "      <td>TX</td>\n",
       "      <td>El Paso</td>\n",
       "      <td>El Paso</td>\n",
       "      <td>5</td>\n",
       "      <td>77300.0</td>\n",
       "      <td>77300.0</td>\n",
       "      <td>77300.0</td>\n",
       "      <td>...</td>\n",
       "      <td>119100</td>\n",
       "      <td>119400</td>\n",
       "      <td>120000</td>\n",
       "      <td>120300</td>\n",
       "      <td>120300</td>\n",
       "      <td>120300</td>\n",
       "      <td>120300</td>\n",
       "      <td>120500</td>\n",
       "      <td>121000</td>\n",
       "      <td>121500</td>\n",
       "    </tr>\n",
       "  </tbody>\n",
       "</table>\n",
       "<p>5 rows × 272 columns</p>\n",
       "</div>"
      ],
      "text/plain": [
       "   RegionID  RegionName      City State              Metro CountyName  \\\n",
       "0     84654       60657   Chicago    IL            Chicago       Cook   \n",
       "1     90668       75070  McKinney    TX  Dallas-Fort Worth     Collin   \n",
       "2     91982       77494      Katy    TX            Houston     Harris   \n",
       "3     84616       60614   Chicago    IL            Chicago       Cook   \n",
       "4     93144       79936   El Paso    TX            El Paso    El Paso   \n",
       "\n",
       "   SizeRank   1996-04   1996-05   1996-06  ...  2017-07  2017-08  2017-09  \\\n",
       "0         1  334200.0  335400.0  336500.0  ...  1005500  1007500  1007800   \n",
       "1         2  235700.0  236900.0  236700.0  ...   308000   310000   312500   \n",
       "2         3  210400.0  212200.0  212200.0  ...   321000   320600   320200   \n",
       "3         4  498100.0  500900.0  503100.0  ...  1289800  1287700  1287400   \n",
       "4         5   77300.0   77300.0   77300.0  ...   119100   119400   120000   \n",
       "\n",
       "   2017-10  2017-11  2017-12  2018-01  2018-02  2018-03  2018-04  \n",
       "0  1009600  1013300  1018700  1024400  1030700  1033800  1030600  \n",
       "1   314100   315000   316600   318100   319600   321100   321800  \n",
       "2   320400   320800   321200   321200   323000   326900   329900  \n",
       "3  1291500  1296600  1299000  1302700  1306400  1308500  1307000  \n",
       "4   120300   120300   120300   120300   120500   121000   121500  \n",
       "\n",
       "[5 rows x 272 columns]"
      ]
     },
     "execution_count": 3,
     "metadata": {},
     "output_type": "execute_result"
    }
   ],
   "source": [
    "df_0.head()"
   ]
  },
  {
   "cell_type": "code",
   "execution_count": 4,
   "metadata": {},
   "outputs": [
    {
     "name": "stdout",
     "output_type": "stream",
     "text": [
      "<class 'pandas.core.frame.DataFrame'>\n",
      "RangeIndex: 14723 entries, 0 to 14722\n",
      "Columns: 272 entries, RegionID to 2018-04\n",
      "dtypes: float64(219), int64(49), object(4)\n",
      "memory usage: 30.6+ MB\n"
     ]
    }
   ],
   "source": [
    "df_0.info()"
   ]
  },
  {
   "cell_type": "code",
   "execution_count": 5,
   "metadata": {},
   "outputs": [
    {
     "data": {
      "text/html": [
       "<div>\n",
       "<style scoped>\n",
       "    .dataframe tbody tr th:only-of-type {\n",
       "        vertical-align: middle;\n",
       "    }\n",
       "\n",
       "    .dataframe tbody tr th {\n",
       "        vertical-align: top;\n",
       "    }\n",
       "\n",
       "    .dataframe thead th {\n",
       "        text-align: right;\n",
       "    }\n",
       "</style>\n",
       "<table border=\"1\" class=\"dataframe\">\n",
       "  <thead>\n",
       "    <tr style=\"text-align: right;\">\n",
       "      <th></th>\n",
       "      <th>RegionID</th>\n",
       "      <th>RegionName</th>\n",
       "      <th>SizeRank</th>\n",
       "      <th>1996-04</th>\n",
       "      <th>1996-05</th>\n",
       "      <th>1996-06</th>\n",
       "      <th>1996-07</th>\n",
       "      <th>1996-08</th>\n",
       "      <th>1996-09</th>\n",
       "      <th>1996-10</th>\n",
       "      <th>...</th>\n",
       "      <th>2017-07</th>\n",
       "      <th>2017-08</th>\n",
       "      <th>2017-09</th>\n",
       "      <th>2017-10</th>\n",
       "      <th>2017-11</th>\n",
       "      <th>2017-12</th>\n",
       "      <th>2018-01</th>\n",
       "      <th>2018-02</th>\n",
       "      <th>2018-03</th>\n",
       "      <th>2018-04</th>\n",
       "    </tr>\n",
       "  </thead>\n",
       "  <tbody>\n",
       "    <tr>\n",
       "      <th>count</th>\n",
       "      <td>14723.000000</td>\n",
       "      <td>14723.000000</td>\n",
       "      <td>14723.000000</td>\n",
       "      <td>1.368400e+04</td>\n",
       "      <td>1.368400e+04</td>\n",
       "      <td>1.368400e+04</td>\n",
       "      <td>1.368400e+04</td>\n",
       "      <td>1.368400e+04</td>\n",
       "      <td>1.368400e+04</td>\n",
       "      <td>1.368400e+04</td>\n",
       "      <td>...</td>\n",
       "      <td>1.472300e+04</td>\n",
       "      <td>1.472300e+04</td>\n",
       "      <td>1.472300e+04</td>\n",
       "      <td>1.472300e+04</td>\n",
       "      <td>1.472300e+04</td>\n",
       "      <td>1.472300e+04</td>\n",
       "      <td>1.472300e+04</td>\n",
       "      <td>1.472300e+04</td>\n",
       "      <td>1.472300e+04</td>\n",
       "      <td>1.472300e+04</td>\n",
       "    </tr>\n",
       "    <tr>\n",
       "      <th>mean</th>\n",
       "      <td>81075.010052</td>\n",
       "      <td>48222.348706</td>\n",
       "      <td>7362.000000</td>\n",
       "      <td>1.182991e+05</td>\n",
       "      <td>1.184190e+05</td>\n",
       "      <td>1.185374e+05</td>\n",
       "      <td>1.186531e+05</td>\n",
       "      <td>1.187803e+05</td>\n",
       "      <td>1.189275e+05</td>\n",
       "      <td>1.191205e+05</td>\n",
       "      <td>...</td>\n",
       "      <td>2.733354e+05</td>\n",
       "      <td>2.748658e+05</td>\n",
       "      <td>2.764646e+05</td>\n",
       "      <td>2.780332e+05</td>\n",
       "      <td>2.795209e+05</td>\n",
       "      <td>2.810953e+05</td>\n",
       "      <td>2.826571e+05</td>\n",
       "      <td>2.843687e+05</td>\n",
       "      <td>2.865114e+05</td>\n",
       "      <td>2.880399e+05</td>\n",
       "    </tr>\n",
       "    <tr>\n",
       "      <th>std</th>\n",
       "      <td>31934.118525</td>\n",
       "      <td>29359.325439</td>\n",
       "      <td>4250.308342</td>\n",
       "      <td>8.600251e+04</td>\n",
       "      <td>8.615567e+04</td>\n",
       "      <td>8.630923e+04</td>\n",
       "      <td>8.646795e+04</td>\n",
       "      <td>8.665094e+04</td>\n",
       "      <td>8.687208e+04</td>\n",
       "      <td>8.715185e+04</td>\n",
       "      <td>...</td>\n",
       "      <td>3.603984e+05</td>\n",
       "      <td>3.614678e+05</td>\n",
       "      <td>3.627563e+05</td>\n",
       "      <td>3.644610e+05</td>\n",
       "      <td>3.656003e+05</td>\n",
       "      <td>3.670454e+05</td>\n",
       "      <td>3.695727e+05</td>\n",
       "      <td>3.717739e+05</td>\n",
       "      <td>3.724612e+05</td>\n",
       "      <td>3.720544e+05</td>\n",
       "    </tr>\n",
       "    <tr>\n",
       "      <th>min</th>\n",
       "      <td>58196.000000</td>\n",
       "      <td>1001.000000</td>\n",
       "      <td>1.000000</td>\n",
       "      <td>1.130000e+04</td>\n",
       "      <td>1.150000e+04</td>\n",
       "      <td>1.160000e+04</td>\n",
       "      <td>1.180000e+04</td>\n",
       "      <td>1.180000e+04</td>\n",
       "      <td>1.200000e+04</td>\n",
       "      <td>1.210000e+04</td>\n",
       "      <td>...</td>\n",
       "      <td>1.440000e+04</td>\n",
       "      <td>1.450000e+04</td>\n",
       "      <td>1.470000e+04</td>\n",
       "      <td>1.480000e+04</td>\n",
       "      <td>1.450000e+04</td>\n",
       "      <td>1.430000e+04</td>\n",
       "      <td>1.410000e+04</td>\n",
       "      <td>1.390000e+04</td>\n",
       "      <td>1.380000e+04</td>\n",
       "      <td>1.380000e+04</td>\n",
       "    </tr>\n",
       "    <tr>\n",
       "      <th>25%</th>\n",
       "      <td>67174.500000</td>\n",
       "      <td>22101.500000</td>\n",
       "      <td>3681.500000</td>\n",
       "      <td>6.880000e+04</td>\n",
       "      <td>6.890000e+04</td>\n",
       "      <td>6.910000e+04</td>\n",
       "      <td>6.920000e+04</td>\n",
       "      <td>6.937500e+04</td>\n",
       "      <td>6.950000e+04</td>\n",
       "      <td>6.960000e+04</td>\n",
       "      <td>...</td>\n",
       "      <td>1.269000e+05</td>\n",
       "      <td>1.275000e+05</td>\n",
       "      <td>1.282000e+05</td>\n",
       "      <td>1.287000e+05</td>\n",
       "      <td>1.292500e+05</td>\n",
       "      <td>1.299000e+05</td>\n",
       "      <td>1.306000e+05</td>\n",
       "      <td>1.310500e+05</td>\n",
       "      <td>1.319500e+05</td>\n",
       "      <td>1.324000e+05</td>\n",
       "    </tr>\n",
       "    <tr>\n",
       "      <th>50%</th>\n",
       "      <td>78007.000000</td>\n",
       "      <td>46106.000000</td>\n",
       "      <td>7362.000000</td>\n",
       "      <td>9.950000e+04</td>\n",
       "      <td>9.950000e+04</td>\n",
       "      <td>9.970000e+04</td>\n",
       "      <td>9.970000e+04</td>\n",
       "      <td>9.980000e+04</td>\n",
       "      <td>9.990000e+04</td>\n",
       "      <td>9.995000e+04</td>\n",
       "      <td>...</td>\n",
       "      <td>1.884000e+05</td>\n",
       "      <td>1.896000e+05</td>\n",
       "      <td>1.905000e+05</td>\n",
       "      <td>1.914000e+05</td>\n",
       "      <td>1.925000e+05</td>\n",
       "      <td>1.934000e+05</td>\n",
       "      <td>1.941000e+05</td>\n",
       "      <td>1.950000e+05</td>\n",
       "      <td>1.967000e+05</td>\n",
       "      <td>1.981000e+05</td>\n",
       "    </tr>\n",
       "    <tr>\n",
       "      <th>75%</th>\n",
       "      <td>90920.500000</td>\n",
       "      <td>75205.500000</td>\n",
       "      <td>11042.500000</td>\n",
       "      <td>1.432000e+05</td>\n",
       "      <td>1.433000e+05</td>\n",
       "      <td>1.432250e+05</td>\n",
       "      <td>1.432250e+05</td>\n",
       "      <td>1.435000e+05</td>\n",
       "      <td>1.437000e+05</td>\n",
       "      <td>1.439000e+05</td>\n",
       "      <td>...</td>\n",
       "      <td>3.050000e+05</td>\n",
       "      <td>3.066500e+05</td>\n",
       "      <td>3.085000e+05</td>\n",
       "      <td>3.098000e+05</td>\n",
       "      <td>3.117000e+05</td>\n",
       "      <td>3.134000e+05</td>\n",
       "      <td>3.151000e+05</td>\n",
       "      <td>3.168500e+05</td>\n",
       "      <td>3.188500e+05</td>\n",
       "      <td>3.211000e+05</td>\n",
       "    </tr>\n",
       "    <tr>\n",
       "      <th>max</th>\n",
       "      <td>753844.000000</td>\n",
       "      <td>99901.000000</td>\n",
       "      <td>14723.000000</td>\n",
       "      <td>3.676700e+06</td>\n",
       "      <td>3.704200e+06</td>\n",
       "      <td>3.729600e+06</td>\n",
       "      <td>3.754600e+06</td>\n",
       "      <td>3.781800e+06</td>\n",
       "      <td>3.813500e+06</td>\n",
       "      <td>3.849600e+06</td>\n",
       "      <td>...</td>\n",
       "      <td>1.888990e+07</td>\n",
       "      <td>1.870350e+07</td>\n",
       "      <td>1.860530e+07</td>\n",
       "      <td>1.856940e+07</td>\n",
       "      <td>1.842880e+07</td>\n",
       "      <td>1.830710e+07</td>\n",
       "      <td>1.836590e+07</td>\n",
       "      <td>1.853040e+07</td>\n",
       "      <td>1.833770e+07</td>\n",
       "      <td>1.789490e+07</td>\n",
       "    </tr>\n",
       "  </tbody>\n",
       "</table>\n",
       "<p>8 rows × 268 columns</p>\n",
       "</div>"
      ],
      "text/plain": [
       "            RegionID    RegionName      SizeRank       1996-04       1996-05  \\\n",
       "count   14723.000000  14723.000000  14723.000000  1.368400e+04  1.368400e+04   \n",
       "mean    81075.010052  48222.348706   7362.000000  1.182991e+05  1.184190e+05   \n",
       "std     31934.118525  29359.325439   4250.308342  8.600251e+04  8.615567e+04   \n",
       "min     58196.000000   1001.000000      1.000000  1.130000e+04  1.150000e+04   \n",
       "25%     67174.500000  22101.500000   3681.500000  6.880000e+04  6.890000e+04   \n",
       "50%     78007.000000  46106.000000   7362.000000  9.950000e+04  9.950000e+04   \n",
       "75%     90920.500000  75205.500000  11042.500000  1.432000e+05  1.433000e+05   \n",
       "max    753844.000000  99901.000000  14723.000000  3.676700e+06  3.704200e+06   \n",
       "\n",
       "            1996-06       1996-07       1996-08       1996-09       1996-10  \\\n",
       "count  1.368400e+04  1.368400e+04  1.368400e+04  1.368400e+04  1.368400e+04   \n",
       "mean   1.185374e+05  1.186531e+05  1.187803e+05  1.189275e+05  1.191205e+05   \n",
       "std    8.630923e+04  8.646795e+04  8.665094e+04  8.687208e+04  8.715185e+04   \n",
       "min    1.160000e+04  1.180000e+04  1.180000e+04  1.200000e+04  1.210000e+04   \n",
       "25%    6.910000e+04  6.920000e+04  6.937500e+04  6.950000e+04  6.960000e+04   \n",
       "50%    9.970000e+04  9.970000e+04  9.980000e+04  9.990000e+04  9.995000e+04   \n",
       "75%    1.432250e+05  1.432250e+05  1.435000e+05  1.437000e+05  1.439000e+05   \n",
       "max    3.729600e+06  3.754600e+06  3.781800e+06  3.813500e+06  3.849600e+06   \n",
       "\n",
       "       ...       2017-07       2017-08       2017-09       2017-10  \\\n",
       "count  ...  1.472300e+04  1.472300e+04  1.472300e+04  1.472300e+04   \n",
       "mean   ...  2.733354e+05  2.748658e+05  2.764646e+05  2.780332e+05   \n",
       "std    ...  3.603984e+05  3.614678e+05  3.627563e+05  3.644610e+05   \n",
       "min    ...  1.440000e+04  1.450000e+04  1.470000e+04  1.480000e+04   \n",
       "25%    ...  1.269000e+05  1.275000e+05  1.282000e+05  1.287000e+05   \n",
       "50%    ...  1.884000e+05  1.896000e+05  1.905000e+05  1.914000e+05   \n",
       "75%    ...  3.050000e+05  3.066500e+05  3.085000e+05  3.098000e+05   \n",
       "max    ...  1.888990e+07  1.870350e+07  1.860530e+07  1.856940e+07   \n",
       "\n",
       "            2017-11       2017-12       2018-01       2018-02       2018-03  \\\n",
       "count  1.472300e+04  1.472300e+04  1.472300e+04  1.472300e+04  1.472300e+04   \n",
       "mean   2.795209e+05  2.810953e+05  2.826571e+05  2.843687e+05  2.865114e+05   \n",
       "std    3.656003e+05  3.670454e+05  3.695727e+05  3.717739e+05  3.724612e+05   \n",
       "min    1.450000e+04  1.430000e+04  1.410000e+04  1.390000e+04  1.380000e+04   \n",
       "25%    1.292500e+05  1.299000e+05  1.306000e+05  1.310500e+05  1.319500e+05   \n",
       "50%    1.925000e+05  1.934000e+05  1.941000e+05  1.950000e+05  1.967000e+05   \n",
       "75%    3.117000e+05  3.134000e+05  3.151000e+05  3.168500e+05  3.188500e+05   \n",
       "max    1.842880e+07  1.830710e+07  1.836590e+07  1.853040e+07  1.833770e+07   \n",
       "\n",
       "            2018-04  \n",
       "count  1.472300e+04  \n",
       "mean   2.880399e+05  \n",
       "std    3.720544e+05  \n",
       "min    1.380000e+04  \n",
       "25%    1.324000e+05  \n",
       "50%    1.981000e+05  \n",
       "75%    3.211000e+05  \n",
       "max    1.789490e+07  \n",
       "\n",
       "[8 rows x 268 columns]"
      ]
     },
     "execution_count": 5,
     "metadata": {},
     "output_type": "execute_result"
    }
   ],
   "source": [
    "df_0.describe()"
   ]
  },
  {
   "cell_type": "code",
   "execution_count": 6,
   "metadata": {},
   "outputs": [],
   "source": [
    "# drop columns\n",
    "df_0 = df_0.drop(['SizeRank', 'State','RegionID','City','Metro','CountyName','RegionID'] , axis = 1)\n"
   ]
  },
  {
   "cell_type": "code",
   "execution_count": 7,
   "metadata": {},
   "outputs": [
    {
     "data": {
      "text/html": [
       "<div>\n",
       "<style scoped>\n",
       "    .dataframe tbody tr th:only-of-type {\n",
       "        vertical-align: middle;\n",
       "    }\n",
       "\n",
       "    .dataframe tbody tr th {\n",
       "        vertical-align: top;\n",
       "    }\n",
       "\n",
       "    .dataframe thead th {\n",
       "        text-align: right;\n",
       "    }\n",
       "</style>\n",
       "<table border=\"1\" class=\"dataframe\">\n",
       "  <thead>\n",
       "    <tr style=\"text-align: right;\">\n",
       "      <th></th>\n",
       "      <th>RegionName</th>\n",
       "      <th>1996-04</th>\n",
       "      <th>1996-05</th>\n",
       "      <th>1996-06</th>\n",
       "      <th>1996-07</th>\n",
       "      <th>1996-08</th>\n",
       "      <th>1996-09</th>\n",
       "      <th>1996-10</th>\n",
       "      <th>1996-11</th>\n",
       "      <th>1996-12</th>\n",
       "      <th>...</th>\n",
       "      <th>2017-07</th>\n",
       "      <th>2017-08</th>\n",
       "      <th>2017-09</th>\n",
       "      <th>2017-10</th>\n",
       "      <th>2017-11</th>\n",
       "      <th>2017-12</th>\n",
       "      <th>2018-01</th>\n",
       "      <th>2018-02</th>\n",
       "      <th>2018-03</th>\n",
       "      <th>2018-04</th>\n",
       "    </tr>\n",
       "  </thead>\n",
       "  <tbody>\n",
       "    <tr>\n",
       "      <th>0</th>\n",
       "      <td>60657</td>\n",
       "      <td>334200.0</td>\n",
       "      <td>335400.0</td>\n",
       "      <td>336500.0</td>\n",
       "      <td>337600.0</td>\n",
       "      <td>338500.0</td>\n",
       "      <td>339500.0</td>\n",
       "      <td>340400.0</td>\n",
       "      <td>341300.0</td>\n",
       "      <td>342600.0</td>\n",
       "      <td>...</td>\n",
       "      <td>1005500</td>\n",
       "      <td>1007500</td>\n",
       "      <td>1007800</td>\n",
       "      <td>1009600</td>\n",
       "      <td>1013300</td>\n",
       "      <td>1018700</td>\n",
       "      <td>1024400</td>\n",
       "      <td>1030700</td>\n",
       "      <td>1033800</td>\n",
       "      <td>1030600</td>\n",
       "    </tr>\n",
       "    <tr>\n",
       "      <th>1</th>\n",
       "      <td>75070</td>\n",
       "      <td>235700.0</td>\n",
       "      <td>236900.0</td>\n",
       "      <td>236700.0</td>\n",
       "      <td>235400.0</td>\n",
       "      <td>233300.0</td>\n",
       "      <td>230600.0</td>\n",
       "      <td>227300.0</td>\n",
       "      <td>223400.0</td>\n",
       "      <td>219600.0</td>\n",
       "      <td>...</td>\n",
       "      <td>308000</td>\n",
       "      <td>310000</td>\n",
       "      <td>312500</td>\n",
       "      <td>314100</td>\n",
       "      <td>315000</td>\n",
       "      <td>316600</td>\n",
       "      <td>318100</td>\n",
       "      <td>319600</td>\n",
       "      <td>321100</td>\n",
       "      <td>321800</td>\n",
       "    </tr>\n",
       "    <tr>\n",
       "      <th>2</th>\n",
       "      <td>77494</td>\n",
       "      <td>210400.0</td>\n",
       "      <td>212200.0</td>\n",
       "      <td>212200.0</td>\n",
       "      <td>210700.0</td>\n",
       "      <td>208300.0</td>\n",
       "      <td>205500.0</td>\n",
       "      <td>202500.0</td>\n",
       "      <td>199800.0</td>\n",
       "      <td>198300.0</td>\n",
       "      <td>...</td>\n",
       "      <td>321000</td>\n",
       "      <td>320600</td>\n",
       "      <td>320200</td>\n",
       "      <td>320400</td>\n",
       "      <td>320800</td>\n",
       "      <td>321200</td>\n",
       "      <td>321200</td>\n",
       "      <td>323000</td>\n",
       "      <td>326900</td>\n",
       "      <td>329900</td>\n",
       "    </tr>\n",
       "    <tr>\n",
       "      <th>3</th>\n",
       "      <td>60614</td>\n",
       "      <td>498100.0</td>\n",
       "      <td>500900.0</td>\n",
       "      <td>503100.0</td>\n",
       "      <td>504600.0</td>\n",
       "      <td>505500.0</td>\n",
       "      <td>505700.0</td>\n",
       "      <td>505300.0</td>\n",
       "      <td>504200.0</td>\n",
       "      <td>503600.0</td>\n",
       "      <td>...</td>\n",
       "      <td>1289800</td>\n",
       "      <td>1287700</td>\n",
       "      <td>1287400</td>\n",
       "      <td>1291500</td>\n",
       "      <td>1296600</td>\n",
       "      <td>1299000</td>\n",
       "      <td>1302700</td>\n",
       "      <td>1306400</td>\n",
       "      <td>1308500</td>\n",
       "      <td>1307000</td>\n",
       "    </tr>\n",
       "    <tr>\n",
       "      <th>4</th>\n",
       "      <td>79936</td>\n",
       "      <td>77300.0</td>\n",
       "      <td>77300.0</td>\n",
       "      <td>77300.0</td>\n",
       "      <td>77300.0</td>\n",
       "      <td>77400.0</td>\n",
       "      <td>77500.0</td>\n",
       "      <td>77600.0</td>\n",
       "      <td>77700.0</td>\n",
       "      <td>77700.0</td>\n",
       "      <td>...</td>\n",
       "      <td>119100</td>\n",
       "      <td>119400</td>\n",
       "      <td>120000</td>\n",
       "      <td>120300</td>\n",
       "      <td>120300</td>\n",
       "      <td>120300</td>\n",
       "      <td>120300</td>\n",
       "      <td>120500</td>\n",
       "      <td>121000</td>\n",
       "      <td>121500</td>\n",
       "    </tr>\n",
       "  </tbody>\n",
       "</table>\n",
       "<p>5 rows × 266 columns</p>\n",
       "</div>"
      ],
      "text/plain": [
       "   RegionName   1996-04   1996-05   1996-06   1996-07   1996-08   1996-09  \\\n",
       "0       60657  334200.0  335400.0  336500.0  337600.0  338500.0  339500.0   \n",
       "1       75070  235700.0  236900.0  236700.0  235400.0  233300.0  230600.0   \n",
       "2       77494  210400.0  212200.0  212200.0  210700.0  208300.0  205500.0   \n",
       "3       60614  498100.0  500900.0  503100.0  504600.0  505500.0  505700.0   \n",
       "4       79936   77300.0   77300.0   77300.0   77300.0   77400.0   77500.0   \n",
       "\n",
       "    1996-10   1996-11   1996-12  ...  2017-07  2017-08  2017-09  2017-10  \\\n",
       "0  340400.0  341300.0  342600.0  ...  1005500  1007500  1007800  1009600   \n",
       "1  227300.0  223400.0  219600.0  ...   308000   310000   312500   314100   \n",
       "2  202500.0  199800.0  198300.0  ...   321000   320600   320200   320400   \n",
       "3  505300.0  504200.0  503600.0  ...  1289800  1287700  1287400  1291500   \n",
       "4   77600.0   77700.0   77700.0  ...   119100   119400   120000   120300   \n",
       "\n",
       "   2017-11  2017-12  2018-01  2018-02  2018-03  2018-04  \n",
       "0  1013300  1018700  1024400  1030700  1033800  1030600  \n",
       "1   315000   316600   318100   319600   321100   321800  \n",
       "2   320800   321200   321200   323000   326900   329900  \n",
       "3  1296600  1299000  1302700  1306400  1308500  1307000  \n",
       "4   120300   120300   120300   120500   121000   121500  \n",
       "\n",
       "[5 rows x 266 columns]"
      ]
     },
     "execution_count": 7,
     "metadata": {},
     "output_type": "execute_result"
    }
   ],
   "source": [
    "df_0.head()"
   ]
  },
  {
   "cell_type": "code",
   "execution_count": 8,
   "metadata": {},
   "outputs": [
    {
     "data": {
      "text/plain": [
       "RegionName       0\n",
       "1996-04       1039\n",
       "1996-05       1039\n",
       "1996-06       1039\n",
       "1996-07       1039\n",
       "1996-08       1039\n",
       "1996-09       1039\n",
       "1996-10       1039\n",
       "1996-11       1039\n",
       "1996-12       1039\n",
       "1997-01       1039\n",
       "1997-02       1039\n",
       "1997-03       1039\n",
       "1997-04       1039\n",
       "1997-05       1039\n",
       "1997-06       1039\n",
       "1997-07       1038\n",
       "1997-08       1038\n",
       "1997-09       1038\n",
       "1997-10       1038\n",
       "1997-11       1038\n",
       "1997-12       1038\n",
       "1998-01       1036\n",
       "1998-02       1036\n",
       "1998-03       1036\n",
       "1998-04       1036\n",
       "1998-05       1036\n",
       "1998-06       1036\n",
       "1998-07       1036\n",
       "1998-08       1036\n",
       "              ... \n",
       "2015-11          0\n",
       "2015-12          0\n",
       "2016-01          0\n",
       "2016-02          0\n",
       "2016-03          0\n",
       "2016-04          0\n",
       "2016-05          0\n",
       "2016-06          0\n",
       "2016-07          0\n",
       "2016-08          0\n",
       "2016-09          0\n",
       "2016-10          0\n",
       "2016-11          0\n",
       "2016-12          0\n",
       "2017-01          0\n",
       "2017-02          0\n",
       "2017-03          0\n",
       "2017-04          0\n",
       "2017-05          0\n",
       "2017-06          0\n",
       "2017-07          0\n",
       "2017-08          0\n",
       "2017-09          0\n",
       "2017-10          0\n",
       "2017-11          0\n",
       "2017-12          0\n",
       "2018-01          0\n",
       "2018-02          0\n",
       "2018-03          0\n",
       "2018-04          0\n",
       "Length: 266, dtype: int64"
      ]
     },
     "execution_count": 8,
     "metadata": {},
     "output_type": "execute_result"
    }
   ],
   "source": [
    "# check for null values\n",
    "df_0.isnull().sum()"
   ]
  },
  {
   "cell_type": "code",
   "execution_count": 9,
   "metadata": {},
   "outputs": [
    {
     "data": {
      "text/plain": [
       "Index(['RegionName', '1996-04', '1996-05', '1996-06', '1996-07', '1996-08',\n",
       "       '1996-09', '1996-10', '1996-11', '1996-12',\n",
       "       ...\n",
       "       '2017-07', '2017-08', '2017-09', '2017-10', '2017-11', '2017-12',\n",
       "       '2018-01', '2018-02', '2018-03', '2018-04'],\n",
       "      dtype='object', length=266)"
      ]
     },
     "execution_count": 9,
     "metadata": {},
     "output_type": "execute_result"
    }
   ],
   "source": [
    "df_0.columns"
   ]
  },
  {
   "cell_type": "code",
   "execution_count": 10,
   "metadata": {},
   "outputs": [],
   "source": [
    "# replace the null values\n",
    "df_1 = df_0.fillna(method='ffill')"
   ]
  },
  {
   "cell_type": "code",
   "execution_count": 11,
   "metadata": {
    "collapsed": true
   },
   "outputs": [
    {
     "data": {
      "text/plain": [
       "RegionName    0\n",
       "1996-04       0\n",
       "1996-05       0\n",
       "1996-06       0\n",
       "1996-07       0\n",
       "1996-08       0\n",
       "1996-09       0\n",
       "1996-10       0\n",
       "1996-11       0\n",
       "1996-12       0\n",
       "1997-01       0\n",
       "1997-02       0\n",
       "1997-03       0\n",
       "1997-04       0\n",
       "1997-05       0\n",
       "1997-06       0\n",
       "1997-07       0\n",
       "1997-08       0\n",
       "1997-09       0\n",
       "1997-10       0\n",
       "1997-11       0\n",
       "1997-12       0\n",
       "1998-01       0\n",
       "1998-02       0\n",
       "1998-03       0\n",
       "1998-04       0\n",
       "1998-05       0\n",
       "1998-06       0\n",
       "1998-07       0\n",
       "1998-08       0\n",
       "             ..\n",
       "2015-11       0\n",
       "2015-12       0\n",
       "2016-01       0\n",
       "2016-02       0\n",
       "2016-03       0\n",
       "2016-04       0\n",
       "2016-05       0\n",
       "2016-06       0\n",
       "2016-07       0\n",
       "2016-08       0\n",
       "2016-09       0\n",
       "2016-10       0\n",
       "2016-11       0\n",
       "2016-12       0\n",
       "2017-01       0\n",
       "2017-02       0\n",
       "2017-03       0\n",
       "2017-04       0\n",
       "2017-05       0\n",
       "2017-06       0\n",
       "2017-07       0\n",
       "2017-08       0\n",
       "2017-09       0\n",
       "2017-10       0\n",
       "2017-11       0\n",
       "2017-12       0\n",
       "2018-01       0\n",
       "2018-02       0\n",
       "2018-03       0\n",
       "2018-04       0\n",
       "Length: 266, dtype: int64"
      ]
     },
     "execution_count": 11,
     "metadata": {},
     "output_type": "execute_result"
    }
   ],
   "source": [
    "df_1.isnull().sum()"
   ]
  },
  {
   "cell_type": "code",
   "execution_count": 12,
   "metadata": {},
   "outputs": [],
   "source": [
    "# I WANT TO fill the null values for a column with the mediam\n",
    "# df_new['1996-04'] = df_new['1996-04'].fillna(df_new['1996-04'].median())"
   ]
  },
  {
   "cell_type": "markdown",
   "metadata": {},
   "source": [
    "# Step 2: Data Preprocessing"
   ]
  },
  {
   "cell_type": "code",
   "execution_count": 13,
   "metadata": {},
   "outputs": [],
   "source": [
    "def get_datetimes(df):\n",
    "    return pd.to_datetime(df.columns.values[1:], format='%Y-%m')"
   ]
  },
  {
   "cell_type": "code",
   "execution_count": 14,
   "metadata": {},
   "outputs": [
    {
     "data": {
      "text/plain": [
       "DatetimeIndex(['1996-04-01', '1996-05-01', '1996-06-01', '1996-07-01',\n",
       "               '1996-08-01', '1996-09-01', '1996-10-01', '1996-11-01',\n",
       "               '1996-12-01', '1997-01-01',\n",
       "               ...\n",
       "               '2017-07-01', '2017-08-01', '2017-09-01', '2017-10-01',\n",
       "               '2017-11-01', '2017-12-01', '2018-01-01', '2018-02-01',\n",
       "               '2018-03-01', '2018-04-01'],\n",
       "              dtype='datetime64[ns]', length=265, freq=None)"
      ]
     },
     "execution_count": 14,
     "metadata": {},
     "output_type": "execute_result"
    }
   ],
   "source": [
    "# df_1 is our index in datetime obj we want to make a new dataframe\n",
    "\n",
    "df_index_1 = get_datetimes(df_1)\n",
    "df_index_1\n"
   ]
  },
  {
   "cell_type": "code",
   "execution_count": 35,
   "metadata": {},
   "outputs": [
    {
     "data": {
      "text/plain": [
       "DatetimeIndex(['1996-04-01', '1996-05-01', '1996-06-01', '1996-07-01',\n",
       "               '1996-08-01', '1996-09-01', '1996-10-01', '1996-11-01',\n",
       "               '1996-12-01', '1997-01-01',\n",
       "               ...\n",
       "               '2017-07-01', '2017-08-01', '2017-09-01', '2017-10-01',\n",
       "               '2017-11-01', '2017-12-01', '2018-01-01', '2018-02-01',\n",
       "               '2018-03-01', '2018-04-01'],\n",
       "              dtype='datetime64[ns]', length=265, freq=None)"
      ]
     },
     "execution_count": 35,
     "metadata": {},
     "output_type": "execute_result"
    }
   ],
   "source": [
    "df_index_1"
   ]
  },
  {
   "cell_type": "code",
   "execution_count": 16,
   "metadata": {},
   "outputs": [],
   "source": [
    "df_transpose = df_1.transpose()\n",
    "df_transpose.drop('RegionName', inplace = True)\n"
   ]
  },
  {
   "cell_type": "code",
   "execution_count": 17,
   "metadata": {},
   "outputs": [],
   "source": [
    "df_3 = df_1.loc[:,'RegionName']\n",
    "df_4 = pd.DataFrame(df_3)"
   ]
  },
  {
   "cell_type": "code",
   "execution_count": 18,
   "metadata": {},
   "outputs": [
    {
     "data": {
      "text/plain": [
       "(14723, 1)"
      ]
     },
     "execution_count": 18,
     "metadata": {},
     "output_type": "execute_result"
    }
   ],
   "source": [
    "df_4.shape"
   ]
  },
  {
   "cell_type": "code",
   "execution_count": 19,
   "metadata": {},
   "outputs": [],
   "source": [
    "# merging the transpose df with column RegionName\n",
    "df_transpose.columns = df_4.RegionName"
   ]
  },
  {
   "cell_type": "code",
   "execution_count": 21,
   "metadata": {},
   "outputs": [],
   "source": [
    "# chicago code time series\n",
    "df_5 = df_transpose.loc[:, 60657]"
   ]
  },
  {
   "cell_type": "code",
   "execution_count": null,
   "metadata": {},
   "outputs": [],
   "source": [
    "df_transpose.head()"
   ]
  },
  {
   "cell_type": "markdown",
   "metadata": {},
   "source": [
    "# Step 3: Reshape from Wide to Long Format"
   ]
  },
  {
   "cell_type": "code",
   "execution_count": null,
   "metadata": {},
   "outputs": [],
   "source": []
  },
  {
   "cell_type": "code",
   "execution_count": null,
   "metadata": {},
   "outputs": [],
   "source": []
  },
  {
   "cell_type": "code",
   "execution_count": null,
   "metadata": {},
   "outputs": [],
   "source": [
    "def melt_data(df):\n",
    "    melted = pd.melt(df, id_vars=['RegionName', 'City', 'State', 'Metro', 'CountyName'], var_name='time')\n",
    "    melted['time'] = pd.to_datetime(melted['time'], infer_datetime_format=True)\n",
    "    melted = melted.dropna(subset=['value'])\n",
    "    return melted.groupby('time').aggregate({'value':'mean'})"
   ]
  },
  {
   "cell_type": "code",
   "execution_count": null,
   "metadata": {},
   "outputs": [],
   "source": []
  },
  {
   "cell_type": "code",
   "execution_count": null,
   "metadata": {},
   "outputs": [],
   "source": []
  },
  {
   "cell_type": "code",
   "execution_count": null,
   "metadata": {},
   "outputs": [],
   "source": []
  },
  {
   "cell_type": "markdown",
   "metadata": {},
   "source": [
    "# Step 4: EDA and Visualization\n",
    "Perform basic EDA as you would building any model, then create at least 3 visualizations.  At least one of the visualizations should have time on the x-axis.  Axes should be labeled and any text should be legible."
   ]
  },
  {
   "cell_type": "code",
   "execution_count": null,
   "metadata": {},
   "outputs": [],
   "source": [
    "import matplotlib.pyplot as plt\n",
    "\n",
    "font = {'family' : 'normal',\n",
    "        'weight' : 'bold',\n",
    "        'size'   : 22}\n",
    "\n",
    "matplotlib.rc('font', **font)\n",
    "\n",
    "# NOTE: if you visualizations are too cluttered to read, try calling 'plt.gcf().autofmt_xdate()'!"
   ]
  },
  {
   "cell_type": "code",
   "execution_count": 23,
   "metadata": {},
   "outputs": [
    {
     "data": {
      "image/png": "[encoded data removed]",
      "text/plain": [
       "<Figure size 1440x432 with 1 Axes>"
      ]
     },
     "metadata": {
      "needs_background": "light"
     },
     "output_type": "display_data"
    }
   ],
   "source": [
    "df_5.plot(figsize = (20,6), style = \".b\")\n",
    "import matplotlib.pyplot as plt\n",
    "plt.show()\n",
    "# it looks not statinary "
   ]
  },
  {
   "cell_type": "code",
   "execution_count": 24,
   "metadata": {},
   "outputs": [
    {
     "data": {
      "text/plain": [
       "count    2.650000e+02\n",
       "mean     7.439789e+05\n",
       "std      1.908211e+05\n",
       "min      3.342000e+05\n",
       "25%      6.734000e+05\n",
       "50%      7.756000e+05\n",
       "75%      8.899000e+05\n",
       "max      1.033800e+06\n",
       "Name: 60657, dtype: float64"
      ]
     },
     "execution_count": 24,
     "metadata": {},
     "output_type": "execute_result"
    }
   ],
   "source": [
    "df_5.describe()"
   ]
  },
  {
   "cell_type": "code",
   "execution_count": 32,
   "metadata": {},
   "outputs": [
    {
     "data": {
      "text/plain": [
       "pandas.core.series.Series"
      ]
     },
     "execution_count": 32,
     "metadata": {},
     "output_type": "execute_result"
    }
   ],
   "source": [
    "type(df_5)\n"
   ]
  },
  {
   "cell_type": "code",
   "execution_count": 29,
   "metadata": {},
   "outputs": [
    {
     "ename": "TypeError",
     "evalue": "Only valid with DatetimeIndex, TimedeltaIndex or PeriodIndex, but got an instance of 'Index'",
     "output_type": "error",
     "traceback": [
      "\u001b[0;31m---------------------------------------------------------------------------\u001b[0m",
      "\u001b[0;31mTypeError\u001b[0m                                 Traceback (most recent call last)",
      "\u001b[0;32m<ipython-input-29-c2e87045e6fe>\u001b[0m in \u001b[0;36m<module>\u001b[0;34m\u001b[0m\n\u001b[0;32m----> 1\u001b[0;31m \u001b[0myear_groups\u001b[0m \u001b[0;34m=\u001b[0m \u001b[0mdf_5\u001b[0m\u001b[0;34m.\u001b[0m\u001b[0mgroupby\u001b[0m\u001b[0;34m(\u001b[0m\u001b[0mpd\u001b[0m\u001b[0;34m.\u001b[0m\u001b[0mGrouper\u001b[0m\u001b[0;34m(\u001b[0m\u001b[0mfreq\u001b[0m \u001b[0;34m=\u001b[0m\u001b[0;34m'A'\u001b[0m\u001b[0;34m)\u001b[0m\u001b[0;34m)\u001b[0m\u001b[0;34m\u001b[0m\u001b[0;34m\u001b[0m\u001b[0m\n\u001b[0m",
      "\u001b[0;32m/anaconda3/lib/python3.7/site-packages/pandas/core/generic.py\u001b[0m in \u001b[0;36mgroupby\u001b[0;34m(self, by, axis, level, as_index, sort, group_keys, squeeze, observed, **kwargs)\u001b[0m\n\u001b[1;32m   7630\u001b[0m         return groupby(self, by=by, axis=axis, level=level, as_index=as_index,\n\u001b[1;32m   7631\u001b[0m                        \u001b[0msort\u001b[0m\u001b[0;34m=\u001b[0m\u001b[0msort\u001b[0m\u001b[0;34m,\u001b[0m \u001b[0mgroup_keys\u001b[0m\u001b[0;34m=\u001b[0m\u001b[0mgroup_keys\u001b[0m\u001b[0;34m,\u001b[0m \u001b[0msqueeze\u001b[0m\u001b[0;34m=\u001b[0m\u001b[0msqueeze\u001b[0m\u001b[0;34m,\u001b[0m\u001b[0;34m\u001b[0m\u001b[0;34m\u001b[0m\u001b[0m\n\u001b[0;32m-> 7632\u001b[0;31m                        observed=observed, **kwargs)\n\u001b[0m\u001b[1;32m   7633\u001b[0m \u001b[0;34m\u001b[0m\u001b[0m\n\u001b[1;32m   7634\u001b[0m     def asfreq(self, freq, method=None, how=None, normalize=False,\n",
      "\u001b[0;32m/anaconda3/lib/python3.7/site-packages/pandas/core/groupby/groupby.py\u001b[0m in \u001b[0;36mgroupby\u001b[0;34m(obj, by, **kwds)\u001b[0m\n\u001b[1;32m   2108\u001b[0m         \u001b[0;32mraise\u001b[0m \u001b[0mTypeError\u001b[0m\u001b[0;34m(\u001b[0m\u001b[0;34m'invalid type: {}'\u001b[0m\u001b[0;34m.\u001b[0m\u001b[0mformat\u001b[0m\u001b[0;34m(\u001b[0m\u001b[0mobj\u001b[0m\u001b[0;34m)\u001b[0m\u001b[0;34m)\u001b[0m\u001b[0;34m\u001b[0m\u001b[0;34m\u001b[0m\u001b[0m\n\u001b[1;32m   2109\u001b[0m \u001b[0;34m\u001b[0m\u001b[0m\n\u001b[0;32m-> 2110\u001b[0;31m     \u001b[0;32mreturn\u001b[0m \u001b[0mklass\u001b[0m\u001b[0;34m(\u001b[0m\u001b[0mobj\u001b[0m\u001b[0;34m,\u001b[0m \u001b[0mby\u001b[0m\u001b[0;34m,\u001b[0m \u001b[0;34m**\u001b[0m\u001b[0mkwds\u001b[0m\u001b[0;34m)\u001b[0m\u001b[0;34m\u001b[0m\u001b[0;34m\u001b[0m\u001b[0m\n\u001b[0m",
      "\u001b[0;32m/anaconda3/lib/python3.7/site-packages/pandas/core/groupby/groupby.py\u001b[0m in \u001b[0;36m__init__\u001b[0;34m(self, obj, keys, axis, level, grouper, exclusions, selection, as_index, sort, group_keys, squeeze, observed, **kwargs)\u001b[0m\n\u001b[1;32m    358\u001b[0m                                                     \u001b[0msort\u001b[0m\u001b[0;34m=\u001b[0m\u001b[0msort\u001b[0m\u001b[0;34m,\u001b[0m\u001b[0;34m\u001b[0m\u001b[0;34m\u001b[0m\u001b[0m\n\u001b[1;32m    359\u001b[0m                                                     \u001b[0mobserved\u001b[0m\u001b[0;34m=\u001b[0m\u001b[0mobserved\u001b[0m\u001b[0;34m,\u001b[0m\u001b[0;34m\u001b[0m\u001b[0;34m\u001b[0m\u001b[0m\n\u001b[0;32m--> 360\u001b[0;31m                                                     mutated=self.mutated)\n\u001b[0m\u001b[1;32m    361\u001b[0m \u001b[0;34m\u001b[0m\u001b[0m\n\u001b[1;32m    362\u001b[0m         \u001b[0mself\u001b[0m\u001b[0;34m.\u001b[0m\u001b[0mobj\u001b[0m \u001b[0;34m=\u001b[0m \u001b[0mobj\u001b[0m\u001b[0;34m\u001b[0m\u001b[0;34m\u001b[0m\u001b[0m\n",
      "\u001b[0;32m/anaconda3/lib/python3.7/site-packages/pandas/core/groupby/grouper.py\u001b[0m in \u001b[0;36m_get_grouper\u001b[0;34m(obj, key, axis, level, sort, observed, mutated, validate)\u001b[0m\n\u001b[1;32m    476\u001b[0m     \u001b[0;31m# a passed-in Grouper, directly convert\u001b[0m\u001b[0;34m\u001b[0m\u001b[0;34m\u001b[0m\u001b[0;34m\u001b[0m\u001b[0m\n\u001b[1;32m    477\u001b[0m     \u001b[0;32mif\u001b[0m \u001b[0misinstance\u001b[0m\u001b[0;34m(\u001b[0m\u001b[0mkey\u001b[0m\u001b[0;34m,\u001b[0m \u001b[0mGrouper\u001b[0m\u001b[0;34m)\u001b[0m\u001b[0;34m:\u001b[0m\u001b[0;34m\u001b[0m\u001b[0;34m\u001b[0m\u001b[0m\n\u001b[0;32m--> 478\u001b[0;31m         \u001b[0mbinner\u001b[0m\u001b[0;34m,\u001b[0m \u001b[0mgrouper\u001b[0m\u001b[0;34m,\u001b[0m \u001b[0mobj\u001b[0m \u001b[0;34m=\u001b[0m \u001b[0mkey\u001b[0m\u001b[0;34m.\u001b[0m\u001b[0m_get_grouper\u001b[0m\u001b[0;34m(\u001b[0m\u001b[0mobj\u001b[0m\u001b[0;34m,\u001b[0m \u001b[0mvalidate\u001b[0m\u001b[0;34m=\u001b[0m\u001b[0;32mFalse\u001b[0m\u001b[0;34m)\u001b[0m\u001b[0;34m\u001b[0m\u001b[0;34m\u001b[0m\u001b[0m\n\u001b[0m\u001b[1;32m    479\u001b[0m         \u001b[0;32mif\u001b[0m \u001b[0mkey\u001b[0m\u001b[0;34m.\u001b[0m\u001b[0mkey\u001b[0m \u001b[0;32mis\u001b[0m \u001b[0;32mNone\u001b[0m\u001b[0;34m:\u001b[0m\u001b[0;34m\u001b[0m\u001b[0;34m\u001b[0m\u001b[0m\n\u001b[1;32m    480\u001b[0m             \u001b[0;32mreturn\u001b[0m \u001b[0mgrouper\u001b[0m\u001b[0;34m,\u001b[0m \u001b[0;34m[\u001b[0m\u001b[0;34m]\u001b[0m\u001b[0;34m,\u001b[0m \u001b[0mobj\u001b[0m\u001b[0;34m\u001b[0m\u001b[0;34m\u001b[0m\u001b[0m\n",
      "\u001b[0;32m/anaconda3/lib/python3.7/site-packages/pandas/core/resample.py\u001b[0m in \u001b[0;36m_get_grouper\u001b[0;34m(self, obj, validate)\u001b[0m\n\u001b[1;32m   1382\u001b[0m     \u001b[0;32mdef\u001b[0m \u001b[0m_get_grouper\u001b[0m\u001b[0;34m(\u001b[0m\u001b[0mself\u001b[0m\u001b[0;34m,\u001b[0m \u001b[0mobj\u001b[0m\u001b[0;34m,\u001b[0m \u001b[0mvalidate\u001b[0m\u001b[0;34m=\u001b[0m\u001b[0;32mTrue\u001b[0m\u001b[0;34m)\u001b[0m\u001b[0;34m:\u001b[0m\u001b[0;34m\u001b[0m\u001b[0;34m\u001b[0m\u001b[0m\n\u001b[1;32m   1383\u001b[0m         \u001b[0;31m# create the resampler and return our binner\u001b[0m\u001b[0;34m\u001b[0m\u001b[0;34m\u001b[0m\u001b[0;34m\u001b[0m\u001b[0m\n\u001b[0;32m-> 1384\u001b[0;31m         \u001b[0mr\u001b[0m \u001b[0;34m=\u001b[0m \u001b[0mself\u001b[0m\u001b[0;34m.\u001b[0m\u001b[0m_get_resampler\u001b[0m\u001b[0;34m(\u001b[0m\u001b[0mobj\u001b[0m\u001b[0;34m)\u001b[0m\u001b[0;34m\u001b[0m\u001b[0;34m\u001b[0m\u001b[0m\n\u001b[0m\u001b[1;32m   1385\u001b[0m         \u001b[0mr\u001b[0m\u001b[0;34m.\u001b[0m\u001b[0m_set_binner\u001b[0m\u001b[0;34m(\u001b[0m\u001b[0;34m)\u001b[0m\u001b[0;34m\u001b[0m\u001b[0;34m\u001b[0m\u001b[0m\n\u001b[1;32m   1386\u001b[0m         \u001b[0;32mreturn\u001b[0m \u001b[0mr\u001b[0m\u001b[0;34m.\u001b[0m\u001b[0mbinner\u001b[0m\u001b[0;34m,\u001b[0m \u001b[0mr\u001b[0m\u001b[0;34m.\u001b[0m\u001b[0mgrouper\u001b[0m\u001b[0;34m,\u001b[0m \u001b[0mr\u001b[0m\u001b[0;34m.\u001b[0m\u001b[0mobj\u001b[0m\u001b[0;34m\u001b[0m\u001b[0;34m\u001b[0m\u001b[0m\n",
      "\u001b[0;32m/anaconda3/lib/python3.7/site-packages/pandas/core/resample.py\u001b[0m in \u001b[0;36m_get_resampler\u001b[0;34m(self, obj, kind)\u001b[0m\n\u001b[1;32m   1378\u001b[0m         raise TypeError(\"Only valid with DatetimeIndex, \"\n\u001b[1;32m   1379\u001b[0m                         \u001b[0;34m\"TimedeltaIndex or PeriodIndex, \"\u001b[0m\u001b[0;34m\u001b[0m\u001b[0;34m\u001b[0m\u001b[0m\n\u001b[0;32m-> 1380\u001b[0;31m                         \"but got an instance of %r\" % type(ax).__name__)\n\u001b[0m\u001b[1;32m   1381\u001b[0m \u001b[0;34m\u001b[0m\u001b[0m\n\u001b[1;32m   1382\u001b[0m     \u001b[0;32mdef\u001b[0m \u001b[0m_get_grouper\u001b[0m\u001b[0;34m(\u001b[0m\u001b[0mself\u001b[0m\u001b[0;34m,\u001b[0m \u001b[0mobj\u001b[0m\u001b[0;34m,\u001b[0m \u001b[0mvalidate\u001b[0m\u001b[0;34m=\u001b[0m\u001b[0;32mTrue\u001b[0m\u001b[0;34m)\u001b[0m\u001b[0;34m:\u001b[0m\u001b[0;34m\u001b[0m\u001b[0;34m\u001b[0m\u001b[0m\n",
      "\u001b[0;31mTypeError\u001b[0m: Only valid with DatetimeIndex, TimedeltaIndex or PeriodIndex, but got an instance of 'Index'"
     ]
    }
   ],
   "source": [
    "year_groups = df_5.groupby(pd.Grouper(freq ='A'))\n"
   ]
  },
  {
   "cell_type": "code",
   "execution_count": 30,
   "metadata": {},
   "outputs": [
    {
     "ename": "NameError",
     "evalue": "name 'Grouper' is not defined",
     "output_type": "error",
     "traceback": [
      "\u001b[0;31m---------------------------------------------------------------------------\u001b[0m",
      "\u001b[0;31mNameError\u001b[0m                                 Traceback (most recent call last)",
      "\u001b[0;32m<ipython-input-30-73c5fa2ad286>\u001b[0m in \u001b[0;36m<module>\u001b[0;34m\u001b[0m\n\u001b[0;32m----> 1\u001b[0;31m \u001b[0mdf_5\u001b[0m\u001b[0;34m.\u001b[0m\u001b[0mgroupby\u001b[0m\u001b[0;34m(\u001b[0m\u001b[0mGrouper\u001b[0m\u001b[0;34m(\u001b[0m\u001b[0mkey\u001b[0m\u001b[0;34m=\u001b[0m\u001b[0;34m'date'\u001b[0m\u001b[0;34m,\u001b[0m \u001b[0mfreq\u001b[0m\u001b[0;34m=\u001b[0m\u001b[0;34m'60s'\u001b[0m\u001b[0;34m)\u001b[0m\u001b[0;34m)\u001b[0m\u001b[0;34m\u001b[0m\u001b[0;34m\u001b[0m\u001b[0m\n\u001b[0m",
      "\u001b[0;31mNameError\u001b[0m: name 'Grouper' is not defined"
     ]
    }
   ],
   "source": [
    "df_5.groupby(Grouper(key='date', freq='60s'))\n"
   ]
  },
  {
   "cell_type": "code",
   "execution_count": null,
   "metadata": {},
   "outputs": [],
   "source": []
  },
  {
   "cell_type": "code",
   "execution_count": null,
   "metadata": {},
   "outputs": [],
   "source": []
  },
  {
   "cell_type": "markdown",
   "metadata": {},
   "source": [
    "# Step 5: ARIMA Modeling\n",
    "Be sure to validate your model.  Make a forecast for the future and describe the trend."
   ]
  },
  {
   "cell_type": "code",
   "execution_count": null,
   "metadata": {},
   "outputs": [],
   "source": []
  },
  {
   "cell_type": "code",
   "execution_count": null,
   "metadata": {},
   "outputs": [],
   "source": []
  },
  {
   "cell_type": "code",
   "execution_count": null,
   "metadata": {},
   "outputs": [],
   "source": []
  },
  {
   "cell_type": "code",
   "execution_count": null,
   "metadata": {},
   "outputs": [],
   "source": []
  },
  {
   "cell_type": "code",
   "execution_count": null,
   "metadata": {},
   "outputs": [],
   "source": []
  },
  {
   "cell_type": "code",
   "execution_count": null,
   "metadata": {},
   "outputs": [],
   "source": []
  },
  {
   "cell_type": "markdown",
   "metadata": {},
   "source": [
    "# Step 6: Interpreting Results\n",
    "Give a detailed interpretation of results including the relationship between the inputs and output of the model."
   ]
  },
  {
   "cell_type": "code",
   "execution_count": null,
   "metadata": {},
   "outputs": [],
   "source": []
  },
  {
   "cell_type": "code",
   "execution_count": null,
   "metadata": {},
   "outputs": [],
   "source": []
  },
  {
   "cell_type": "code",
   "execution_count": null,
   "metadata": {},
   "outputs": [],
   "source": []
  }
 ],
 "metadata": {
  "kernelspec": {
   "display_name": "Python 3",
   "language": "python",
   "name": "python3"
  },
  "language_info": {
   "codemirror_mode": {
    "name": "ipython",
    "version": 3
   },
   "file_extension": ".py",
   "mimetype": "text/x-python",
   "name": "python",
   "nbconvert_exporter": "python",
   "pygments_lexer": "ipython3",
   "version": "3.7.3"
  }
 },
 "nbformat": 4,
 "nbformat_minor": 2
}
