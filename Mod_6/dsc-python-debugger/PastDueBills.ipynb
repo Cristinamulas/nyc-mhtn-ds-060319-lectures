{
 "cells": [
  {
   "cell_type": "markdown",
   "metadata": {
    "slideshow": {
     "slide_type": "slide"
    }
   },
   "source": []
  },
  {
   "cell_type": "markdown",
   "metadata": {
    "slideshow": {
     "slide_type": "slide"
    }
   },
   "source": [
    "# Debugging for Python"
   ]
  },
  {
   "cell_type": "markdown",
   "metadata": {
    "slideshow": {
     "slide_type": "subslide"
    }
   },
   "source": [
    "### Grace Hopper and The Actual Bug\n",
    "\n",
    "![Actual Bug](BugExample.jpg)"
   ]
  },
  {
   "cell_type": "markdown",
   "metadata": {
    "slideshow": {
     "slide_type": "slide"
    }
   },
   "source": [
    "<table border=\"0\">\n",
    " <tr>\n",
    "    <td><b style=\"font-size:48px; text-align: left\">History of Bugs</b></td>\n",
    "    <td><b style=\"font-size:30px\"></b></td>\n",
    " </tr>\n",
    " <tr>\n",
    "    <td style='width: 60%'><p style=\"font-size:34px\">It has been just so in all of my inventions. The first step is an intuition, and comes with a burst, then difficulties arise—this thing gives out and [it is] then that \"Bugs\"—as such little faults and difficulties are called—show themselves and months of intense watching, study and labor are requisite before commercial success or failure is certainly reached. </p>\n",
    "        <p><b style='font-size:30px'>Thomas Edison, 1878 letter to an associate</b></p></td>\n",
    "    <td><img src=\"https://media.giphy.com/media/UAUtB4Oi9U4EM/giphy.gif\" width=\"640\" height=\"480\" frameBorder=\"0\" />\n",
    "        <p></p>.</td>\n",
    " </tr>\n",
    "</table>"
   ]
  },
  {
   "cell_type": "markdown",
   "metadata": {
    "slideshow": {
     "slide_type": "slide"
    }
   },
   "source": [
    "## Debugging Algorithm"
   ]
  },
  {
   "cell_type": "markdown",
   "metadata": {
    "slideshow": {
     "slide_type": "fragment"
    }
   },
   "source": [
    "* Gather information"
   ]
  },
  {
   "cell_type": "markdown",
   "metadata": {
    "slideshow": {
     "slide_type": "fragment"
    }
   },
   "source": [
    "* Form a hypothesis"
   ]
  },
  {
   "cell_type": "markdown",
   "metadata": {
    "slideshow": {
     "slide_type": "fragment"
    }
   },
   "source": [
    "* Test the hypothesis"
   ]
  },
  {
   "cell_type": "markdown",
   "metadata": {
    "slideshow": {
     "slide_type": "fragment"
    }
   },
   "source": [
    "* Repeat until a hypothesis is proven"
   ]
  },
  {
   "cell_type": "markdown",
   "metadata": {
    "slideshow": {
     "slide_type": "fragment"
    }
   },
   "source": [
    "* Propose a solution"
   ]
  },
  {
   "cell_type": "markdown",
   "metadata": {
    "slideshow": {
     "slide_type": "slide"
    }
   },
   "source": [
    "## PDB (Python Debugger)"
   ]
  },
  {
   "cell_type": "markdown",
   "metadata": {
    "slideshow": {
     "slide_type": "fragment"
    }
   },
   "source": [
    "### Breakpoints\n",
    "Automatically imports pdb and creates a checkpoint within your code"
   ]
  },
  {
   "cell_type": "markdown",
   "metadata": {
    "slideshow": {
     "slide_type": "subslide"
    }
   },
   "source": [
    "### Keywords\n",
    "#### n(ext)\n",
    " * Run to the next line of code"
   ]
  },
  {
   "cell_type": "markdown",
   "metadata": {
    "slideshow": {
     "slide_type": "fragment"
    }
   },
   "source": [
    "breakpoint()\n",
    "\n",
    "df = pandas.read_csv('example.csv')\n",
    "\n",
    "df.describe()"
   ]
  },
  {
   "cell_type": "markdown",
   "metadata": {
    "slideshow": {
     "slide_type": "subslide"
    }
   },
   "source": [
    "#### s(tep)\n",
    " * Step into the next moment"
   ]
  },
  {
   "cell_type": "markdown",
   "metadata": {
    "slideshow": {
     "slide_type": "subslide"
    }
   },
   "source": [
    "breakpoint()\n",
    "\n",
    "df = pandas.read_csv('example.csv')\n",
    "\n",
    "df.describe()"
   ]
  },
  {
   "cell_type": "markdown",
   "metadata": {
    "slideshow": {
     "slide_type": "subslide"
    }
   },
   "source": [
    "#### c(ontinue)\n",
    "* Run until the next breakpoint is hit"
   ]
  },
  {
   "cell_type": "markdown",
   "metadata": {},
   "source": [
    "breakpoint()\n",
    "\n",
    "df = pandas.read_csv('example.csv')\n",
    "\n",
    "df.describe()"
   ]
  },
  {
   "cell_type": "markdown",
   "metadata": {
    "slideshow": {
     "slide_type": "subslide"
    }
   },
   "source": [
    "#### l(ist)\n",
    "* Print out the context of the code line you are in\n",
    "\n",
    "#### pp (pretty print)\n",
    "* Print out a variable in a readable format\n",
    "\n",
    "#### w(here)\n",
    "* Print out the stack trace"
   ]
  },
  {
   "cell_type": "markdown",
   "metadata": {
    "slideshow": {
     "slide_type": "slide"
    }
   },
   "source": [
    "# For Loop Example"
   ]
  },
  {
   "cell_type": "code",
   "execution_count": null,
   "metadata": {
    "scrolled": true,
    "slideshow": {
     "slide_type": "subslide"
    }
   },
   "outputs": [],
   "source": [
    "from IPython.display import clear_output as bye\n",
    "import Ledger\n",
    "bill = 100.0\n",
    "breakpoint()\n",
    "for year in range(1,10):\n",
    "    breakpoint()\n",
    "    bill = Ledger.add_interest(bill)"
   ]
  },
  {
   "cell_type": "markdown",
   "metadata": {
    "slideshow": {
     "slide_type": "subslide"
    }
   },
   "source": [
    "#### b(reak) [ ([filename:]lineno | function) [, condition] ]\n",
    "* b (break) lists all of the breakpoints\n",
    "* b followed by the above conditional sets a new breakpoint"
   ]
  },
  {
   "cell_type": "markdown",
   "metadata": {
    "slideshow": {
     "slide_type": "slide"
    }
   },
   "source": [
    "## Dependence Example"
   ]
  },
  {
   "cell_type": "code",
   "execution_count": 1,
   "metadata": {
    "slideshow": {
     "slide_type": "slide"
    }
   },
   "outputs": [],
   "source": [
    "import Ledger"
   ]
  },
  {
   "cell_type": "code",
   "execution_count": 2,
   "metadata": {
    "slideshow": {
     "slide_type": "fragment"
    }
   },
   "outputs": [
    {
     "name": "stdout",
     "output_type": "stream",
     "text": [
      "You need to pay Farm2Bowl $817.\n"
     ]
    },
    {
     "data": {
      "text/plain": [
       "['Farm2Bowl', 817]"
      ]
     },
     "execution_count": 2,
     "metadata": {},
     "output_type": "execute_result"
    }
   ],
   "source": [
    "Ledger.get_bill()"
   ]
  },
  {
   "cell_type": "code",
   "execution_count": 3,
   "metadata": {
    "scrolled": true,
    "slideshow": {
     "slide_type": "subslide"
    }
   },
   "outputs": [
    {
     "name": "stdout",
     "output_type": "stream",
     "text": [
      "You need to pay DNDBeyond $960.\n",
      "You need to pay WotC $843.\n",
      "You need to pay Farm2Bowl $33.\n",
      "You need to pay DNDBeyond $825.\n"
     ]
    }
   ],
   "source": [
    "bills=[]\n",
    "for i in range(4):\n",
    "    bills.append(Ledger.get_bill())"
   ]
  },
  {
   "cell_type": "code",
   "execution_count": 4,
   "metadata": {
    "slideshow": {
     "slide_type": "fragment"
    }
   },
   "outputs": [
    {
     "name": "stdout",
     "output_type": "stream",
     "text": [
      "Payday! You've got 3000 in the bank.\n",
      "Actually . . .\n",
      "Something went wrong, I guess. ¯\\_(ツ)_/¯\n",
      "$2157 left after paying off WotC for $843\n",
      "Something went wrong, I guess. ¯\\_(ツ)_/¯\n",
      "$1332 left after paying off DNDBeyond for $825\n",
      "Time to spend the remaining $1332!\n"
     ]
    }
   ],
   "source": [
    "Ledger.get_paid(bills)"
   ]
  },
  {
   "cell_type": "code",
   "execution_count": null,
   "metadata": {
    "scrolled": true,
    "slideshow": {
     "slide_type": "subslide"
    }
   },
   "outputs": [
    {
     "name": "stdout",
     "output_type": "stream",
     "text": [
      "--Return--\n",
      "> <ipython-input-7-20227d2986a2>(1)<module>()->None\n",
      "-> breakpoint()\n",
      "(Pdb) h\n",
      "\n",
      "Documented commands (type help <topic>):\n",
      "========================================\n",
      "EOF    c          d        h         list      q        rv       undisplay\n",
      "a      cl         debug    help      ll        quit     s        unt      \n",
      "alias  clear      disable  ignore    longlist  r        source   until    \n",
      "args   commands   display  interact  n         restart  step     up       \n",
      "b      condition  down     j         next      return   tbreak   w        \n",
      "break  cont       enable   jump      p         retval   u        whatis   \n",
      "bt     continue   exit     l         pp        run      unalias  where    \n",
      "\n",
      "Miscellaneous help topics:\n",
      "==========================\n",
      "exec  pdb\n",
      "\n",
      "(Pdb) step\n",
      "> /anaconda3/lib/python3.7/site-packages/IPython/core/interactiveshell.py(3299)run_code()\n",
      "-> sys.excepthook = old_excepthook\n"
     ]
    }
   ],
   "source": [
    "breakpoint()\n",
    "Ledger.get_paid(bills)"
   ]
  },
  {
   "cell_type": "markdown",
   "metadata": {
    "slideshow": {
     "slide_type": "subslide"
    }
   },
   "source": [
    "## Problem:\n",
    "Explore the following code using the breakpoint and figure out what went wrong in the loops:\n",
    "1. Set a breakpoint for when Ledger.get_bill gets called \n",
    "    * Remember jupyter notebooks have a lot of hidden functions running on the stack\n",
    "2. Explore the function stack, check your context, form hypotheses and test them with PDB\n",
    "3. **n**(ext), **s**(tep) and **c**(ontinue) are your best friends"
   ]
  },
  {
   "cell_type": "code",
   "execution_count": null,
   "metadata": {
    "slideshow": {
     "slide_type": "subslide"
    }
   },
   "outputs": [
    {
     "name": "stdout",
     "output_type": "stream",
     "text": [
      "> <ipython-input-1-cf0cea2c6812>(5)<module>()\n",
      "-> bills.append(Ledger.get_bill())\n",
      "(Pdb) step\n",
      "--Call--\n",
      "> /Users/cristinamulas/Documents/code/nyc-mhtn-ds-060319-lectures/Mod_6/dsc-python-debugger/Ledger.py(25)get_bill()\n",
      "-> def get_bill():\n",
      "(Pdb) h\n",
      "\n",
      "Documented commands (type help <topic>):\n",
      "========================================\n",
      "EOF    c          d        h         list      q        rv       undisplay\n",
      "a      cl         debug    help      ll        quit     s        unt      \n",
      "alias  clear      disable  ignore    longlist  r        source   until    \n",
      "args   commands   display  interact  n         restart  step     up       \n",
      "b      condition  down     j         next      return   tbreak   w        \n",
      "break  cont       enable   jump      p         retval   u        whatis   \n",
      "bt     continue   exit     l         pp        run      unalias  where    \n",
      "\n",
      "Miscellaneous help topics:\n",
      "==========================\n",
      "exec  pdb\n",
      "\n",
      "(Pdb) debug\n",
      "ENTERING RECURSIVE DEBUGGER\n",
      "> <string>(1)<module>()\n",
      "((Pdb)) \n",
      "LEAVING RECURSIVE DEBUGGER\n",
      "(Pdb) clear\n",
      "Clear all breaks? n\n",
      "(Pdb) step\n",
      "> /Users/cristinamulas/Documents/code/nyc-mhtn-ds-060319-lectures/Mod_6/dsc-python-debugger/Ledger.py(26)get_bill()\n",
      "-> bill = bills.generate()\n",
      "(Pdb) c\n",
      "You need to pay MiniatureMarket $216.\n",
      "> <ipython-input-1-cf0cea2c6812>(4)<module>()\n",
      "-> breakpoint()\n",
      "(Pdb) n\n",
      "> <ipython-input-1-cf0cea2c6812>(5)<module>()\n",
      "-> bills.append(Ledger.get_bill())\n",
      "(Pdb) step\n",
      "--Call--\n",
      "> /Users/cristinamulas/Documents/code/nyc-mhtn-ds-060319-lectures/Mod_6/dsc-python-debugger/Ledger.py(25)get_bill()\n",
      "-> def get_bill():\n",
      "(Pdb) c\n",
      "You need to pay DNDBeyond $610.\n",
      "> <ipython-input-1-cf0cea2c6812>(4)<module>()\n",
      "-> breakpoint()\n"
     ]
    }
   ],
   "source": [
    "import Ledger\n",
    "bills=[]\n",
    "for i in range(1,5):\n",
    "    breakpoint()\n",
    "    bills.append(Ledger.get_bill())"
   ]
  },
  {
   "cell_type": "markdown",
   "metadata": {
    "slideshow": {
     "slide_type": "notes"
    }
   },
   "source": [
    "## Resources\n",
    "https://www.slideshare.net/svilen.ivanov/the-art-of-debugging\n",
    "\n",
    "https://www.cse.unr.edu/~bebis/CS308/PowerPoint/DEBUGGING.ppt"
   ]
  }
 ],
 "metadata": {
  "celltoolbar": "Slideshow",
  "kernelspec": {
   "display_name": "Python 3",
   "language": "python",
   "name": "python3"
  },
  "language_info": {
   "codemirror_mode": {
    "name": "ipython",
    "version": 3
   },
   "file_extension": ".py",
   "mimetype": "text/x-python",
   "name": "python",
   "nbconvert_exporter": "python",
   "pygments_lexer": "ipython3",
   "version": "3.7.3"
  }
 },
 "nbformat": 4,
 "nbformat_minor": 2
}
